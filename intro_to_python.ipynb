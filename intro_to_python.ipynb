{
 "cells": [
  {
   "cell_type": "code",
   "execution_count": 22,
   "metadata": {
    "collapsed": false,
    "slideshow": {
     "slide_type": "skip"
    }
   },
   "outputs": [],
   "source": [
    "%matplotlib notebook\n",
    "from matplotlib.pyplot import *\n",
    "import numpy"
   ]
  },
  {
   "cell_type": "markdown",
   "metadata": {
    "slideshow": {
     "slide_type": "slide"
    }
   },
   "source": [
    "<center><font size=40>An Introduction to:</font size=60>"
   ]
  },
  {
   "cell_type": "markdown",
   "metadata": {},
   "source": [
    "<img src=\"images/python_logo.png\">"
   ]
  },
  {
   "cell_type": "markdown",
   "metadata": {},
   "source": [
    "<center><font size=6>[Ben Rusholme](mailto:rusholme@caltech.edu)<br><br>\n",
    "IPAC<br><br>\n",
    "2016-04-07<br><br>\n",
    "https://github.com/rusholme/intro_to_python"
   ]
  },
  {
   "cell_type": "markdown",
   "metadata": {
    "slideshow": {
     "slide_type": "slide"
    }
   },
   "source": [
    "## Table of Contents\n",
    "\n",
    "[Introduction](#Introduction)<br>\n",
    "[Installation](#Installation)<br>\n",
    "[Running Python](#Running Python)<br>\n",
    "[Basic Syntax](#Basic Syntax)<br>\n",
    "[Namespaces](#Namespaces)<br>\n",
    "[Compound Statements](#Compound Statements)<br>\n",
    "[File I/O](#File I/O)<br>\n",
    "[Plotting](#Plotting)<br>\n",
    "[Tips, Tricks & Gotchas](#Tips, Tricks & Gotchas)<br>\n",
    "[To Conclude](#To Conclude)<br>"
   ]
  },
  {
   "cell_type": "markdown",
   "metadata": {
    "slideshow": {
     "slide_type": "slide"
    }
   },
   "source": [
    "# <a id='Introduction'></a> <center>Introduction</center>"
   ]
  },
  {
   "cell_type": "markdown",
   "metadata": {},
   "source": [
    "## Purpose\n",
    "\n",
    "* 120 min introduction to Python, O(50) people\n",
    "* You will ***not*** learn Python in this session\n",
    "* To learn work through tutorials such as:\n",
    "    - [Software Carpentry](http://swcarpentry.github.io/python-novice-inflammation)\n",
    "    - [Codecademy](https://www.codecademy.com/learn/python)\n",
    "    - [Google University](https://developers.google.com/edu/python/?hl=en)\n",
    "    - [Think Python](http://www.greenteapress.com/thinkpython/thinkpython.html )\n",
    "    - [Python for Scientific Computing](http://indranilsinharoy.com/2013/01/06/python-for-scientific-computing-a-collection-of-resources/)\n",
    "* Hopefully this session will smooth your journey\n",
    "* I will cover a lot of material at high speed\n",
    "* I am assuming you currently use IDL"
   ]
  },
  {
   "cell_type": "markdown",
   "metadata": {
    "slideshow": {
     "slide_type": "slide"
    }
   },
   "source": [
    "## Questions to Answer?\n",
    "\n",
    "* What software is available?\n",
    "* How do I get everything I need everywhere I work?\n",
    "* What are the basics?\n",
    "* How do I read in my data?\n",
    "* How do I make plots?\n",
    "* What are the differences from IDL?\n",
    "* What are the potential problems?"
   ]
  },
  {
   "cell_type": "markdown",
   "metadata": {
    "slideshow": {
     "slide_type": "slide"
    }
   },
   "source": [
    "## About this Presentation\n",
    "\n",
    "* This presentation is written in the Jupyter (formerly IPython) notebook\n",
    "* Live slides are using the RISE extension https://github.com/damianavila/RISE"
   ]
  },
  {
   "cell_type": "code",
   "execution_count": 23,
   "metadata": {
    "collapsed": false
   },
   "outputs": [
    {
     "name": "stdout",
     "output_type": "stream",
     "text": [
      "Hello World!\n"
     ]
    }
   ],
   "source": [
    "print('Hello World!')"
   ]
  },
  {
   "cell_type": "markdown",
   "metadata": {},
   "source": [
    "* This is the first time I have used Jupyter slides ...\n",
    "* This notebook is available https://github.com/rusholme/intro_to_python\n",
    "* NB: This is not how I regularly work in Python!"
   ]
  },
  {
   "cell_type": "markdown",
   "metadata": {
    "slideshow": {
     "slide_type": "slide"
    }
   },
   "source": [
    "## Why Python?\n",
    "\n",
    "* It’s ***free***! (install everywhere, run processing in parallel)\n",
    "* Everyone else is using it (libraries, local help…)\n",
    "* Multiple interpreters for integration with other languages\n",
    "* Highly extensible, object orientated\n",
    "* Designed for clean, concise, readable syntax"
   ]
  },
  {
   "cell_type": "markdown",
   "metadata": {},
   "source": [
    "## Disadvantages\n",
    "\n",
    "* Managing modules\n",
    "* Modules can make (unexpectedly) significant changes\n",
    "* Performance (vs compiled languages)\n",
    "* Reference CPython interpreter is single threaded (GIL)"
   ]
  },
  {
   "cell_type": "markdown",
   "metadata": {
    "slideshow": {
     "slide_type": "slide"
    }
   },
   "source": [
    "## How I Use Python\n",
    "\n",
    "* I am a physicist with no formal computer science training\n",
    "* Past projects have used FORTRAN, C, IDL, Bash...\n",
    "* Picked up Python as went along working on Planck\n",
    "* Use as a \"swiss-army knife\" for scripting, data processing, numerical analysis & visulization\n",
    "* ***Really*** got into Python for parallel batch data processing"
   ]
  },
  {
   "cell_type": "markdown",
   "metadata": {
    "slideshow": {
     "slide_type": "slide"
    }
   },
   "source": [
    "# <a id='Installation'></a> <center>Installation</center>"
   ]
  },
  {
   "cell_type": "markdown",
   "metadata": {
    "slideshow": {
     "slide_type": "slide"
    }
   },
   "source": [
    "## TL;DR\n",
    "\n",
    "[Install Continuum Anaconda](http://continuum.io/downloads)"
   ]
  },
  {
   "cell_type": "markdown",
   "metadata": {
    "slideshow": {
     "slide_type": "slide"
    }
   },
   "source": [
    "## The Python Ecosystem\n",
    "\n",
    "\n",
    "<img src=\"images/python_stack.png\" width='80%' align=\"middle\">"
   ]
  },
  {
   "cell_type": "markdown",
   "metadata": {
    "slideshow": {
     "slide_type": "slide"
    }
   },
   "source": [
    "## Distributions\n",
    "\n",
    "* [Anaconda](https://store.continuum.io/cshop/anaconda) - Continuum Analytics (conda, mini-conda...)\n",
    "* [Canopy](https://store.enthought.com) - Enthought\n",
    "* [Ureka](http://ssb.stsci.edu/ureka) - STSci & Gemini\n",
    "\n",
    "Can also install via OS tools:\n",
    "* OSX - Macports, Homebrew\n",
    "* Linux - Yum, apt-get … "
   ]
  },
  {
   "cell_type": "markdown",
   "metadata": {
    "slideshow": {
     "slide_type": "slide"
    }
   },
   "source": [
    "## Interpreter: v2 vs v3?\n",
    "\n",
    "Python v3 ( released December, 2008) is not backward compatible with v2. Three major changes:\n",
    "* `print` statement became function `print()`\n",
    "* All `ints` are automatically `long`\n",
    "* float division (`3/2=1` became `3/2=1.5`, use `3//2=1` for integer/floor)\n",
    "\n",
    "Python v2 no longer getting new features, only bug/security updates until 2020. \n",
    "\n",
    "It has taken (lots of) time for the external packages to catch up. IMHO we are finally at the tipping point for v2 -> v3 migration for new projects. However existing v2 code is still fine!\n",
    "\n",
    "This notebook works in both v2 & v3\n",
    "\n",
    "<font color='red'>***I will show you how to install both v2 & v3 together with conda***</font>\n",
    "\n"
   ]
  },
  {
   "cell_type": "markdown",
   "metadata": {
    "slideshow": {
     "slide_type": "slide"
    }
   },
   "source": [
    "## Interpreter: Language Implementations\n",
    "\n",
    "The reference interpreter is CPython, coded in C. There are other implementations:\n",
    "\n",
    "* Stackless - concurrency using tasklets and channels\n",
    "* PyPy - Python in Python\n",
    "* Jython - Python in Java\n",
    "* IronPython - Python in C# (.NET)\n",
    "\n",
    "You should know that these exist, but shouldn’t need them\n",
    " \n",
    "NB: CPython != Cython "
   ]
  },
  {
   "cell_type": "markdown",
   "metadata": {
    "slideshow": {
     "slide_type": "slide"
    }
   },
   "source": [
    "## Standard Library\n",
    "\n",
    "Contains O(100) modules. For full list see:\n",
    "https://docs.python.org/2/library/\n",
    "\n",
    "\n",
    "Most useful:\n",
    "\n",
    "|Category   |Name|\n",
    "|-----------|--|\n",
    "|Datatypes  | collections, copy, datetime, queue|\n",
    "|Numeric    | math, random|\n",
    "|Files      | csv, (c)pickle| \n",
    "|OS         | glob, os, subprocess, time|\n",
    "|Language   | ` __future__`, 2to3, itertools, multiprocessing, pdb, (c)profile| "
   ]
  },
  {
   "cell_type": "markdown",
   "metadata": {
    "slideshow": {
     "slide_type": "slide"
    }
   },
   "source": [
    "## PyPI - The Python Package Index\n",
    "<!---\n",
    "<img src=\"images/pypi.png\">\n",
    "--->"
   ]
  },
  {
   "cell_type": "markdown",
   "metadata": {
    "collapsed": false,
    "slideshow": {
     "slide_type": "-"
    }
   },
   "source": [
    "<img src=\"images/pypi.png\">"
   ]
  },
  {
   "cell_type": "markdown",
   "metadata": {
    "slideshow": {
     "slide_type": "slide"
    }
   },
   "source": [
    "## External: The Big 4\n",
    "\n",
    "NB: All part of SciPy project\n",
    "\n",
    "| Name   | Logo    | Description |\n",
    "|------|---|-------------|\n",
    "| IPython | <img src=\"images/ipython_logo.png\"> | Enhanced interactive console |\n",
    "| Matplotlib | <img src=\"images/matplotlib_logo.png\"> | Comprehensive 2D plotting |\n",
    "| Numpy | <img src=\"images/numpy_logo.png\">  | Base N-dimensional array package |\n",
    "| Pandas | <img src=\"images/pandas.jpg\">  | Data structures & analysis |\n"
   ]
  },
  {
   "cell_type": "markdown",
   "metadata": {
    "slideshow": {
     "slide_type": "slide"
    }
   },
   "source": [
    "## External: Other Important\n",
    "\n",
    "|Name |Description|\n",
    "|--|--|\n",
    "|astropy      | Astronomy |\n",
    "|cython       | C extensions |\n",
    "|healpy       | HEALPix |\n",
    "|h5py         | HDF5 |\n",
    "|mpi4py       | Message-passing parallelism |\n",
    "|nose         | Unit testing |\n",
    "|pandas       | Data structures and analysis (competitor to R) |\n",
    "|pep8         | Style checking |\n",
    "|pip          | Package installation |\n",
    "|pyfits       | FITs files |\n",
    "|pyraf        | IRAF |\n",
    "|scikit-learn | Machine learning |\n",
    "|scikit-image | Image processing |\n",
    "|scipy        | Scientific codes |\n",
    "|sympy        | Symbolic mathematics |\n",
    "|virtualenv   | Environment virtualization |\n",
    "|yt           | Simulation visualization |"
   ]
  },
  {
   "cell_type": "markdown",
   "metadata": {
    "slideshow": {
     "slide_type": "slide"
    }
   },
   "source": [
    "## Installing Modules\n",
    "\n",
    "Package manager:\n",
    "* Conda: `conda install <package>`\n",
    "* Macports: `port install <package>`\n",
    "\n",
    "pip:\n",
    "* `pip install <package>`\n",
    "\n",
    "By hand:\n",
    "* `python setup.py install`\n",
    "\n",
    "\n",
    "Installed to: `<sys.prefix>/lib/python<sys.version_info>/site-packages` "
   ]
  },
  {
   "cell_type": "markdown",
   "metadata": {
    "slideshow": {
     "slide_type": "slide"
    }
   },
   "source": [
    "## Repeatable Installations\n",
    "\n",
    "* `pip freeze > requirements.txt`\n",
    "* `pip install -r requirements.txt`"
   ]
  },
  {
   "cell_type": "raw",
   "metadata": {},
   "source": [
    "pip freeze | head\n",
    "altgraph==0.12\n",
    "APLpy==0.9.14\n",
    "astropy==0.4.4\n",
    "ATpy==0.9.7\n",
    "backports==1.0\n",
    "backports.ssl-match-hostname==3.4.0.2\n",
    "Beaker==1.6.4\n",
    "certifi==14.5.14\n",
    "Cython==0.21.2\n",
    "docutils==0.12 "
   ]
  },
  {
   "cell_type": "markdown",
   "metadata": {
    "slideshow": {
     "slide_type": "slide"
    }
   },
   "source": [
    "## Virtual Environments\n",
    "\n",
    "If virtualenv module installed:"
   ]
  },
  {
   "cell_type": "raw",
   "metadata": {},
   "source": [
    "cd my_project_folder\n",
    "virtualenv my_project\n",
    "source my_project/bin/activate\n",
    "pip install -r requirements.txt\n",
    "deactivate\n",
    "rm -rf my_project"
   ]
  },
  {
   "cell_type": "markdown",
   "metadata": {
    "slideshow": {
     "slide_type": "subslide"
    }
   },
   "source": [
    "Can be run from source if neither installed nor install permissions:"
   ]
  },
  {
   "cell_type": "raw",
   "metadata": {},
   "source": [
    "curl -O https://pypi.python.org/packages/source/v/virtualenv/virtualenv.X.X.tar.gz\n",
    "tar -xzf virtualenv-X.X.tar.gz\n",
    "cd virtualenv-X.X\n",
    "python virtualenv.py my_project\n",
    "source my_project/bin/activate\n",
    "deactivate\n",
    "rm -rf my_project"
   ]
  },
  {
   "cell_type": "markdown",
   "metadata": {
    "slideshow": {
     "slide_type": "subslide"
    }
   },
   "source": [
    "Conda has similiar functionality:"
   ]
  },
  {
   "cell_type": "raw",
   "metadata": {},
   "source": [
    "conda create -n ENV anaconda\n",
    "source activate ENV\n",
    "source deactivate\n",
    "conda remove --all -n ENV"
   ]
  },
  {
   "cell_type": "markdown",
   "metadata": {},
   "source": [
    "I use conda's virtual environments to switch between Python v2 & v3 on my laptop, see (http://continuum.io/blog/anaconda-python-3)"
   ]
  },
  {
   "cell_type": "markdown",
   "metadata": {
    "slideshow": {
     "slide_type": "slide"
    }
   },
   "source": [
    "# <a id='Running Python'></a> <center>Running Python</center>"
   ]
  },
  {
   "cell_type": "markdown",
   "metadata": {
    "slideshow": {
     "slide_type": "slide"
    }
   },
   "source": [
    "## Direct Interpreter"
   ]
  },
  {
   "cell_type": "raw",
   "metadata": {},
   "source": [
    "$ # Interactive interpreter\n",
    "$ python\n",
    "Python 2.7.9 (default, Dec 11 2014, 02:36:08)\n",
    "[GCC 4.2.1 Compatible Apple LLVM 5.1 (clang-503.0.40)] on darwin\n",
    "Type \"help\", \"copyright\", \"credits\" or \"license\" for more information.\n",
    ">>> print 'hello'\n",
    "hello\n",
    ">>> exit\n",
    "Use exit() or Ctrl-D (i.e. EOF) to exit\n",
    ">>> exit()\n",
    "\n",
    "# Running a script\n",
    "$ cat script.py\n",
    "print 'hello'\n",
    "$ python script.py\n",
    "hello\n",
    "\n",
    "$ # Run command(s)\n",
    "$ VAR=GOODBYE\n",
    "$ python -c \"print ‘hello'; print '$VAR'\"\n",
    "hello\n",
    "GOODBYE\n",
    "\n",
    "$ # Shell redirection\n",
    "$ cat script.py | python\n",
    "hello"
   ]
  },
  {
   "cell_type": "markdown",
   "metadata": {
    "slideshow": {
     "slide_type": "slide"
    }
   },
   "source": [
    "## IPython\n",
    "\n",
    "* Command shell wrapper around the interpreter\n",
    "* Enhanced REPL\n",
    "* Can embed in scripts (== IDL STOP)\n",
    "* Browser-based notebook with inline plots\n",
    "* Parallel execution of commands and scripts\n",
    "\n",
    "Notes:\n",
    "* --pylab option deprecated\n",
    "* Non-Python parts recently spun off into Jupyter"
   ]
  },
  {
   "cell_type": "markdown",
   "metadata": {
    "slideshow": {
     "slide_type": "slide"
    }
   },
   "source": [
    "### REPL\n",
    "\n",
    "* Command history/searching\n",
    "* Tab completion\n",
    "* ?/??/help() for info/help\n",
    "* ! system escape\n",
    "* Input/output caching (_#)\n",
    "* % “magic” methods:\n",
    "\n",
    "|Command | Description |\n",
    "|--|--|\n",
    "|%run (-t, -d, -p) `<script.py>` |Run script   | \n",
    "|%timeit                       |Time command     |\n",
    "|%cpaste                       |Indented cut and paste |\n",
    "|%who(s)                       |Examine namespace      |"
   ]
  },
  {
   "cell_type": "code",
   "execution_count": 24,
   "metadata": {
    "collapsed": false,
    "slideshow": {
     "slide_type": "slide"
    }
   },
   "outputs": [
    {
     "data": {
      "application/json": {
       "cell": {
        "!": "OSMagics",
        "HTML": "Other",
        "SVG": "Other",
        "bash": "Other",
        "capture": "ExecutionMagics",
        "debug": "ExecutionMagics",
        "file": "Other",
        "html": "DisplayMagics",
        "javascript": "DisplayMagics",
        "latex": "DisplayMagics",
        "perl": "Other",
        "prun": "ExecutionMagics",
        "pypy": "Other",
        "python": "Other",
        "python2": "Other",
        "python3": "Other",
        "ruby": "Other",
        "script": "ScriptMagics",
        "sh": "Other",
        "svg": "DisplayMagics",
        "sx": "OSMagics",
        "system": "OSMagics",
        "time": "ExecutionMagics",
        "timeit": "ExecutionMagics",
        "writefile": "OSMagics"
       },
       "line": {
        "alias": "OSMagics",
        "alias_magic": "BasicMagics",
        "autocall": "AutoMagics",
        "automagic": "AutoMagics",
        "autosave": "KernelMagics",
        "bookmark": "OSMagics",
        "cat": "Other",
        "cd": "OSMagics",
        "clear": "KernelMagics",
        "colors": "BasicMagics",
        "config": "ConfigMagics",
        "connect_info": "KernelMagics",
        "cp": "Other",
        "debug": "ExecutionMagics",
        "dhist": "OSMagics",
        "dirs": "OSMagics",
        "doctest_mode": "BasicMagics",
        "ed": "Other",
        "edit": "KernelMagics",
        "env": "OSMagics",
        "gui": "BasicMagics",
        "hist": "Other",
        "history": "HistoryMagics",
        "install_default_config": "DeprecatedMagics",
        "install_ext": "ExtensionMagics",
        "install_profiles": "DeprecatedMagics",
        "killbgscripts": "ScriptMagics",
        "ldir": "Other",
        "less": "KernelMagics",
        "lf": "Other",
        "lk": "Other",
        "ll": "Other",
        "load": "CodeMagics",
        "load_ext": "ExtensionMagics",
        "loadpy": "CodeMagics",
        "logoff": "LoggingMagics",
        "logon": "LoggingMagics",
        "logstart": "LoggingMagics",
        "logstate": "LoggingMagics",
        "logstop": "LoggingMagics",
        "ls": "Other",
        "lsmagic": "BasicMagics",
        "lx": "Other",
        "macro": "ExecutionMagics",
        "magic": "BasicMagics",
        "man": "KernelMagics",
        "matplotlib": "PylabMagics",
        "mkdir": "Other",
        "more": "KernelMagics",
        "mv": "Other",
        "notebook": "BasicMagics",
        "page": "BasicMagics",
        "pastebin": "CodeMagics",
        "pdb": "ExecutionMagics",
        "pdef": "NamespaceMagics",
        "pdoc": "NamespaceMagics",
        "pfile": "NamespaceMagics",
        "pinfo": "NamespaceMagics",
        "pinfo2": "NamespaceMagics",
        "popd": "OSMagics",
        "pprint": "BasicMagics",
        "precision": "BasicMagics",
        "profile": "BasicMagics",
        "prun": "ExecutionMagics",
        "psearch": "NamespaceMagics",
        "psource": "NamespaceMagics",
        "pushd": "OSMagics",
        "pwd": "OSMagics",
        "pycat": "OSMagics",
        "pylab": "PylabMagics",
        "qtconsole": "KernelMagics",
        "quickref": "BasicMagics",
        "recall": "HistoryMagics",
        "rehashx": "OSMagics",
        "reload_ext": "ExtensionMagics",
        "rep": "Other",
        "rerun": "HistoryMagics",
        "reset": "NamespaceMagics",
        "reset_selective": "NamespaceMagics",
        "rm": "Other",
        "rmdir": "Other",
        "run": "ExecutionMagics",
        "save": "CodeMagics",
        "sc": "OSMagics",
        "set_env": "OSMagics",
        "store": "StoreMagics",
        "sx": "OSMagics",
        "system": "OSMagics",
        "tb": "ExecutionMagics",
        "time": "ExecutionMagics",
        "timeit": "ExecutionMagics",
        "unalias": "OSMagics",
        "unload_ext": "ExtensionMagics",
        "who": "NamespaceMagics",
        "who_ls": "NamespaceMagics",
        "whos": "NamespaceMagics",
        "xdel": "NamespaceMagics",
        "xmode": "BasicMagics"
       }
      },
      "text/plain": [
       "Available line magics:\n",
       "%alias  %alias_magic  %autocall  %automagic  %autosave  %bookmark  %cat  %cd  %clear  %colors  %config  %connect_info  %cp  %debug  %dhist  %dirs  %doctest_mode  %ed  %edit  %env  %gui  %hist  %history  %install_default_config  %install_ext  %install_profiles  %killbgscripts  %ldir  %less  %lf  %lk  %ll  %load  %load_ext  %loadpy  %logoff  %logon  %logstart  %logstate  %logstop  %ls  %lsmagic  %lx  %macro  %magic  %man  %matplotlib  %mkdir  %more  %mv  %notebook  %page  %pastebin  %pdb  %pdef  %pdoc  %pfile  %pinfo  %pinfo2  %popd  %pprint  %precision  %profile  %prun  %psearch  %psource  %pushd  %pwd  %pycat  %pylab  %qtconsole  %quickref  %recall  %rehashx  %reload_ext  %rep  %rerun  %reset  %reset_selective  %rm  %rmdir  %run  %save  %sc  %set_env  %store  %sx  %system  %tb  %time  %timeit  %unalias  %unload_ext  %who  %who_ls  %whos  %xdel  %xmode\n",
       "\n",
       "Available cell magics:\n",
       "%%!  %%HTML  %%SVG  %%bash  %%capture  %%debug  %%file  %%html  %%javascript  %%latex  %%perl  %%prun  %%pypy  %%python  %%python2  %%python3  %%ruby  %%script  %%sh  %%svg  %%sx  %%system  %%time  %%timeit  %%writefile\n",
       "\n",
       "Automagic is ON, % prefix IS NOT needed for line magics."
      ]
     },
     "execution_count": 24,
     "metadata": {},
     "output_type": "execute_result"
    }
   ],
   "source": [
    "%lsmagic"
   ]
  },
  {
   "cell_type": "markdown",
   "metadata": {
    "slideshow": {
     "slide_type": "slide"
    }
   },
   "source": [
    "### Notebook\n",
    "\n",
    "\"Web-based interactive computational environment where you can combine code execution, text, mathematics, plots and rich media into a single document\" \n",
    "\n",
    "\n",
    "Excels for prototyping, data examination, remote work & presentations\n",
    "\n",
    "\n",
    "Cells can be:\n",
    "* Code\n",
    "* Markdown\n",
    "* Header\n",
    "* Raw\n",
    "\n",
    "Press `'h'` for list of keyboard commands"
   ]
  },
  {
   "cell_type": "markdown",
   "metadata": {
    "slideshow": {
     "slide_type": "slide"
    }
   },
   "source": [
    "### LaTeX"
   ]
  },
  {
   "cell_type": "code",
   "execution_count": 25,
   "metadata": {
    "collapsed": false
   },
   "outputs": [
    {
     "data": {
      "text/latex": [
       "\\begin{eqnarray}\n",
       "\\nabla \\times \\vec{\\mathbf{B}} -\\, \\frac1c\\, \\frac{\\partial\\vec{\\mathbf{E}}}{\\partial t} & = \\frac{4\\pi}{c}\\vec{\\mathbf{j}} \\\\\n",
       "\\nabla \\cdot \\vec{\\mathbf{E}} & = 4 \\pi \\rho \\\\\n",
       "\\nabla \\times \\vec{\\mathbf{E}}\\, +\\, \\frac1c\\, \\frac{\\partial\\vec{\\mathbf{B}}}{\\partial t} & = \\vec{\\mathbf{0}} \\\\\n",
       "\\nabla \\cdot \\vec{\\mathbf{B}} & = 0 \n",
       "\\end{eqnarray}"
      ],
      "text/plain": [
       "<IPython.core.display.Latex object>"
      ]
     },
     "execution_count": 25,
     "metadata": {},
     "output_type": "execute_result"
    }
   ],
   "source": [
    "from IPython.display import Latex\n",
    "Latex(r\"\"\"\\begin{eqnarray}\n",
    "\\nabla \\times \\vec{\\mathbf{B}} -\\, \\frac1c\\, \\frac{\\partial\\vec{\\mathbf{E}}}{\\partial t} & = \\frac{4\\pi}{c}\\vec{\\mathbf{j}} \\\\\n",
    "\\nabla \\cdot \\vec{\\mathbf{E}} & = 4 \\pi \\rho \\\\\n",
    "\\nabla \\times \\vec{\\mathbf{E}}\\, +\\, \\frac1c\\, \\frac{\\partial\\vec{\\mathbf{B}}}{\\partial t} & = \\vec{\\mathbf{0}} \\\\\n",
    "\\nabla \\cdot \\vec{\\mathbf{B}} & = 0 \n",
    "\\end{eqnarray}\"\"\")"
   ]
  },
  {
   "cell_type": "markdown",
   "metadata": {
    "slideshow": {
     "slide_type": "slide"
    }
   },
   "source": [
    "# <a id='Basic Syntax'></a> <center>Basic Syntax</center>"
   ]
  },
  {
   "cell_type": "markdown",
   "metadata": {
    "slideshow": {
     "slide_type": "slide"
    }
   },
   "source": [
    "### Operators - Arithmetic & Assignment\n",
    "\n",
    "|Operator ||Assignment||\n",
    "|:--:|--|:--:|--|\n",
    "|   |   | = | |\n",
    "|+  |   | += | increment |\n",
    "|-  |   | -= | decrement |\n",
    "|`*` |  | `*=` | |\n",
    "|`/` |  | `/=` | |\n",
    "|`//` | floor  | `//=` | |\n",
    "|`%` | modulo | `%=` | |\n",
    "|`**` | power (**NOT `^`**)  | `**=` | |\n",
    "| | | a = b = 1 | multiple |\n",
    "| | | a, b = 1, 2 | |"
   ]
  },
  {
   "cell_type": "code",
   "execution_count": 26,
   "metadata": {
    "collapsed": false,
    "slideshow": {
     "slide_type": "-"
    }
   },
   "outputs": [
    {
     "name": "stdout",
     "output_type": "stream",
     "text": [
      "30\n"
     ]
    }
   ],
   "source": [
    "a = 3\n",
    "a += 27\n",
    "print(a)"
   ]
  },
  {
   "cell_type": "code",
   "execution_count": 27,
   "metadata": {
    "collapsed": false
   },
   "outputs": [
    {
     "name": "stdout",
     "output_type": "stream",
     "text": [
      "3 1\n"
     ]
    }
   ],
   "source": [
    "q, m = divmod(10,3)\n",
    "print(q, m)"
   ]
  },
  {
   "cell_type": "markdown",
   "metadata": {
    "slideshow": {
     "slide_type": "slide"
    }
   },
   "source": [
    "### Operators - Logical"
   ]
  },
  {
   "cell_type": "raw",
   "metadata": {},
   "source": [
    "and\n",
    "or\n",
    "not"
   ]
  },
  {
   "cell_type": "markdown",
   "metadata": {},
   "source": [
    "### Operators - Membership"
   ]
  },
  {
   "cell_type": "raw",
   "metadata": {},
   "source": [
    "in\n",
    "not in"
   ]
  },
  {
   "cell_type": "code",
   "execution_count": 28,
   "metadata": {
    "collapsed": false
   },
   "outputs": [
    {
     "data": {
      "text/plain": [
       "False"
      ]
     },
     "execution_count": 28,
     "metadata": {},
     "output_type": "execute_result"
    }
   ],
   "source": [
    "'i' in 'team'"
   ]
  },
  {
   "cell_type": "markdown",
   "metadata": {
    "slideshow": {
     "slide_type": "slide"
    }
   },
   "source": [
    "### Operators - Identity"
   ]
  },
  {
   "cell_type": "raw",
   "metadata": {},
   "source": [
    "is\n",
    "is not"
   ]
  },
  {
   "cell_type": "code",
   "execution_count": 29,
   "metadata": {
    "collapsed": false
   },
   "outputs": [
    {
     "data": {
      "text/plain": [
       "False"
      ]
     },
     "execution_count": 29,
     "metadata": {},
     "output_type": "execute_result"
    }
   ],
   "source": [
    "2 is 2.0"
   ]
  },
  {
   "cell_type": "markdown",
   "metadata": {},
   "source": [
    "### Operators - Comparison"
   ]
  },
  {
   "cell_type": "raw",
   "metadata": {},
   "source": [
    "==\n",
    "!=\n",
    "<\n",
    ">\n",
    "<=\n",
    ">="
   ]
  },
  {
   "cell_type": "markdown",
   "metadata": {
    "slideshow": {
     "slide_type": "slide"
    }
   },
   "source": [
    "### Operators - Bitwise/Binary\n",
    "\n",
    "|Symbol |Operation |\n",
    "|:--:|--|\n",
    "|`&` | AND |\n",
    "|&#124; | OR |\n",
    "|`^` | XOR |\n",
    "|`~` | ones complement |\n",
    "|`<<` | left shift |\n",
    "|`>>` | right shift |\n"
   ]
  },
  {
   "cell_type": "code",
   "execution_count": 30,
   "metadata": {
    "collapsed": false
   },
   "outputs": [
    {
     "data": {
      "text/plain": [
       "8"
      ]
     },
     "execution_count": 30,
     "metadata": {},
     "output_type": "execute_result"
    }
   ],
   "source": [
    "9 & 8"
   ]
  },
  {
   "cell_type": "code",
   "execution_count": 31,
   "metadata": {
    "collapsed": false
   },
   "outputs": [
    {
     "name": "stdout",
     "output_type": "stream",
     "text": [
      "0b1001\n",
      "0b1000\n"
     ]
    }
   ],
   "source": [
    "print(bin(9))\n",
    "print(bin(8))"
   ]
  },
  {
   "cell_type": "markdown",
   "metadata": {},
   "source": [
    "### Datatypes - Constants"
   ]
  },
  {
   "cell_type": "raw",
   "metadata": {},
   "source": [
    "True\n",
    "False\n",
    "None"
   ]
  },
  {
   "cell_type": "markdown",
   "metadata": {},
   "source": [
    "### Datatypes - Numeric\n",
    "\n",
    "|Type| Assignment|Note|\n",
    "|:--:|:--:|--|\n",
    "|`int` | `a = 1` | |\n",
    "|`long` | `a = 1L` | Python2 only - all Python3 ints are long\n",
    "|`float` | `a = 1.` | |\n",
    "|`complex` | `a = 1j` | j can be either lower or upper case\n"
   ]
  },
  {
   "cell_type": "code",
   "execution_count": 32,
   "metadata": {
    "collapsed": false
   },
   "outputs": [
    {
     "name": "stdout",
     "output_type": "stream",
     "text": [
      "1j <class 'complex'>\n"
     ]
    }
   ],
   "source": [
    "a = 1j\n",
    "print(a, type(a)) "
   ]
  },
  {
   "cell_type": "markdown",
   "metadata": {
    "slideshow": {
     "slide_type": "slide"
    }
   },
   "source": [
    "### Datatypes - Sequences\n",
    "\n",
    "#### String\n",
    "Denoted by either single or double quotes, just match consistently:"
   ]
  },
  {
   "cell_type": "code",
   "execution_count": 33,
   "metadata": {
    "collapsed": false
   },
   "outputs": [
    {
     "name": "stdout",
     "output_type": "stream",
     "text": [
      "these are \"some\" 'strings'\n"
     ]
    }
   ],
   "source": [
    "print('these', \"are\", '\"some\"', \"'strings'\")"
   ]
  },
  {
   "cell_type": "markdown",
   "metadata": {
    "slideshow": {
     "slide_type": "slide"
    }
   },
   "source": [
    "#### List\n",
    "\n",
    "General container, denoted by square brackets `[...]`, can contain ***anything***"
   ]
  },
  {
   "cell_type": "code",
   "execution_count": 34,
   "metadata": {
    "collapsed": false
   },
   "outputs": [
    {
     "name": "stdout",
     "output_type": "stream",
     "text": [
      "[1, 3.0, (4+5j), 'six']\n",
      "['blah', 3.0, (4+5j), 'six']\n"
     ]
    }
   ],
   "source": [
    "a = [1, 3.0, 4+5j, 'six' ]\n",
    "print(a)\n",
    "a[0]='blah'\n",
    "print(a)"
   ]
  },
  {
   "cell_type": "markdown",
   "metadata": {
    "slideshow": {
     "slide_type": "slide"
    }
   },
   "source": [
    "#### Tuple\n",
    "\n",
    "An ***immutable*** list, that is state cannot be changed after creation. Denoted by round brackets `(...)`"
   ]
  },
  {
   "cell_type": "raw",
   "metadata": {
    "collapsed": false
   },
   "source": [
    "source = ('M56', 289.1479411, 30.1845005)\n",
    "source[0]='m31'\n",
    "\n",
    "---------------------------------------------------------------------------\n",
    "TypeError                                 Traceback (most recent call last)\n",
    "<ipython-input-19-16d8d816dcac> in <module>()\n",
    "      1 source = ('M56', 289.1479411, 30.1845005)'\n",
    "----> 2 source[0]='m31'\n",
    "\n",
    "TypeError: 'tuple' object does not support item assignment\n"
   ]
  },
  {
   "cell_type": "markdown",
   "metadata": {
    "slideshow": {
     "slide_type": "slide"
    }
   },
   "source": [
    "#### Sets\n",
    "\n",
    "There are 2 set types: `set` and `frozenset` (mutable/immutable). Sets are created with curly brackets `{...}` or the function `set()`:"
   ]
  },
  {
   "cell_type": "code",
   "execution_count": 35,
   "metadata": {
    "collapsed": false
   },
   "outputs": [
    {
     "data": {
      "text/plain": [
       "set"
      ]
     },
     "execution_count": 35,
     "metadata": {},
     "output_type": "execute_result"
    }
   ],
   "source": [
    "a = {1,2,3}\n",
    "type(a)"
   ]
  },
  {
   "cell_type": "markdown",
   "metadata": {},
   "source": [
    "The classic set methods (intersection/union) are available:"
   ]
  },
  {
   "cell_type": "raw",
   "metadata": {},
   "source": [
    "a.add                          a.intersection                 a.remove\n",
    "a.clear                        a.intersection_update          a.symmetric_difference\n",
    "a.copy                         a.isdisjoint                   a.symmetric_difference_update\n",
    "a.difference                   a.issubset                     a.union\n",
    "a.difference_update            a.issuperset                   a.update\n",
    "a.discard                      a.pop"
   ]
  },
  {
   "cell_type": "markdown",
   "metadata": {
    "slideshow": {
     "slide_type": "subslide"
    }
   },
   "source": [
    "The common use of sets is to remove duplicates:"
   ]
  },
  {
   "cell_type": "code",
   "execution_count": 36,
   "metadata": {
    "collapsed": false
   },
   "outputs": [
    {
     "data": {
      "text/plain": [
       "{1, 2, 3, 4, 5, 6, 7, 9}"
      ]
     },
     "execution_count": 36,
     "metadata": {},
     "output_type": "execute_result"
    }
   ],
   "source": [
    "a = [1,1,2,9,2,3,4,5,6,7,6,5,3,2,1]\n",
    "set(a)"
   ]
  },
  {
   "cell_type": "markdown",
   "metadata": {},
   "source": [
    "Note there is also a numpy routine to do the same: "
   ]
  },
  {
   "cell_type": "code",
   "execution_count": 37,
   "metadata": {
    "collapsed": false
   },
   "outputs": [
    {
     "data": {
      "text/plain": [
       "array([1, 2, 3, 4, 5, 6, 7, 9])"
      ]
     },
     "execution_count": 37,
     "metadata": {},
     "output_type": "execute_result"
    }
   ],
   "source": [
    "numpy.unique(a)"
   ]
  },
  {
   "cell_type": "markdown",
   "metadata": {
    "slideshow": {
     "slide_type": "slide"
    }
   },
   "source": [
    "### Datatypes - Dictionaries\n",
    "\n",
    "A dictionary contains values accessed by keys: "
   ]
  },
  {
   "cell_type": "code",
   "execution_count": 38,
   "metadata": {
    "collapsed": false
   },
   "outputs": [],
   "source": [
    "d = {'key':'value'}"
   ]
  },
  {
   "cell_type": "markdown",
   "metadata": {},
   "source": [
    "They are used for mapping one quantity to something else:"
   ]
  },
  {
   "cell_type": "code",
   "execution_count": 39,
   "metadata": {
    "collapsed": false
   },
   "outputs": [
    {
     "name": "stdout",
     "output_type": "stream",
     "text": [
      "rouge\n"
     ]
    }
   ],
   "source": [
    "translate = {'red':'rouge',\n",
    "             'green':'vert',\n",
    "             'blue':'bleu',\n",
    "             'black':'noir',\n",
    "             'white':'blanc'}\n",
    "print(translate['red'])"
   ]
  },
  {
   "cell_type": "markdown",
   "metadata": {
    "slideshow": {
     "slide_type": "subslide"
    }
   },
   "source": [
    "Note:\n",
    "* order is not conserved! Use collections.ordereddict if important"
   ]
  },
  {
   "cell_type": "code",
   "execution_count": 40,
   "metadata": {
    "collapsed": false
   },
   "outputs": [
    {
     "name": "stdout",
     "output_type": "stream",
     "text": [
      "dict_keys(['red', 'green', 'blue', 'black', 'white'])\n"
     ]
    }
   ],
   "source": [
    "print(translate.keys())"
   ]
  },
  {
   "cell_type": "markdown",
   "metadata": {},
   "source": [
    "* Mapping is one way only"
   ]
  },
  {
   "cell_type": "code",
   "execution_count": 41,
   "metadata": {
    "collapsed": false
   },
   "outputs": [
    {
     "ename": "KeyError",
     "evalue": "'noir'",
     "output_type": "error",
     "traceback": [
      "\u001b[0;31m---------------------------------------------------------------------------\u001b[0m",
      "\u001b[0;31mKeyError\u001b[0m                                  Traceback (most recent call last)",
      "\u001b[0;32m<ipython-input-41-f8850c1b94bd>\u001b[0m in \u001b[0;36m<module>\u001b[0;34m()\u001b[0m\n\u001b[0;32m----> 1\u001b[0;31m \u001b[0mprint\u001b[0m\u001b[0;34m(\u001b[0m\u001b[0mtranslate\u001b[0m\u001b[0;34m[\u001b[0m\u001b[0;34m'noir'\u001b[0m\u001b[0;34m]\u001b[0m\u001b[0;34m)\u001b[0m\u001b[0;34m\u001b[0m\u001b[0m\n\u001b[0m",
      "\u001b[0;31mKeyError\u001b[0m: 'noir'"
     ]
    }
   ],
   "source": [
    "print(translate['noir'])"
   ]
  },
  {
   "cell_type": "markdown",
   "metadata": {
    "slideshow": {
     "slide_type": "subslide"
    }
   },
   "source": [
    "Example of dict in action:"
   ]
  },
  {
   "cell_type": "code",
   "execution_count": null,
   "metadata": {
    "collapsed": false
   },
   "outputs": [],
   "source": [
    "hfi = { '100': [ '100-1a','100-1b','100-2a','100-2b',\n",
    "                 '100-3a','100-3b','100-4a','100-4b'  ],\n",
    "        '143': [ '143-1a','143-1b','143-2a','143-2b',\n",
    "                 '143-3a','143-3b','143-4a','143-4b',\n",
    "                 '143-5' ,'143-6' ,'143-7'            ],\n",
    "        '217': [ '217-1' ,'217-2' ,'217-3' ,'217-4' ,\n",
    "                 '217-5a','217-5b','217-6a','217-6b',\n",
    "                 '217-7a','217-7b','217-8a','217-8b'  ],\n",
    "        '353': [ '353-1' ,'353-2' ,'353-3a','353-3b',\n",
    "                 '353-4a','353-4b','353-5a','353-5b',\n",
    "                 '353-6a','353-6b','353-7' ,'353-8'   ],\n",
    "        '545': [ '545-1' ,'545-2' ,         '545-4'   ],\n",
    "        '857': [ '857-1' ,'857-2' ,'857-3' ,'857-4'   ] }\n",
    "\n",
    "print(         hfi.keys()  )\n",
    "print( sorted( hfi.keys() ))\n",
    "print( hfi['857'] )"
   ]
  },
  {
   "cell_type": "markdown",
   "metadata": {
    "slideshow": {
     "slide_type": "slide"
    }
   },
   "source": [
    "## Indexing\n",
    "\n",
    "* First element = 0\n",
    "* Initialize index list with: `range(start, stop, step)`\n",
    "* Index with [start: stop: step]\n",
    "* Negative indices count back from end"
   ]
  },
  {
   "cell_type": "code",
   "execution_count": null,
   "metadata": {
    "collapsed": false
   },
   "outputs": [],
   "source": [
    "a = range(10)\n",
    "print(*a)  # Python3 print(*a) to expand range"
   ]
  },
  {
   "cell_type": "code",
   "execution_count": null,
   "metadata": {
    "collapsed": false,
    "slideshow": {
     "slide_type": "-"
    }
   },
   "outputs": [],
   "source": [
    "a[0]"
   ]
  },
  {
   "cell_type": "code",
   "execution_count": null,
   "metadata": {
    "collapsed": false,
    "slideshow": {
     "slide_type": "subslide"
    }
   },
   "outputs": [],
   "source": [
    "print( *a[3:6] )\n",
    "print( *a[3:] )"
   ]
  },
  {
   "cell_type": "code",
   "execution_count": null,
   "metadata": {
    "collapsed": false
   },
   "outputs": [],
   "source": [
    "print( a[-1] )\n",
    "print( a[-2] )"
   ]
  },
  {
   "cell_type": "code",
   "execution_count": null,
   "metadata": {
    "collapsed": false
   },
   "outputs": [],
   "source": [
    "print( *a[::2]  )\n",
    "print( *a[1::2] )\n",
    "print( *a[::-1] )"
   ]
  },
  {
   "cell_type": "markdown",
   "metadata": {
    "slideshow": {
     "slide_type": "slide"
    }
   },
   "source": [
    "## Numpy (Arrays)\n",
    "\n",
    "Python has array module in standard library but just use numpy for numerical work. There are multiple [array creation routines](http://docs.scipy.org/doc/numpy/reference/routines.array-creation.html). The most important are:\n",
    "\n",
    "|Routine| Description |\n",
    "|--|--|\n",
    "|`numpy.array()` | Convert existing array |\n",
    "|`numpy.arange()` | Evenly-spaced values |\n",
    "|`numpy.zeros()` | Array filled with zeros |\n",
    "|`numpy.full()` | Array filled with specified value|\n",
    "\n",
    "Numpy can parse statements inside indexing brackets (fancy indexing):"
   ]
  },
  {
   "cell_type": "code",
   "execution_count": null,
   "metadata": {
    "collapsed": false
   },
   "outputs": [],
   "source": [
    "import numpy\n",
    "a = numpy.arange(10)\n",
    "print( a )\n",
    "print( a[a > 6] )\n"
   ]
  },
  {
   "cell_type": "markdown",
   "metadata": {
    "slideshow": {
     "slide_type": "slide"
    }
   },
   "source": [
    "Use record arrays for structured data; can be indexed by field name:"
   ]
  },
  {
   "cell_type": "code",
   "execution_count": null,
   "metadata": {
    "collapsed": false
   },
   "outputs": [],
   "source": [
    "img = numpy.zeros((2,2),\n",
    "    {'names': ('r','g','b'),\n",
    "     'formats': (numpy.float32, numpy.float32, numpy.float32)})\n",
    "\n",
    "print( img['r'] )\n",
    "print() # Empty line\n",
    "img"
   ]
  },
  {
   "cell_type": "markdown",
   "metadata": {
    "slideshow": {
     "slide_type": "slide"
    }
   },
   "source": [
    "## Functions vs Methods\n",
    "\n",
    "Function is independent of explicitly passed data:"
   ]
  },
  {
   "cell_type": "raw",
   "metadata": {},
   "source": [
    "IDL> a='abcde'\n",
    "IDL> strupcase(a)\n",
    "        ABCDE\n",
    "IDL> strlen(a)\n",
    "        5"
   ]
  },
  {
   "cell_type": "code",
   "execution_count": 42,
   "metadata": {
    "collapsed": false
   },
   "outputs": [
    {
     "data": {
      "text/plain": [
       "5"
      ]
     },
     "execution_count": 42,
     "metadata": {},
     "output_type": "execute_result"
    }
   ],
   "source": [
    "a='abcde'\n",
    "len(a) # Function"
   ]
  },
  {
   "cell_type": "markdown",
   "metadata": {},
   "source": [
    "Method is associated with implicitly passed object:"
   ]
  },
  {
   "cell_type": "code",
   "execution_count": 43,
   "metadata": {
    "collapsed": false
   },
   "outputs": [
    {
     "data": {
      "text/plain": [
       "'ABCDE'"
      ]
     },
     "execution_count": 43,
     "metadata": {},
     "output_type": "execute_result"
    }
   ],
   "source": [
    "a.upper() # Method"
   ]
  },
  {
   "cell_type": "markdown",
   "metadata": {
    "slideshow": {
     "slide_type": "subslide"
    }
   },
   "source": [
    "<font color='red'>***Tab-completion will show you all methods associated with an object!***</font>"
   ]
  },
  {
   "cell_type": "code",
   "execution_count": 44,
   "metadata": {
    "collapsed": false
   },
   "outputs": [
    {
     "ename": "SyntaxError",
     "evalue": "invalid syntax (<ipython-input-44-a0d310e2b5e6>, line 1)",
     "output_type": "error",
     "traceback": [
      "\u001b[0;36m  File \u001b[0;32m\"<ipython-input-44-a0d310e2b5e6>\"\u001b[0;36m, line \u001b[0;32m1\u001b[0m\n\u001b[0;31m    a.\u001b[0m\n\u001b[0m      ^\u001b[0m\n\u001b[0;31mSyntaxError\u001b[0m\u001b[0;31m:\u001b[0m invalid syntax\n"
     ]
    }
   ],
   "source": [
    "a."
   ]
  },
  {
   "cell_type": "raw",
   "metadata": {},
   "source": [
    "a.capitalize  a.format      a.isupper     a.rindex      a.strip\n",
    "a.center      a.index       a.join        a.rjust       a.swapcase\n",
    "a.count       a.isalnum     a.ljust       a.rpartition  a.title\n",
    "a.decode      a.isalpha     a.lower       a.rsplit      a.translate\n",
    "a.encode      a.isdigit     a.lstrip      a.rstrip      a.upper\n",
    "a.endswith    a.islower     a.partition   a.split       a.zfill\n",
    "a.expandtabs  a.isspace     a.replace     a.splitlines\n",
    "a.find        a.istitle     a.rfind       a.startswith"
   ]
  },
  {
   "cell_type": "markdown",
   "metadata": {
    "slideshow": {
     "slide_type": "subslide"
    }
   },
   "source": [
    "Methods change with object type!"
   ]
  },
  {
   "cell_type": "raw",
   "metadata": {},
   "source": [
    "a = [1,2,3]\n",
    "\n",
    "a.\n",
    "a.append   a.extend   a.insert   a.remove   a.sort\n",
    "a.count    a.index    a.pop      a.reverse"
   ]
  },
  {
   "cell_type": "markdown",
   "metadata": {
    "slideshow": {
     "slide_type": "subslide"
    }
   },
   "source": [
    "Everything in Python is an object!"
   ]
  },
  {
   "cell_type": "raw",
   "metadata": {},
   "source": [
    "In [1]: import math\n",
    "\n",
    "In [2]: math.\n",
    "math.acos       math.degrees    math.fsum       math.pi\n",
    "math.acosh      math.e          math.gamma      math.pow\n",
    "math.asin       math.erf        math.hypot      math.radians\n",
    "math.asinh      math.erfc       math.isinf      math.sin\n",
    "math.atan       math.exp        math.isnan      math.sinh\n",
    "math.atan2      math.expm1      math.ldexp      math.sqrt\n",
    "math.atanh      math.fabs       math.lgamma     math.tan\n",
    "math.ceil       math.factorial  math.log        math.tanh\n",
    "math.copysign   math.floor      math.log10      math.trunc\n",
    "math.cos        math.fmod       math.log1p\n",
    "math.cosh       math.frexp      math.modf"
   ]
  },
  {
   "cell_type": "markdown",
   "metadata": {
    "slideshow": {
     "slide_type": "subslide"
    }
   },
   "source": [
    "Note methods can:\n",
    "* accept arguments\n",
    "* stack"
   ]
  },
  {
   "cell_type": "code",
   "execution_count": 45,
   "metadata": {
    "collapsed": false
   },
   "outputs": [
    {
     "data": {
      "text/plain": [
       "3"
      ]
     },
     "execution_count": 45,
     "metadata": {},
     "output_type": "execute_result"
    }
   ],
   "source": [
    "'eleven'.count('e')"
   ]
  },
  {
   "cell_type": "code",
   "execution_count": 46,
   "metadata": {
    "collapsed": false
   },
   "outputs": [
    {
     "data": {
      "text/plain": [
       "['HFI', 'SkyMap', '353-1', '2048', 'R2.00', 'year-1']"
      ]
     },
     "execution_count": 46,
     "metadata": {},
     "output_type": "execute_result"
    }
   ],
   "source": [
    "filename = 'HFI_SkyMap_353-1_2048_R2.00_year-1.fits'\n",
    "filename.strip('.fits').split('_')"
   ]
  },
  {
   "cell_type": "code",
   "execution_count": 47,
   "metadata": {
    "collapsed": false
   },
   "outputs": [
    {
     "name": "stdout",
     "output_type": "stream",
     "text": [
      "353-1 year-1\n"
     ]
    }
   ],
   "source": [
    "instrument, product, detector, nside, version, period = filename.strip('.fits').split('_')\n",
    "print( detector, period )"
   ]
  },
  {
   "cell_type": "markdown",
   "metadata": {
    "slideshow": {
     "slide_type": "slide"
    }
   },
   "source": [
    "# <a id='Namespaces'></a> <center>Namespaces</center>"
   ]
  },
  {
   "cell_type": "markdown",
   "metadata": {
    "slideshow": {
     "slide_type": "slide"
    }
   },
   "source": [
    "## Import Statements\n",
    "\n",
    "Most programs start with import statements of the form:"
   ]
  },
  {
   "cell_type": "raw",
   "metadata": {},
   "source": [
    "import module\n",
    "import module as mod\n",
    "from module import *\n",
    "from module import function1, function2\n",
    "from module import function1 as func1"
   ]
  },
  {
   "cell_type": "markdown",
   "metadata": {},
   "source": [
    "These set different mapping of names to objects:"
   ]
  },
  {
   "cell_type": "code",
   "execution_count": 48,
   "metadata": {
    "collapsed": false
   },
   "outputs": [
    {
     "name": "stdout",
     "output_type": "stream",
     "text": [
      "Interactive namespace is empty.\n"
     ]
    }
   ],
   "source": [
    "%reset -f\n",
    "%whos"
   ]
  },
  {
   "cell_type": "code",
   "execution_count": 49,
   "metadata": {
    "collapsed": false
   },
   "outputs": [
    {
     "name": "stdout",
     "output_type": "stream",
     "text": [
      "Variable   Type      Data/Info\n",
      "------------------------------\n",
      "math       module    <module 'math' from '/Use<...>h.cpython-35m-darwin.so'>\n",
      "\n",
      "3.141592653589793\n"
     ]
    }
   ],
   "source": [
    "import math\n",
    "%whos\n",
    "print()\n",
    "print( math.pi )"
   ]
  },
  {
   "cell_type": "code",
   "execution_count": 50,
   "metadata": {
    "collapsed": false
   },
   "outputs": [
    {
     "name": "stdout",
     "output_type": "stream",
     "text": [
      "Variable   Type      Data/Info\n",
      "------------------------------\n",
      "m          module    <module 'math' from '/Use<...>h.cpython-35m-darwin.so'>\n",
      "\n",
      "3.141592653589793\n"
     ]
    }
   ],
   "source": [
    "%reset -f\n",
    "import math as m\n",
    "%whos\n",
    "print()\n",
    "print( m.pi )"
   ]
  },
  {
   "cell_type": "code",
   "execution_count": 51,
   "metadata": {
    "collapsed": false
   },
   "outputs": [
    {
     "name": "stdout",
     "output_type": "stream",
     "text": [
      "Variable    Type                          Data/Info\n",
      "---------------------------------------------------\n",
      "acos        builtin_function_or_method    <built-in function acos>\n",
      "acosh       builtin_function_or_method    <built-in function acosh>\n",
      "asin        builtin_function_or_method    <built-in function asin>\n",
      "asinh       builtin_function_or_method    <built-in function asinh>\n",
      "atan        builtin_function_or_method    <built-in function atan>\n",
      "atan2       builtin_function_or_method    <built-in function atan2>\n",
      "atanh       builtin_function_or_method    <built-in function atanh>\n",
      "ceil        builtin_function_or_method    <built-in function ceil>\n",
      "copysign    builtin_function_or_method    <built-in function copysign>\n",
      "cos         builtin_function_or_method    <built-in function cos>\n",
      "cosh        builtin_function_or_method    <built-in function cosh>\n",
      "degrees     builtin_function_or_method    <built-in function degrees>\n",
      "e           float                         2.718281828459045\n",
      "erf         builtin_function_or_method    <built-in function erf>\n",
      "erfc        builtin_function_or_method    <built-in function erfc>\n",
      "exp         builtin_function_or_method    <built-in function exp>\n",
      "expm1       builtin_function_or_method    <built-in function expm1>\n",
      "fabs        builtin_function_or_method    <built-in function fabs>\n",
      "factorial   builtin_function_or_method    <built-in function factorial>\n",
      "floor       builtin_function_or_method    <built-in function floor>\n",
      "fmod        builtin_function_or_method    <built-in function fmod>\n",
      "frexp       builtin_function_or_method    <built-in function frexp>\n",
      "fsum        builtin_function_or_method    <built-in function fsum>\n",
      "gamma       builtin_function_or_method    <built-in function gamma>\n",
      "gcd         builtin_function_or_method    <built-in function gcd>\n",
      "hypot       builtin_function_or_method    <built-in function hypot>\n",
      "inf         float                         inf\n",
      "isclose     builtin_function_or_method    <built-in function isclose>\n",
      "isfinite    builtin_function_or_method    <built-in function isfinite>\n",
      "isinf       builtin_function_or_method    <built-in function isinf>\n",
      "isnan       builtin_function_or_method    <built-in function isnan>\n",
      "ldexp       builtin_function_or_method    <built-in function ldexp>\n",
      "lgamma      builtin_function_or_method    <built-in function lgamma>\n",
      "log         builtin_function_or_method    <built-in function log>\n",
      "log10       builtin_function_or_method    <built-in function log10>\n",
      "log1p       builtin_function_or_method    <built-in function log1p>\n",
      "log2        builtin_function_or_method    <built-in function log2>\n",
      "modf        builtin_function_or_method    <built-in function modf>\n",
      "nan         float                         nan\n",
      "pi          float                         3.141592653589793\n",
      "pow         builtin_function_or_method    <built-in function pow>\n",
      "radians     builtin_function_or_method    <built-in function radians>\n",
      "sin         builtin_function_or_method    <built-in function sin>\n",
      "sinh        builtin_function_or_method    <built-in function sinh>\n",
      "sqrt        builtin_function_or_method    <built-in function sqrt>\n",
      "tan         builtin_function_or_method    <built-in function tan>\n",
      "tanh        builtin_function_or_method    <built-in function tanh>\n",
      "trunc       builtin_function_or_method    <built-in function trunc>\n",
      "\n",
      "3.141592653589793\n"
     ]
    }
   ],
   "source": [
    "%reset -f\n",
    "from math import *\n",
    "%whos\n",
    "print()\n",
    "print( pi )"
   ]
  },
  {
   "cell_type": "code",
   "execution_count": 52,
   "metadata": {
    "collapsed": false
   },
   "outputs": [
    {
     "name": "stdout",
     "output_type": "stream",
     "text": [
      "Variable   Type     Data/Info\n",
      "-----------------------------\n",
      "e          float    2.718281828459045\n",
      "pi         float    3.141592653589793\n",
      "\n",
      "3.141592653589793\n"
     ]
    }
   ],
   "source": [
    "%reset -f\n",
    "from math import pi, e\n",
    "%whos\n",
    "print()\n",
    "print( pi )"
   ]
  },
  {
   "cell_type": "markdown",
   "metadata": {},
   "source": [
    "Renaming useful for mixing/matching modules but beware of overwriting!"
   ]
  },
  {
   "cell_type": "raw",
   "metadata": {},
   "source": [
    "import pyfits\n",
    "\n",
    "replace with:\n",
    "\n",
    "import astropy.io.fits as pyfits "
   ]
  },
  {
   "cell_type": "markdown",
   "metadata": {
    "slideshow": {
     "slide_type": "slide"
    }
   },
   "source": [
    "## Reusing Your Own Code\n",
    "\n",
    "Put common code into a file and import into your namespace (needs to be in same directory or locatable via environment variable PYTHONPATH):"
   ]
  },
  {
   "cell_type": "code",
   "execution_count": 53,
   "metadata": {
    "collapsed": false
   },
   "outputs": [
    {
     "name": "stdout",
     "output_type": "stream",
     "text": [
      "hfi = { '100': [ '100-1a','100-1b','100-2a','100-2b',\n",
      "                 '100-3a','100-3b','100-4a','100-4b'  ],\n",
      "        '143': [ '143-1a','143-1b','143-2a','143-2b',\n",
      "                 '143-3a','143-3b','143-4a','143-4b',\n",
      "                 '143-5' ,'143-6' ,'143-7'            ],\n",
      "        '217': [ '217-1' ,'217-2' ,'217-3' ,'217-4' ,\n",
      "                 '217-5a','217-5b','217-6a','217-6b',\n",
      "                 '217-7a','217-7b','217-8a','217-8b'  ],\n",
      "        '353': [ '353-1' ,'353-2' ,'353-3a','353-3b',\n",
      "                 '353-4a','353-4b','353-5a','353-5b',\n",
      "                 '353-6a','353-6b','353-7' ,'353-8'   ],\n",
      "        '545': [ '545-1' ,'545-2' ,         '545-4'   ],\n",
      "        '857': [ '857-1' ,'857-2' ,'857-3' ,'857-4'   ] }\n",
      "\n",
      "\n"
     ]
    }
   ],
   "source": [
    "%%bash\n",
    "cat my_lib.py"
   ]
  },
  {
   "cell_type": "code",
   "execution_count": 54,
   "metadata": {
    "collapsed": false
   },
   "outputs": [
    {
     "name": "stdout",
     "output_type": "stream",
     "text": [
      "Variable   Type    Data/Info\n",
      "----------------------------\n",
      "hfi        dict    n=6\n"
     ]
    },
    {
     "data": {
      "text/plain": [
       "{'100': ['100-1a',\n",
       "  '100-1b',\n",
       "  '100-2a',\n",
       "  '100-2b',\n",
       "  '100-3a',\n",
       "  '100-3b',\n",
       "  '100-4a',\n",
       "  '100-4b'],\n",
       " '143': ['143-1a',\n",
       "  '143-1b',\n",
       "  '143-2a',\n",
       "  '143-2b',\n",
       "  '143-3a',\n",
       "  '143-3b',\n",
       "  '143-4a',\n",
       "  '143-4b',\n",
       "  '143-5',\n",
       "  '143-6',\n",
       "  '143-7'],\n",
       " '217': ['217-1',\n",
       "  '217-2',\n",
       "  '217-3',\n",
       "  '217-4',\n",
       "  '217-5a',\n",
       "  '217-5b',\n",
       "  '217-6a',\n",
       "  '217-6b',\n",
       "  '217-7a',\n",
       "  '217-7b',\n",
       "  '217-8a',\n",
       "  '217-8b'],\n",
       " '353': ['353-1',\n",
       "  '353-2',\n",
       "  '353-3a',\n",
       "  '353-3b',\n",
       "  '353-4a',\n",
       "  '353-4b',\n",
       "  '353-5a',\n",
       "  '353-5b',\n",
       "  '353-6a',\n",
       "  '353-6b',\n",
       "  '353-7',\n",
       "  '353-8'],\n",
       " '545': ['545-1', '545-2', '545-4'],\n",
       " '857': ['857-1', '857-2', '857-3', '857-4']}"
      ]
     },
     "execution_count": 54,
     "metadata": {},
     "output_type": "execute_result"
    }
   ],
   "source": [
    "%reset -f\n",
    "from my_lib import hfi\n",
    "%whos\n",
    "hfi"
   ]
  },
  {
   "cell_type": "markdown",
   "metadata": {
    "slideshow": {
     "slide_type": "slide"
    }
   },
   "source": [
    "# <a id='Compound Statements'></a> <center>Compound Statements</center>"
   ]
  },
  {
   "cell_type": "markdown",
   "metadata": {
    "slideshow": {
     "slide_type": "slide"
    }
   },
   "source": [
    "## Whitespace\n",
    "\n",
    "* Python does not use brackets or begin/end/do/done to enclose compound statements.\n",
    "* Blocks are marked by colon '`:`' then relative indentation.\n",
    "* Either tabs or spaces can be used (but not mixed). PEP8 recommends 4 x space:  "
   ]
  },
  {
   "cell_type": "raw",
   "metadata": {},
   "source": [
    "statement:\n",
    "    blah\n",
    "    blah\n",
    "    statement:\n",
    "        blah\n",
    "        blah\n",
    "    blah\n",
    "    statement: blah    # One liner\n",
    "blah"
   ]
  },
  {
   "cell_type": "markdown",
   "metadata": {},
   "source": [
    "Get comfortable with selecting & manipulating text blocks in your favorite editor (CTRL-V in VIM)! Use `%cpaste` magic to copy/paste into IPython."
   ]
  },
  {
   "cell_type": "markdown",
   "metadata": {
    "slideshow": {
     "slide_type": "slide"
    }
   },
   "source": [
    "## Functions"
   ]
  },
  {
   "cell_type": "code",
   "execution_count": 55,
   "metadata": {
    "collapsed": false
   },
   "outputs": [
    {
     "data": {
      "text/plain": [
       "'a'"
      ]
     },
     "execution_count": 55,
     "metadata": {},
     "output_type": "execute_result"
    }
   ],
   "source": [
    "def do_nothing(input):\n",
    "    return input\n",
    "    \n",
    "do_nothing('a')"
   ]
  },
  {
   "cell_type": "code",
   "execution_count": 106,
   "metadata": {
    "collapsed": false
   },
   "outputs": [
    {
     "name": "stdout",
     "output_type": "stream",
     "text": [
      "1\n",
      "2\n",
      "Fizz\n",
      "4\n",
      "Buzz\n",
      "Fizz\n",
      "7\n",
      "8\n",
      "Fizz\n",
      "Buzz\n",
      "11\n",
      "Fizz\n",
      "13\n",
      "14\n",
      "FizzBuzz\n"
     ]
    }
   ],
   "source": [
    "def fizzbuzz(input):\n",
    "    for n in range(1,input+1):\n",
    "        print(\"Fizz\"*(n % 3 == 0) + \"Buzz\"*(n % 5 == 0) or n)\n",
    "    return\n",
    "\n",
    "fizzbuzz(15)"
   ]
  },
  {
   "cell_type": "markdown",
   "metadata": {
    "slideshow": {
     "slide_type": "slide"
    }
   },
   "source": [
    "## Control Flow\n",
    "\n",
    "* while\n",
    "* for\n",
    "* if\n",
    "\n",
    "but no case/switch. Can be modified by:\n",
    "\n",
    "* break\n",
    "* continue\n",
    "* pass"
   ]
  },
  {
   "cell_type": "markdown",
   "metadata": {
    "slideshow": {
     "slide_type": "slide"
    }
   },
   "source": [
    "### While..."
   ]
  },
  {
   "cell_type": "code",
   "execution_count": 56,
   "metadata": {
    "collapsed": false
   },
   "outputs": [
    {
     "name": "stdout",
     "output_type": "stream",
     "text": [
      "The count is: 0\n",
      "The count is: 1\n",
      "The count is: 2\n",
      "The count is: 3\n",
      "The count is: 4\n",
      "The count is: 5\n",
      "The count is: 6\n",
      "The count is: 7\n",
      "The count is: 8\n",
      "Good bye!\n"
     ]
    }
   ],
   "source": [
    "count = 0\n",
    "while count < 9:\n",
    "   print( 'The count is:', count )\n",
    "   count += 1\n",
    "\n",
    "print( \"Good bye!\" )"
   ]
  },
  {
   "cell_type": "markdown",
   "metadata": {
    "slideshow": {
     "slide_type": "slide"
    }
   },
   "source": [
    "### For...\n",
    "\n",
    "Collection-controlled, similar to IDL `FOREACH`. To count give range."
   ]
  },
  {
   "cell_type": "code",
   "execution_count": 57,
   "metadata": {
    "collapsed": false
   },
   "outputs": [
    {
     "name": "stdout",
     "output_type": "stream",
     "text": [
      "0\n",
      "1\n",
      "2\n",
      "3\n",
      "4\n",
      "5\n",
      "6\n",
      "7\n",
      "8\n",
      "9\n"
     ]
    }
   ],
   "source": [
    "start = 0\n",
    "stop = 10\n",
    "step = 1\n",
    "\n",
    "for index in range(start, stop, step):\n",
    "    print( index )"
   ]
  },
  {
   "cell_type": "code",
   "execution_count": 58,
   "metadata": {
    "collapsed": false,
    "slideshow": {
     "slide_type": "subslide"
    }
   },
   "outputs": [
    {
     "name": "stdout",
     "output_type": "stream",
     "text": [
      "u\n",
      "g\n",
      "r\n",
      "i\n",
      "z\n"
     ]
    }
   ],
   "source": [
    "for filter in ['u', 'g', 'r', 'i', 'z']:\n",
    "    print( filter )"
   ]
  },
  {
   "cell_type": "code",
   "execution_count": 59,
   "metadata": {
    "collapsed": false,
    "slideshow": {
     "slide_type": "subslide"
    }
   },
   "outputs": [
    {
     "name": "stdout",
     "output_type": "stream",
     "text": [
      "u\n",
      "g\n",
      "r\n",
      "i\n",
      "z\n"
     ]
    }
   ],
   "source": [
    "filters = ['u', 'g', 'r', 'i', 'z']\n",
    "for filter in filters:\n",
    "    print( filter )"
   ]
  },
  {
   "cell_type": "code",
   "execution_count": 60,
   "metadata": {
    "collapsed": false,
    "slideshow": {
     "slide_type": "subslide"
    }
   },
   "outputs": [
    {
     "name": "stdout",
     "output_type": "stream",
     "text": [
      "0 u\n",
      "1 g\n",
      "2 r\n",
      "3 i\n",
      "4 z\n"
     ]
    }
   ],
   "source": [
    "for index, filter in enumerate(filters):\n",
    "    print( index, filter )"
   ]
  },
  {
   "cell_type": "markdown",
   "metadata": {
    "slideshow": {
     "slide_type": "slide"
    }
   },
   "source": [
    "### If..."
   ]
  },
  {
   "cell_type": "code",
   "execution_count": 61,
   "metadata": {
    "collapsed": false
   },
   "outputs": [
    {
     "name": "stdout",
     "output_type": "stream",
     "text": [
      "How old are you? 4\n",
      " child fare\n"
     ]
    }
   ],
   "source": [
    "age = int(input('How old are you? '))\n",
    "\n",
    "if age <= 2:\n",
    "    print(' free')\n",
    "elif 2 < age < 13:\n",
    "    print(' child fare')\n",
    "else:\n",
    "    print(' adult fare')"
   ]
  },
  {
   "cell_type": "markdown",
   "metadata": {
    "slideshow": {
     "slide_type": "slide"
    }
   },
   "source": [
    "# <a id='File I/O'></a> <center>File I/O</center>"
   ]
  },
  {
   "cell_type": "markdown",
   "metadata": {
    "slideshow": {
     "slide_type": "slide"
    }
   },
   "source": [
    "## ASCII\n",
    "\n",
    "Python can natively open/read/write but there are more powerful tools in many modules."
   ]
  },
  {
   "cell_type": "code",
   "execution_count": 103,
   "metadata": {
    "collapsed": false
   },
   "outputs": [
    {
     "name": "stdout",
     "output_type": "stream",
     "text": [
      "#id,      ra,              dec\n",
      "M56,      289.147941100,   30.184500500\n",
      "ic4710,   277.158208330,   -66.982277780\n",
      "ngc4552,  188.915863750,   12.556341390\n",
      "\n",
      "['#id,      ra,              dec\\n', 'M56,      289.147941100,   30.184500500\\n', 'ic4710,   277.158208330,   -66.982277780\\n', 'ngc4552,  188.915863750,   12.556341390\\n']\n"
     ]
    }
   ],
   "source": [
    "! cat ascii.txt\n",
    "\n",
    "f = open('ascii.txt','r')\n",
    "data = f.readlines()\n",
    "f.close()\n",
    "\n",
    "print()\n",
    "print( data )"
   ]
  },
  {
   "cell_type": "code",
   "execution_count": 63,
   "metadata": {
    "collapsed": false,
    "slideshow": {
     "slide_type": "subslide"
    }
   },
   "outputs": [
    {
     "name": "stdout",
     "output_type": "stream",
     "text": [
      "#id,      ra,              dec\r\n",
      "M56,      289.147941100,   30.184500500\r\n",
      "ic4710,   277.158208330,   -66.982277780\r\n",
      "ngc4552,  188.915863750,   12.556341390\r\n",
      "# Appending comment to file# Appending comment to file# Appending comment to file# Appending comment to file# Appending comment to file# Appending comment to file# Appending comment to file# Appending comment to file"
     ]
    }
   ],
   "source": [
    "f = open('ascii.txt','a') \n",
    "f.write('# Appending comment to file') \n",
    "f.close()\n",
    "\n",
    "! cat ascii.txt"
   ]
  },
  {
   "cell_type": "code",
   "execution_count": 64,
   "metadata": {
    "collapsed": false,
    "slideshow": {
     "slide_type": "subslide"
    }
   },
   "outputs": [
    {
     "data": {
      "text/plain": [
       "array([(b'M56', 289.1479411, 30.1845005),\n",
       "       (b'ic4710', 277.15820833, -66.98227778),\n",
       "       (b'ngc4552', 188.91586375, 12.55634139)], \n",
       "      dtype=[('id', 'S7'), ('ra', '<f8'), ('dec', '<f8')])"
      ]
     },
     "execution_count": 64,
     "metadata": {},
     "output_type": "execute_result"
    }
   ],
   "source": [
    "import numpy\n",
    "data = numpy.genfromtxt('ascii.txt', delimiter=',', dtype=None, names=True)\n",
    "data"
   ]
  },
  {
   "cell_type": "code",
   "execution_count": 65,
   "metadata": {
    "collapsed": false
   },
   "outputs": [
    {
     "data": {
      "text/plain": [
       "array([b'M56', b'ic4710', b'ngc4552'], \n",
       "      dtype='|S7')"
      ]
     },
     "execution_count": 65,
     "metadata": {},
     "output_type": "execute_result"
    }
   ],
   "source": [
    "data['id']"
   ]
  },
  {
   "cell_type": "code",
   "execution_count": 66,
   "metadata": {
    "collapsed": false
   },
   "outputs": [
    {
     "name": "stderr",
     "output_type": "stream",
     "text": [
      "/Users/rusholme/Conda/envs/py35/lib/python3.5/site-packages/ipykernel/__main__.py:1: DeprecationWarning: using a boolean instead of an integer will result in an error in the future\n",
      "  if __name__ == '__main__':\n"
     ]
    },
    {
     "data": {
      "text/plain": [
       "289.14794110000003"
      ]
     },
     "execution_count": 66,
     "metadata": {},
     "output_type": "execute_result"
    }
   ],
   "source": [
    "data['id' == 'M56']['ra']"
   ]
  },
  {
   "cell_type": "markdown",
   "metadata": {
    "slideshow": {
     "slide_type": "slide"
    }
   },
   "source": [
    "## FITs\n",
    "\n",
    "PyFITS has been incorporated into astropy.io.fits, but the API remains the same.\n",
    "\n",
    "The three most useful commands for reading in data are:\n",
    "* `pyfits.info(<filename>)`\n",
    "* `pyfits.getheader(<filename>,<extension>)`\n",
    "* `pyfits.getdata(<filename>,<extension>)` "
   ]
  },
  {
   "cell_type": "code",
   "execution_count": 67,
   "metadata": {
    "collapsed": false
   },
   "outputs": [
    {
     "name": "stdout",
     "output_type": "stream",
     "text": [
      "Filename: m51a_2mass.fits\n",
      "No.    Name         Type      Cards   Dimensions   Format\n",
      "0    PRIMARY     PrimaryHDU     113   (279, 300)   float32   \n"
     ]
    }
   ],
   "source": [
    "import astropy.io.fits as pyfits \n",
    "filename = 'm51a_2mass.fits'\n",
    "pyfits.info(filename)"
   ]
  },
  {
   "cell_type": "code",
   "execution_count": 102,
   "metadata": {
    "collapsed": false,
    "slideshow": {
     "slide_type": "subslide"
    }
   },
   "outputs": [
    {
     "name": "stdout",
     "output_type": "stream",
     "text": [
      "2MASS\n"
     ]
    },
    {
     "data": {
      "text/plain": [
       "SIMPLE  =                    T                                                  \n",
       "BITPIX  =                  -32                                                  \n",
       "NAXIS   =                    2   / # of Axes                                    \n",
       "NAXIS1  =                  279                                                  \n",
       "NAXIS2  =                  300                                                  \n",
       "BLOCKED =                    T / TAPE MAY BE BLOCKED IN MULTIPLES OF 2880       \n",
       "EXTEND  =                    T / TAPE MAY HAVE STANDARD FITS EXTENSIONS         \n",
       "ORDATE  = '980527  '             / Observation Ref Date (yymmdd)                \n",
       "DAYNUM  = '0453    '             / Observation Day Num                          \n",
       "FN_PRFX = 'j0453024'             / .rdo and .par filename prefix                \n",
       "TYPE    = 'sci     '             / Scan type: dar flt sci cal tst               \n",
       "SCANNO  =                   24   / Scan Number                                  \n",
       "SCANDIR = 'n       '             / Scan Direction: n, s, -                      \n",
       "COMMENT                                  (OV)                                   \n",
       "STRIP_ID=                20594   / Strip ID (OV)                                \n",
       "POSITNID= 'n421329 '             / Position ID (OV)                             \n",
       "ORIGIN  = '2MASS   '             / 2MASS Survey Camera                          \n",
       "CTYPE1  = 'RA---SIN'             / Orthographic Projection                      \n",
       "CTYPE2  = 'DEC--SIN'             / Orthographic Projection                      \n",
       "CRPIX1  = 2.350000000000000E+01 /   Axis 1 Reference Pixel                      \n",
       "CRPIX2  = -1.445000000000000E+02 /   Axis 2 Reference Pixel                     \n",
       "CRVAL1  =          202.5213942 /   RA  at Frame Center, J2000 (deg)             \n",
       "CRVAL2  =          47.11319244 /   Dec at Frame Center, J2000 (deg)             \n",
       "CROTA2  =       0.003385486172 /   Image Twist +AXIS2 W of N, J2000 (deg)       \n",
       "CDELT1  =     -0.0002777777845 /   Axis 1 Pixel Size (degs)                     \n",
       "CDELT2  =      0.0002777777845 /   Axis 2 Pixel Size (degs)                     \n",
       "USXREF  =               -256.5 /   U-scan X at Grid (0,0)                       \n",
       "USYREF  =               18579. /   U-scan Y at Grid (0,0)                       \n",
       "SKYVAL  =           136.555542 /   GFIND Sky Estimate                           \n",
       "SKYSIG  =         0.6526031494 /   Grid  Noise Estimate                         \n",
       "MAGZP   =              20.8668 / Calibrated zero point from CALMAN              \n",
       "CALID   = 'y pw 0 Feb 05 2002 '/ Calibration descriptors from CALMAN            \n",
       "SEESH   =               1.0200 / Seeing shape parameter from SEEMAN             \n",
       "DXFS    =         0.5988264084 /   Cross-scan Frame Step (arcsec)               \n",
       "DYFS    =          82.77178192 /      In-scan Frame Step (arcsec)               \n",
       "PIXNAM  = 'nl.pixphot - v 011003n'                                              \n",
       "QT0227  =          135.7032928 /   2.27 Percentile                              \n",
       "QT0668  =          135.9817657 /   6.68 Percentile                              \n",
       "QT1586  =          136.2874908 /  15.86 Percentile                              \n",
       "QT3085  =          136.5956879 /  30.85 Percentile                              \n",
       "QT5000  =           136.940094 /  50.00 Percentile                              \n",
       "QT6914  =          137.3880615 /  69.14 Percentile                              \n",
       "QT8413  =          138.6603088 /  84.13 Percentile                              \n",
       "QT9331  =          141.8338623 /  93.31 Percentile                              \n",
       "QT9772  =          145.7329407 /  97.72 Percentile                              \n",
       "BASE    =                    6   / Pixel Dwell (microsec)                       \n",
       "WAVEF_P = '2massn.scn'           / Secondary waveform data file                 \n",
       "TIMER0  =                   52   / Read1 time (millisecs)                       \n",
       "TIMER1  =                 1298   / Read2-Read1 time (millisecs)                 \n",
       "TIMER2  =                   51   / Secondary settling time (millisecs)          \n",
       "ICSVERSN= '980508  '             / ICS script pgm Version (yymmdd)              \n",
       "SCHEDVER= '980514  '             / Scheduler pgm Version (yymmdd)               \n",
       "SCRIPTFN= 'survey.sct'           / Script template filename                     \n",
       "SCRPTVER= '980223  '             / Script template filename Versn (yymmdd)      \n",
       "UT_OFF1 =   7.435897435897E-01   / UT Offset (IC),SOS to frm#1 Cntr (secs)      \n",
       "XS_OFF1 =   2.800000000000E+00   / X-Scan Offset (IN),SOS to f#1 RA Cntr (ASec) \n",
       "IS_OFF1 =   1.228000000000E+02   / In-Scan Offset (IN),SOS to f#1 Dec Cntr(ASec)\n",
       "XS_OFF2 =   3.900000000000E+00   / X-Scan Offset(IN),EOS to End Frm RA Ctr(ASec)\n",
       "IS_OFF2 =  -1.138000000000E+02   / In-Scan Offset(IN),EOS to End Frm Dec Ctr(AS)\n",
       "FOCUS   =                -9555   / Focus Setting                                \n",
       "NUMFRMS =                  273   / Total Number of Frames in this Scan          \n",
       "SKIPRDOS=                    0   / Total Number of SOS junk RDOs skipped (IC)   \n",
       "TELNAME = 'Hopkins '             / Telescope +31.688/+110.885 lat/lon degs      \n",
       "FILTER  = 'j       '             / Band: j, h, k                                \n",
       "UT_DATE = '980527  '             / UT Date of Frame (IC) (yymmdd)               \n",
       "UT      = '04:51:53.28'          / Time of Frame (IC) (sxgsml)                  \n",
       "AMASS_FC=       1.04547787E+00   / Airmass (aprox) at this Frame (IC) (unitless)\n",
       "GRP2_SOS= 'SOS     '             / Bgn Group#2 .par params at SOS               \n",
       "DATE_SOS= '980527  '             / Date at SOS  (yymmdd)                        \n",
       "EQUINOX =   2.000000000000E+03   / Equinox at SOS                               \n",
       "AM_SOS  =       1.01999998E+00   / Airmass at SOS (unitless)                    \n",
       "ZD_SOS  =       1.03999996E+01   / Zenith Distance at SOS (degs)                \n",
       "HA_SOS  = '+00:10:48.00'         / Hour Angle at SOS (sxgsml)                   \n",
       "UT_SOS  = '04:46:09.00'          / Scan Reference UT  (SOS) (sxgsml)            \n",
       "ST_SOS  = '13:40:49.00'          / Sidereal time at SOS  (sxgsml)               \n",
       "RA_SOS  = '13:30:04.81'          / Scan Reference RA at SOS ,epoch 2000 (sxgsml)\n",
       "DEC_SOS = '+41:42:30.8'          / Scan Reference Dec at SOS,epoch 2000 (sxgsml)\n",
       "WSPD_SOS=                    0   / Wind Speed at SOS, see WARNING below         \n",
       "WDIR_SOS=                    0   / Wind Direction at SOS, see WARNING below     \n",
       "HUM_SOS =                   35   / Humidity at SOS, 0-100%                      \n",
       "SEE_SOS =       0.00000000E+00   / Seeing at SOS, see WARNING below             \n",
       "BAR_SOS =       2.98999996E+01   / Barometer at SOS (inches of Hg)              \n",
       "AIRT_SOS=       1.21999998E+01   / Air temperature at SOS, degs Celsius         \n",
       "TELT_SOS=       1.23000002E+01   / Telescope Temp at SOS, degs Celsius          \n",
       "ARYT_SOS=      -1.92000000E+02   / Temperature of array, see WARNING below      \n",
       "GRP2_EOS= 'EOS     '             / Bgn Group#2 .par params at EOS               \n",
       "DATE_EOS= '980527  '             / Date at EOS (yymmdd)                         \n",
       "AM_EOS  =       1.04999995E+00   / Airmass at EOS (unitless)                    \n",
       "ZD_EOS  =       1.68999996E+01   / Zenith Distance at EOS (degs)                \n",
       "HA_EOS  = '+00:17:35.00'         / Hour Angle at EOS (sxgsml)                   \n",
       "UT_EOS  = '04:52:55.00'          / UT  at EOS (sxgsml)                          \n",
       "ST_EOS  = '13:47:35.00'          / ST  at EOS (sxgsml)                          \n",
       "RA_EOS  = '13:30:04.57'          / RA  at EOS, epoch 2000 (sxgsml)              \n",
       "DEC_EOS = '+48:05:02.5'          / Dec at EOS, epoch 2000 (sxgsml)              \n",
       "WSPD_EOS=                    0   / Wind Speed at SOS, see WARNING below         \n",
       "WDIR_EOS=                    0   / Wind Direction at EOS, see WARNING below     \n",
       "HUM_EOS =                   35   / Humidity at EOS, 0-100%                      \n",
       "SEE_EOS =       0.00000000E+00   / Seeing at EOS, see WARNING below             \n",
       "BAR_EOS =       2.98999996E+01   / Barometer at EOS (inches of Hg)              \n",
       "AIRT_EOS=       1.20000000E+01   / Air temperature at EOS, degs Celsius         \n",
       "TELT_EOS=       1.21999998E+01   / Telescope Temp at EOS, degs Celsius          \n",
       "ARYT_EOS=      -1.92000000E+02   / Temperature of array, see WARNING below      \n",
       "COMMENT *** WARNING *** indicated parameter not measured, dummy only            \n",
       "COMMENT rdframe applied frame rotation of 180 degs                              \n",
       "COMMENT src keys: (IK)=IPAC Konstant; (IC)=IPAC cmptd; (IN)=IPAC namelist       \n",
       "COMMENT           (OV)=Obsrvtry .par file variable                              \n",
       "COMMENT   Group 2 parms are ALL from the Obs .par file                          \n",
       "COMMENT   non-Group 2 parms w/o (xx) are usually fm Obs                         \n",
       "RF_NLID = 'ops rot jhw 980730'   / Rdframe namelist version id                  \n",
       "HISTORY * Rdframe version= 980423     jhw.  Bgn Xeq = 02-02-04 15:11:15         \n",
       "HISTORY * DFlat  vsn1.96 981203  Run on  2/04/02 at 15:08:22                    \n",
       "HISTORY > Image Created by pixphot - Version 010925p                            \n",
       "HISTORY >         Gene Kopan  IPAC/ Caltech                                     "
      ]
     },
     "execution_count": 102,
     "metadata": {},
     "output_type": "execute_result"
    }
   ],
   "source": [
    "hdr = pyfits.getheader(filename,0)\n",
    "print( hdr['ORIGIN'] )\n",
    "hdr"
   ]
  },
  {
   "cell_type": "code",
   "execution_count": 100,
   "metadata": {
    "collapsed": false,
    "slideshow": {
     "slide_type": "subslide"
    }
   },
   "outputs": [
    {
     "data": {
      "application/javascript": [
       "/* Put everything inside the global mpl namespace */\n",
       "window.mpl = {};\n",
       "\n",
       "mpl.get_websocket_type = function() {\n",
       "    if (typeof(WebSocket) !== 'undefined') {\n",
       "        return WebSocket;\n",
       "    } else if (typeof(MozWebSocket) !== 'undefined') {\n",
       "        return MozWebSocket;\n",
       "    } else {\n",
       "        alert('Your browser does not have WebSocket support.' +\n",
       "              'Please try Chrome, Safari or Firefox ≥ 6. ' +\n",
       "              'Firefox 4 and 5 are also supported but you ' +\n",
       "              'have to enable WebSockets in about:config.');\n",
       "    };\n",
       "}\n",
       "\n",
       "mpl.figure = function(figure_id, websocket, ondownload, parent_element) {\n",
       "    this.id = figure_id;\n",
       "\n",
       "    this.ws = websocket;\n",
       "\n",
       "    this.supports_binary = (this.ws.binaryType != undefined);\n",
       "\n",
       "    if (!this.supports_binary) {\n",
       "        var warnings = document.getElementById(\"mpl-warnings\");\n",
       "        if (warnings) {\n",
       "            warnings.style.display = 'block';\n",
       "            warnings.textContent = (\n",
       "                \"This browser does not support binary websocket messages. \" +\n",
       "                    \"Performance may be slow.\");\n",
       "        }\n",
       "    }\n",
       "\n",
       "    this.imageObj = new Image();\n",
       "\n",
       "    this.context = undefined;\n",
       "    this.message = undefined;\n",
       "    this.canvas = undefined;\n",
       "    this.rubberband_canvas = undefined;\n",
       "    this.rubberband_context = undefined;\n",
       "    this.format_dropdown = undefined;\n",
       "\n",
       "    this.image_mode = 'full';\n",
       "\n",
       "    this.root = $('<div/>');\n",
       "    this._root_extra_style(this.root)\n",
       "    this.root.attr('style', 'display: inline-block');\n",
       "\n",
       "    $(parent_element).append(this.root);\n",
       "\n",
       "    this._init_header(this);\n",
       "    this._init_canvas(this);\n",
       "    this._init_toolbar(this);\n",
       "\n",
       "    var fig = this;\n",
       "\n",
       "    this.waiting = false;\n",
       "\n",
       "    this.ws.onopen =  function () {\n",
       "            fig.send_message(\"supports_binary\", {value: fig.supports_binary});\n",
       "            fig.send_message(\"send_image_mode\", {});\n",
       "            fig.send_message(\"refresh\", {});\n",
       "        }\n",
       "\n",
       "    this.imageObj.onload = function() {\n",
       "            if (fig.image_mode == 'full') {\n",
       "                // Full images could contain transparency (where diff images\n",
       "                // almost always do), so we need to clear the canvas so that\n",
       "                // there is no ghosting.\n",
       "                fig.context.clearRect(0, 0, fig.canvas.width, fig.canvas.height);\n",
       "            }\n",
       "            fig.context.drawImage(fig.imageObj, 0, 0);\n",
       "        };\n",
       "\n",
       "    this.imageObj.onunload = function() {\n",
       "        this.ws.close();\n",
       "    }\n",
       "\n",
       "    this.ws.onmessage = this._make_on_message_function(this);\n",
       "\n",
       "    this.ondownload = ondownload;\n",
       "}\n",
       "\n",
       "mpl.figure.prototype._init_header = function() {\n",
       "    var titlebar = $(\n",
       "        '<div class=\"ui-dialog-titlebar ui-widget-header ui-corner-all ' +\n",
       "        'ui-helper-clearfix\"/>');\n",
       "    var titletext = $(\n",
       "        '<div class=\"ui-dialog-title\" style=\"width: 100%; ' +\n",
       "        'text-align: center; padding: 3px;\"/>');\n",
       "    titlebar.append(titletext)\n",
       "    this.root.append(titlebar);\n",
       "    this.header = titletext[0];\n",
       "}\n",
       "\n",
       "\n",
       "\n",
       "mpl.figure.prototype._canvas_extra_style = function(canvas_div) {\n",
       "\n",
       "}\n",
       "\n",
       "\n",
       "mpl.figure.prototype._root_extra_style = function(canvas_div) {\n",
       "\n",
       "}\n",
       "\n",
       "mpl.figure.prototype._init_canvas = function() {\n",
       "    var fig = this;\n",
       "\n",
       "    var canvas_div = $('<div/>');\n",
       "\n",
       "    canvas_div.attr('style', 'position: relative; clear: both; outline: 0');\n",
       "\n",
       "    function canvas_keyboard_event(event) {\n",
       "        return fig.key_event(event, event['data']);\n",
       "    }\n",
       "\n",
       "    canvas_div.keydown('key_press', canvas_keyboard_event);\n",
       "    canvas_div.keyup('key_release', canvas_keyboard_event);\n",
       "    this.canvas_div = canvas_div\n",
       "    this._canvas_extra_style(canvas_div)\n",
       "    this.root.append(canvas_div);\n",
       "\n",
       "    var canvas = $('<canvas/>');\n",
       "    canvas.addClass('mpl-canvas');\n",
       "    canvas.attr('style', \"left: 0; top: 0; z-index: 0; outline: 0\")\n",
       "\n",
       "    this.canvas = canvas[0];\n",
       "    this.context = canvas[0].getContext(\"2d\");\n",
       "\n",
       "    var rubberband = $('<canvas/>');\n",
       "    rubberband.attr('style', \"position: absolute; left: 0; top: 0; z-index: 1;\")\n",
       "\n",
       "    var pass_mouse_events = true;\n",
       "\n",
       "    canvas_div.resizable({\n",
       "        start: function(event, ui) {\n",
       "            pass_mouse_events = false;\n",
       "        },\n",
       "        resize: function(event, ui) {\n",
       "            fig.request_resize(ui.size.width, ui.size.height);\n",
       "        },\n",
       "        stop: function(event, ui) {\n",
       "            pass_mouse_events = true;\n",
       "            fig.request_resize(ui.size.width, ui.size.height);\n",
       "        },\n",
       "    });\n",
       "\n",
       "    function mouse_event_fn(event) {\n",
       "        if (pass_mouse_events)\n",
       "            return fig.mouse_event(event, event['data']);\n",
       "    }\n",
       "\n",
       "    rubberband.mousedown('button_press', mouse_event_fn);\n",
       "    rubberband.mouseup('button_release', mouse_event_fn);\n",
       "    // Throttle sequential mouse events to 1 every 20ms.\n",
       "    rubberband.mousemove('motion_notify', mouse_event_fn);\n",
       "\n",
       "    rubberband.mouseenter('figure_enter', mouse_event_fn);\n",
       "    rubberband.mouseleave('figure_leave', mouse_event_fn);\n",
       "\n",
       "    canvas_div.on(\"wheel\", function (event) {\n",
       "        event = event.originalEvent;\n",
       "        event['data'] = 'scroll'\n",
       "        if (event.deltaY < 0) {\n",
       "            event.step = 1;\n",
       "        } else {\n",
       "            event.step = -1;\n",
       "        }\n",
       "        mouse_event_fn(event);\n",
       "    });\n",
       "\n",
       "    canvas_div.append(canvas);\n",
       "    canvas_div.append(rubberband);\n",
       "\n",
       "    this.rubberband = rubberband;\n",
       "    this.rubberband_canvas = rubberband[0];\n",
       "    this.rubberband_context = rubberband[0].getContext(\"2d\");\n",
       "    this.rubberband_context.strokeStyle = \"#000000\";\n",
       "\n",
       "    this._resize_canvas = function(width, height) {\n",
       "        // Keep the size of the canvas, canvas container, and rubber band\n",
       "        // canvas in synch.\n",
       "        canvas_div.css('width', width)\n",
       "        canvas_div.css('height', height)\n",
       "\n",
       "        canvas.attr('width', width);\n",
       "        canvas.attr('height', height);\n",
       "\n",
       "        rubberband.attr('width', width);\n",
       "        rubberband.attr('height', height);\n",
       "    }\n",
       "\n",
       "    // Set the figure to an initial 600x600px, this will subsequently be updated\n",
       "    // upon first draw.\n",
       "    this._resize_canvas(600, 600);\n",
       "\n",
       "    // Disable right mouse context menu.\n",
       "    $(this.rubberband_canvas).bind(\"contextmenu\",function(e){\n",
       "        return false;\n",
       "    });\n",
       "\n",
       "    function set_focus () {\n",
       "        canvas.focus();\n",
       "        canvas_div.focus();\n",
       "    }\n",
       "\n",
       "    window.setTimeout(set_focus, 100);\n",
       "}\n",
       "\n",
       "mpl.figure.prototype._init_toolbar = function() {\n",
       "    var fig = this;\n",
       "\n",
       "    var nav_element = $('<div/>')\n",
       "    nav_element.attr('style', 'width: 100%');\n",
       "    this.root.append(nav_element);\n",
       "\n",
       "    // Define a callback function for later on.\n",
       "    function toolbar_event(event) {\n",
       "        return fig.toolbar_button_onclick(event['data']);\n",
       "    }\n",
       "    function toolbar_mouse_event(event) {\n",
       "        return fig.toolbar_button_onmouseover(event['data']);\n",
       "    }\n",
       "\n",
       "    for(var toolbar_ind in mpl.toolbar_items) {\n",
       "        var name = mpl.toolbar_items[toolbar_ind][0];\n",
       "        var tooltip = mpl.toolbar_items[toolbar_ind][1];\n",
       "        var image = mpl.toolbar_items[toolbar_ind][2];\n",
       "        var method_name = mpl.toolbar_items[toolbar_ind][3];\n",
       "\n",
       "        if (!name) {\n",
       "            // put a spacer in here.\n",
       "            continue;\n",
       "        }\n",
       "        var button = $('<button/>');\n",
       "        button.addClass('ui-button ui-widget ui-state-default ui-corner-all ' +\n",
       "                        'ui-button-icon-only');\n",
       "        button.attr('role', 'button');\n",
       "        button.attr('aria-disabled', 'false');\n",
       "        button.click(method_name, toolbar_event);\n",
       "        button.mouseover(tooltip, toolbar_mouse_event);\n",
       "\n",
       "        var icon_img = $('<span/>');\n",
       "        icon_img.addClass('ui-button-icon-primary ui-icon');\n",
       "        icon_img.addClass(image);\n",
       "        icon_img.addClass('ui-corner-all');\n",
       "\n",
       "        var tooltip_span = $('<span/>');\n",
       "        tooltip_span.addClass('ui-button-text');\n",
       "        tooltip_span.html(tooltip);\n",
       "\n",
       "        button.append(icon_img);\n",
       "        button.append(tooltip_span);\n",
       "\n",
       "        nav_element.append(button);\n",
       "    }\n",
       "\n",
       "    var fmt_picker_span = $('<span/>');\n",
       "\n",
       "    var fmt_picker = $('<select/>');\n",
       "    fmt_picker.addClass('mpl-toolbar-option ui-widget ui-widget-content');\n",
       "    fmt_picker_span.append(fmt_picker);\n",
       "    nav_element.append(fmt_picker_span);\n",
       "    this.format_dropdown = fmt_picker[0];\n",
       "\n",
       "    for (var ind in mpl.extensions) {\n",
       "        var fmt = mpl.extensions[ind];\n",
       "        var option = $(\n",
       "            '<option/>', {selected: fmt === mpl.default_extension}).html(fmt);\n",
       "        fmt_picker.append(option)\n",
       "    }\n",
       "\n",
       "    // Add hover states to the ui-buttons\n",
       "    $( \".ui-button\" ).hover(\n",
       "        function() { $(this).addClass(\"ui-state-hover\");},\n",
       "        function() { $(this).removeClass(\"ui-state-hover\");}\n",
       "    );\n",
       "\n",
       "    var status_bar = $('<span class=\"mpl-message\"/>');\n",
       "    nav_element.append(status_bar);\n",
       "    this.message = status_bar[0];\n",
       "}\n",
       "\n",
       "mpl.figure.prototype.request_resize = function(x_pixels, y_pixels) {\n",
       "    // Request matplotlib to resize the figure. Matplotlib will then trigger a resize in the client,\n",
       "    // which will in turn request a refresh of the image.\n",
       "    this.send_message('resize', {'width': x_pixels, 'height': y_pixels});\n",
       "}\n",
       "\n",
       "mpl.figure.prototype.send_message = function(type, properties) {\n",
       "    properties['type'] = type;\n",
       "    properties['figure_id'] = this.id;\n",
       "    this.ws.send(JSON.stringify(properties));\n",
       "}\n",
       "\n",
       "mpl.figure.prototype.send_draw_message = function() {\n",
       "    if (!this.waiting) {\n",
       "        this.waiting = true;\n",
       "        this.ws.send(JSON.stringify({type: \"draw\", figure_id: this.id}));\n",
       "    }\n",
       "}\n",
       "\n",
       "\n",
       "mpl.figure.prototype.handle_save = function(fig, msg) {\n",
       "    var format_dropdown = fig.format_dropdown;\n",
       "    var format = format_dropdown.options[format_dropdown.selectedIndex].value;\n",
       "    fig.ondownload(fig, format);\n",
       "}\n",
       "\n",
       "\n",
       "mpl.figure.prototype.handle_resize = function(fig, msg) {\n",
       "    var size = msg['size'];\n",
       "    if (size[0] != fig.canvas.width || size[1] != fig.canvas.height) {\n",
       "        fig._resize_canvas(size[0], size[1]);\n",
       "        fig.send_message(\"refresh\", {});\n",
       "    };\n",
       "}\n",
       "\n",
       "mpl.figure.prototype.handle_rubberband = function(fig, msg) {\n",
       "    var x0 = msg['x0'];\n",
       "    var y0 = fig.canvas.height - msg['y0'];\n",
       "    var x1 = msg['x1'];\n",
       "    var y1 = fig.canvas.height - msg['y1'];\n",
       "    x0 = Math.floor(x0) + 0.5;\n",
       "    y0 = Math.floor(y0) + 0.5;\n",
       "    x1 = Math.floor(x1) + 0.5;\n",
       "    y1 = Math.floor(y1) + 0.5;\n",
       "    var min_x = Math.min(x0, x1);\n",
       "    var min_y = Math.min(y0, y1);\n",
       "    var width = Math.abs(x1 - x0);\n",
       "    var height = Math.abs(y1 - y0);\n",
       "\n",
       "    fig.rubberband_context.clearRect(\n",
       "        0, 0, fig.canvas.width, fig.canvas.height);\n",
       "\n",
       "    fig.rubberband_context.strokeRect(min_x, min_y, width, height);\n",
       "}\n",
       "\n",
       "mpl.figure.prototype.handle_figure_label = function(fig, msg) {\n",
       "    // Updates the figure title.\n",
       "    fig.header.textContent = msg['label'];\n",
       "}\n",
       "\n",
       "mpl.figure.prototype.handle_cursor = function(fig, msg) {\n",
       "    var cursor = msg['cursor'];\n",
       "    switch(cursor)\n",
       "    {\n",
       "    case 0:\n",
       "        cursor = 'pointer';\n",
       "        break;\n",
       "    case 1:\n",
       "        cursor = 'default';\n",
       "        break;\n",
       "    case 2:\n",
       "        cursor = 'crosshair';\n",
       "        break;\n",
       "    case 3:\n",
       "        cursor = 'move';\n",
       "        break;\n",
       "    }\n",
       "    fig.rubberband_canvas.style.cursor = cursor;\n",
       "}\n",
       "\n",
       "mpl.figure.prototype.handle_message = function(fig, msg) {\n",
       "    fig.message.textContent = msg['message'];\n",
       "}\n",
       "\n",
       "mpl.figure.prototype.handle_draw = function(fig, msg) {\n",
       "    // Request the server to send over a new figure.\n",
       "    fig.send_draw_message();\n",
       "}\n",
       "\n",
       "mpl.figure.prototype.handle_image_mode = function(fig, msg) {\n",
       "    fig.image_mode = msg['mode'];\n",
       "}\n",
       "\n",
       "mpl.figure.prototype.updated_canvas_event = function() {\n",
       "    // Called whenever the canvas gets updated.\n",
       "    this.send_message(\"ack\", {});\n",
       "}\n",
       "\n",
       "// A function to construct a web socket function for onmessage handling.\n",
       "// Called in the figure constructor.\n",
       "mpl.figure.prototype._make_on_message_function = function(fig) {\n",
       "    return function socket_on_message(evt) {\n",
       "        if (evt.data instanceof Blob) {\n",
       "            /* FIXME: We get \"Resource interpreted as Image but\n",
       "             * transferred with MIME type text/plain:\" errors on\n",
       "             * Chrome.  But how to set the MIME type?  It doesn't seem\n",
       "             * to be part of the websocket stream */\n",
       "            evt.data.type = \"image/png\";\n",
       "\n",
       "            /* Free the memory for the previous frames */\n",
       "            if (fig.imageObj.src) {\n",
       "                (window.URL || window.webkitURL).revokeObjectURL(\n",
       "                    fig.imageObj.src);\n",
       "            }\n",
       "\n",
       "            fig.imageObj.src = (window.URL || window.webkitURL).createObjectURL(\n",
       "                evt.data);\n",
       "            fig.updated_canvas_event();\n",
       "            fig.waiting = false;\n",
       "            return;\n",
       "        }\n",
       "        else if (typeof evt.data === 'string' && evt.data.slice(0, 21) == \"data:image/png;base64\") {\n",
       "            fig.imageObj.src = evt.data;\n",
       "            fig.updated_canvas_event();\n",
       "            fig.waiting = false;\n",
       "            return;\n",
       "        }\n",
       "\n",
       "        var msg = JSON.parse(evt.data);\n",
       "        var msg_type = msg['type'];\n",
       "\n",
       "        // Call the  \"handle_{type}\" callback, which takes\n",
       "        // the figure and JSON message as its only arguments.\n",
       "        try {\n",
       "            var callback = fig[\"handle_\" + msg_type];\n",
       "        } catch (e) {\n",
       "            console.log(\"No handler for the '\" + msg_type + \"' message type: \", msg);\n",
       "            return;\n",
       "        }\n",
       "\n",
       "        if (callback) {\n",
       "            try {\n",
       "                // console.log(\"Handling '\" + msg_type + \"' message: \", msg);\n",
       "                callback(fig, msg);\n",
       "            } catch (e) {\n",
       "                console.log(\"Exception inside the 'handler_\" + msg_type + \"' callback:\", e, e.stack, msg);\n",
       "            }\n",
       "        }\n",
       "    };\n",
       "}\n",
       "\n",
       "// from http://stackoverflow.com/questions/1114465/getting-mouse-location-in-canvas\n",
       "mpl.findpos = function(e) {\n",
       "    //this section is from http://www.quirksmode.org/js/events_properties.html\n",
       "    var targ;\n",
       "    if (!e)\n",
       "        e = window.event;\n",
       "    if (e.target)\n",
       "        targ = e.target;\n",
       "    else if (e.srcElement)\n",
       "        targ = e.srcElement;\n",
       "    if (targ.nodeType == 3) // defeat Safari bug\n",
       "        targ = targ.parentNode;\n",
       "\n",
       "    // jQuery normalizes the pageX and pageY\n",
       "    // pageX,Y are the mouse positions relative to the document\n",
       "    // offset() returns the position of the element relative to the document\n",
       "    var x = e.pageX - $(targ).offset().left;\n",
       "    var y = e.pageY - $(targ).offset().top;\n",
       "\n",
       "    return {\"x\": x, \"y\": y};\n",
       "};\n",
       "\n",
       "/*\n",
       " * return a copy of an object with only non-object keys\n",
       " * we need this to avoid circular references\n",
       " * http://stackoverflow.com/a/24161582/3208463\n",
       " */\n",
       "function simpleKeys (original) {\n",
       "  return Object.keys(original).reduce(function (obj, key) {\n",
       "    if (typeof original[key] !== 'object')\n",
       "        obj[key] = original[key]\n",
       "    return obj;\n",
       "  }, {});\n",
       "}\n",
       "\n",
       "mpl.figure.prototype.mouse_event = function(event, name) {\n",
       "    var canvas_pos = mpl.findpos(event)\n",
       "\n",
       "    if (name === 'button_press')\n",
       "    {\n",
       "        this.canvas.focus();\n",
       "        this.canvas_div.focus();\n",
       "    }\n",
       "\n",
       "    var x = canvas_pos.x;\n",
       "    var y = canvas_pos.y;\n",
       "\n",
       "    this.send_message(name, {x: x, y: y, button: event.button,\n",
       "                             step: event.step,\n",
       "                             guiEvent: simpleKeys(event)});\n",
       "\n",
       "    /* This prevents the web browser from automatically changing to\n",
       "     * the text insertion cursor when the button is pressed.  We want\n",
       "     * to control all of the cursor setting manually through the\n",
       "     * 'cursor' event from matplotlib */\n",
       "    event.preventDefault();\n",
       "    return false;\n",
       "}\n",
       "\n",
       "mpl.figure.prototype._key_event_extra = function(event, name) {\n",
       "    // Handle any extra behaviour associated with a key event\n",
       "}\n",
       "\n",
       "mpl.figure.prototype.key_event = function(event, name) {\n",
       "\n",
       "    // Prevent repeat events\n",
       "    if (name == 'key_press')\n",
       "    {\n",
       "        if (event.which === this._key)\n",
       "            return;\n",
       "        else\n",
       "            this._key = event.which;\n",
       "    }\n",
       "    if (name == 'key_release')\n",
       "        this._key = null;\n",
       "\n",
       "    var value = '';\n",
       "    if (event.ctrlKey && event.which != 17)\n",
       "        value += \"ctrl+\";\n",
       "    if (event.altKey && event.which != 18)\n",
       "        value += \"alt+\";\n",
       "    if (event.shiftKey && event.which != 16)\n",
       "        value += \"shift+\";\n",
       "\n",
       "    value += 'k';\n",
       "    value += event.which.toString();\n",
       "\n",
       "    this._key_event_extra(event, name);\n",
       "\n",
       "    this.send_message(name, {key: value,\n",
       "                             guiEvent: simpleKeys(event)});\n",
       "    return false;\n",
       "}\n",
       "\n",
       "mpl.figure.prototype.toolbar_button_onclick = function(name) {\n",
       "    if (name == 'download') {\n",
       "        this.handle_save(this, null);\n",
       "    } else {\n",
       "        this.send_message(\"toolbar_button\", {name: name});\n",
       "    }\n",
       "};\n",
       "\n",
       "mpl.figure.prototype.toolbar_button_onmouseover = function(tooltip) {\n",
       "    this.message.textContent = tooltip;\n",
       "};\n",
       "mpl.toolbar_items = [[\"Home\", \"Reset original view\", \"fa fa-home icon-home\", \"home\"], [\"Back\", \"Back to  previous view\", \"fa fa-arrow-left icon-arrow-left\", \"back\"], [\"Forward\", \"Forward to next view\", \"fa fa-arrow-right icon-arrow-right\", \"forward\"], [\"\", \"\", \"\", \"\"], [\"Pan\", \"Pan axes with left mouse, zoom with right\", \"fa fa-arrows icon-move\", \"pan\"], [\"Zoom\", \"Zoom to rectangle\", \"fa fa-square-o icon-check-empty\", \"zoom\"], [\"\", \"\", \"\", \"\"], [\"Download\", \"Download plot\", \"fa fa-floppy-o icon-save\", \"download\"]];\n",
       "\n",
       "mpl.extensions = [\"eps\", \"pdf\", \"png\", \"ps\", \"raw\", \"svg\"];\n",
       "\n",
       "mpl.default_extension = \"png\";var comm_websocket_adapter = function(comm) {\n",
       "    // Create a \"websocket\"-like object which calls the given IPython comm\n",
       "    // object with the appropriate methods. Currently this is a non binary\n",
       "    // socket, so there is still some room for performance tuning.\n",
       "    var ws = {};\n",
       "\n",
       "    ws.close = function() {\n",
       "        comm.close()\n",
       "    };\n",
       "    ws.send = function(m) {\n",
       "        //console.log('sending', m);\n",
       "        comm.send(m);\n",
       "    };\n",
       "    // Register the callback with on_msg.\n",
       "    comm.on_msg(function(msg) {\n",
       "        //console.log('receiving', msg['content']['data'], msg);\n",
       "        // Pass the mpl event to the overriden (by mpl) onmessage function.\n",
       "        ws.onmessage(msg['content']['data'])\n",
       "    });\n",
       "    return ws;\n",
       "}\n",
       "\n",
       "mpl.mpl_figure_comm = function(comm, msg) {\n",
       "    // This is the function which gets called when the mpl process\n",
       "    // starts-up an IPython Comm through the \"matplotlib\" channel.\n",
       "\n",
       "    var id = msg.content.data.id;\n",
       "    // Get hold of the div created by the display call when the Comm\n",
       "    // socket was opened in Python.\n",
       "    var element = $(\"#\" + id);\n",
       "    var ws_proxy = comm_websocket_adapter(comm)\n",
       "\n",
       "    function ondownload(figure, format) {\n",
       "        window.open(figure.imageObj.src);\n",
       "    }\n",
       "\n",
       "    var fig = new mpl.figure(id, ws_proxy,\n",
       "                           ondownload,\n",
       "                           element.get(0));\n",
       "\n",
       "    // Call onopen now - mpl needs it, as it is assuming we've passed it a real\n",
       "    // web socket which is closed, not our websocket->open comm proxy.\n",
       "    ws_proxy.onopen();\n",
       "\n",
       "    fig.parent_element = element.get(0);\n",
       "    fig.cell_info = mpl.find_output_cell(\"<div id='\" + id + \"'></div>\");\n",
       "    if (!fig.cell_info) {\n",
       "        console.error(\"Failed to find cell for figure\", id, fig);\n",
       "        return;\n",
       "    }\n",
       "\n",
       "    var output_index = fig.cell_info[2]\n",
       "    var cell = fig.cell_info[0];\n",
       "\n",
       "};\n",
       "\n",
       "mpl.figure.prototype.handle_close = function(fig, msg) {\n",
       "    fig.root.unbind('remove')\n",
       "\n",
       "    // Update the output cell to use the data from the current canvas.\n",
       "    fig.push_to_output();\n",
       "    var dataURL = fig.canvas.toDataURL();\n",
       "    // Re-enable the keyboard manager in IPython - without this line, in FF,\n",
       "    // the notebook keyboard shortcuts fail.\n",
       "    IPython.keyboard_manager.enable()\n",
       "    $(fig.parent_element).html('<img src=\"' + dataURL + '\">');\n",
       "    fig.close_ws(fig, msg);\n",
       "}\n",
       "\n",
       "mpl.figure.prototype.close_ws = function(fig, msg){\n",
       "    fig.send_message('closing', msg);\n",
       "    // fig.ws.close()\n",
       "}\n",
       "\n",
       "mpl.figure.prototype.push_to_output = function(remove_interactive) {\n",
       "    // Turn the data on the canvas into data in the output cell.\n",
       "    var dataURL = this.canvas.toDataURL();\n",
       "    this.cell_info[1]['text/html'] = '<img src=\"' + dataURL + '\">';\n",
       "}\n",
       "\n",
       "mpl.figure.prototype.updated_canvas_event = function() {\n",
       "    // Tell IPython that the notebook contents must change.\n",
       "    IPython.notebook.set_dirty(true);\n",
       "    this.send_message(\"ack\", {});\n",
       "    var fig = this;\n",
       "    // Wait a second, then push the new image to the DOM so\n",
       "    // that it is saved nicely (might be nice to debounce this).\n",
       "    setTimeout(function () { fig.push_to_output() }, 1000);\n",
       "}\n",
       "\n",
       "mpl.figure.prototype._init_toolbar = function() {\n",
       "    var fig = this;\n",
       "\n",
       "    var nav_element = $('<div/>')\n",
       "    nav_element.attr('style', 'width: 100%');\n",
       "    this.root.append(nav_element);\n",
       "\n",
       "    // Define a callback function for later on.\n",
       "    function toolbar_event(event) {\n",
       "        return fig.toolbar_button_onclick(event['data']);\n",
       "    }\n",
       "    function toolbar_mouse_event(event) {\n",
       "        return fig.toolbar_button_onmouseover(event['data']);\n",
       "    }\n",
       "\n",
       "    for(var toolbar_ind in mpl.toolbar_items){\n",
       "        var name = mpl.toolbar_items[toolbar_ind][0];\n",
       "        var tooltip = mpl.toolbar_items[toolbar_ind][1];\n",
       "        var image = mpl.toolbar_items[toolbar_ind][2];\n",
       "        var method_name = mpl.toolbar_items[toolbar_ind][3];\n",
       "\n",
       "        if (!name) { continue; };\n",
       "\n",
       "        var button = $('<button class=\"btn btn-default\" href=\"#\" title=\"' + name + '\"><i class=\"fa ' + image + ' fa-lg\"></i></button>');\n",
       "        button.click(method_name, toolbar_event);\n",
       "        button.mouseover(tooltip, toolbar_mouse_event);\n",
       "        nav_element.append(button);\n",
       "    }\n",
       "\n",
       "    // Add the status bar.\n",
       "    var status_bar = $('<span class=\"mpl-message\" style=\"text-align:right; float: right;\"/>');\n",
       "    nav_element.append(status_bar);\n",
       "    this.message = status_bar[0];\n",
       "\n",
       "    // Add the close button to the window.\n",
       "    var buttongrp = $('<div class=\"btn-group inline pull-right\"></div>');\n",
       "    var button = $('<button class=\"btn btn-mini btn-primary\" href=\"#\" title=\"Stop Interaction\"><i class=\"fa fa-power-off icon-remove icon-large\"></i></button>');\n",
       "    button.click(function (evt) { fig.handle_close(fig, {}); } );\n",
       "    button.mouseover('Stop Interaction', toolbar_mouse_event);\n",
       "    buttongrp.append(button);\n",
       "    var titlebar = this.root.find($('.ui-dialog-titlebar'));\n",
       "    titlebar.prepend(buttongrp);\n",
       "}\n",
       "\n",
       "mpl.figure.prototype._root_extra_style = function(el){\n",
       "    var fig = this\n",
       "    el.on(\"remove\", function(){\n",
       "\tfig.close_ws(fig, {});\n",
       "    });\n",
       "}\n",
       "\n",
       "mpl.figure.prototype._canvas_extra_style = function(el){\n",
       "    // this is important to make the div 'focusable\n",
       "    el.attr('tabindex', 0)\n",
       "    // reach out to IPython and tell the keyboard manager to turn it's self\n",
       "    // off when our div gets focus\n",
       "\n",
       "    // location in version 3\n",
       "    if (IPython.notebook.keyboard_manager) {\n",
       "        IPython.notebook.keyboard_manager.register_events(el);\n",
       "    }\n",
       "    else {\n",
       "        // location in version 2\n",
       "        IPython.keyboard_manager.register_events(el);\n",
       "    }\n",
       "\n",
       "}\n",
       "\n",
       "mpl.figure.prototype._key_event_extra = function(event, name) {\n",
       "    var manager = IPython.notebook.keyboard_manager;\n",
       "    if (!manager)\n",
       "        manager = IPython.keyboard_manager;\n",
       "\n",
       "    // Check for shift+enter\n",
       "    if (event.shiftKey && event.which == 13) {\n",
       "        this.canvas_div.blur();\n",
       "        event.shiftKey = false;\n",
       "        // Send a \"J\" for go to next cell\n",
       "        event.which = 74;\n",
       "        event.keyCode = 74;\n",
       "        manager.command_mode();\n",
       "        manager.handle_keydown(event);\n",
       "    }\n",
       "}\n",
       "\n",
       "mpl.figure.prototype.handle_save = function(fig, msg) {\n",
       "    fig.ondownload(fig, null);\n",
       "}\n",
       "\n",
       "\n",
       "mpl.find_output_cell = function(html_output) {\n",
       "    // Return the cell and output element which can be found *uniquely* in the notebook.\n",
       "    // Note - this is a bit hacky, but it is done because the \"notebook_saving.Notebook\"\n",
       "    // IPython event is triggered only after the cells have been serialised, which for\n",
       "    // our purposes (turning an active figure into a static one), is too late.\n",
       "    var cells = IPython.notebook.get_cells();\n",
       "    var ncells = cells.length;\n",
       "    for (var i=0; i<ncells; i++) {\n",
       "        var cell = cells[i];\n",
       "        if (cell.cell_type === 'code'){\n",
       "            for (var j=0; j<cell.output_area.outputs.length; j++) {\n",
       "                var data = cell.output_area.outputs[j];\n",
       "                if (data.data) {\n",
       "                    // IPython >= 3 moved mimebundle to data attribute of output\n",
       "                    data = data.data;\n",
       "                }\n",
       "                if (data['text/html'] == html_output) {\n",
       "                    return [cell, data, j];\n",
       "                }\n",
       "            }\n",
       "        }\n",
       "    }\n",
       "}\n",
       "\n",
       "// Register the function which deals with the matplotlib target/channel.\n",
       "// The kernel may be null if the page has been refreshed.\n",
       "if (IPython.notebook.kernel != null) {\n",
       "    IPython.notebook.kernel.comm_manager.register_target('matplotlib', mpl.mpl_figure_comm);\n",
       "}\n"
      ],
      "text/plain": [
       "<IPython.core.display.Javascript object>"
      ]
     },
     "metadata": {},
     "output_type": "display_data"
    },
    {
     "data": {
      "text/html": [
       "<img src=\"data:image/png;base64,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\">"
      ],
      "text/plain": [
       "<IPython.core.display.HTML object>"
      ]
     },
     "metadata": {},
     "output_type": "display_data"
    },
    {
     "data": {
      "text/plain": [
       "<matplotlib.image.AxesImage at 0x111c5da90>"
      ]
     },
     "execution_count": 100,
     "metadata": {},
     "output_type": "execute_result"
    }
   ],
   "source": [
    "data = pyfits.getdata(filename,0)\n",
    "\n",
    "%matplotlib notebook\n",
    "from matplotlib.pyplot import *\n",
    "imshow(data)"
   ]
  },
  {
   "cell_type": "markdown",
   "metadata": {
    "slideshow": {
     "slide_type": "slide"
    }
   },
   "source": [
    "## Temporary files (pickling)"
   ]
  },
  {
   "cell_type": "code",
   "execution_count": 71,
   "metadata": {
    "collapsed": false
   },
   "outputs": [
    {
     "data": {
      "text/plain": [
       "range(0, 10)"
      ]
     },
     "execution_count": 71,
     "metadata": {},
     "output_type": "execute_result"
    }
   ],
   "source": [
    "# Python 2: import cPickle as pickle\n",
    "import pickle\n",
    "\n",
    "data = range(10)\n",
    "pickle.dump(data, open('test.pkl', 'wb'))\n",
    "\n",
    "del data\n",
    "\n",
    "pickle.load(open('test.pkl', 'rb'))"
   ]
  },
  {
   "cell_type": "markdown",
   "metadata": {
    "slideshow": {
     "slide_type": "slide"
    }
   },
   "source": [
    "## IDL savefiles"
   ]
  },
  {
   "cell_type": "raw",
   "metadata": {},
   "source": [
    "IDL> data = ['do','you','really','want','to','do','this','?']\n",
    "IDL> save, data, filename='idl.sav'"
   ]
  },
  {
   "cell_type": "code",
   "execution_count": 72,
   "metadata": {
    "collapsed": false
   },
   "outputs": [
    {
     "data": {
      "text/plain": [
       "{'data': array([b'do', b'you', b'really', b'want', b'to', b'do', b'this', b'?'], dtype=object)}"
      ]
     },
     "execution_count": 72,
     "metadata": {},
     "output_type": "execute_result"
    }
   ],
   "source": [
    "import scipy.io\n",
    "scipy.io.idl.readsav('idl.sav') "
   ]
  },
  {
   "cell_type": "markdown",
   "metadata": {
    "slideshow": {
     "slide_type": "slide"
    }
   },
   "source": [
    "# <a id='Plotting'></a> <center>Plotting</center>"
   ]
  },
  {
   "cell_type": "markdown",
   "metadata": {},
   "source": [
    "## Initialization "
   ]
  },
  {
   "cell_type": "code",
   "execution_count": 73,
   "metadata": {
    "collapsed": false
   },
   "outputs": [],
   "source": [
    "%matplotlib notebook\n",
    "from matplotlib.pyplot import *\n",
    "import numpy"
   ]
  },
  {
   "cell_type": "markdown",
   "metadata": {
    "slideshow": {
     "slide_type": "subslide"
    }
   },
   "source": [
    "## Simple Lines/Saving"
   ]
  },
  {
   "cell_type": "code",
   "execution_count": 90,
   "metadata": {
    "collapsed": false
   },
   "outputs": [
    {
     "data": {
      "application/javascript": [
       "/* Put everything inside the global mpl namespace */\n",
       "window.mpl = {};\n",
       "\n",
       "mpl.get_websocket_type = function() {\n",
       "    if (typeof(WebSocket) !== 'undefined') {\n",
       "        return WebSocket;\n",
       "    } else if (typeof(MozWebSocket) !== 'undefined') {\n",
       "        return MozWebSocket;\n",
       "    } else {\n",
       "        alert('Your browser does not have WebSocket support.' +\n",
       "              'Please try Chrome, Safari or Firefox ≥ 6. ' +\n",
       "              'Firefox 4 and 5 are also supported but you ' +\n",
       "              'have to enable WebSockets in about:config.');\n",
       "    };\n",
       "}\n",
       "\n",
       "mpl.figure = function(figure_id, websocket, ondownload, parent_element) {\n",
       "    this.id = figure_id;\n",
       "\n",
       "    this.ws = websocket;\n",
       "\n",
       "    this.supports_binary = (this.ws.binaryType != undefined);\n",
       "\n",
       "    if (!this.supports_binary) {\n",
       "        var warnings = document.getElementById(\"mpl-warnings\");\n",
       "        if (warnings) {\n",
       "            warnings.style.display = 'block';\n",
       "            warnings.textContent = (\n",
       "                \"This browser does not support binary websocket messages. \" +\n",
       "                    \"Performance may be slow.\");\n",
       "        }\n",
       "    }\n",
       "\n",
       "    this.imageObj = new Image();\n",
       "\n",
       "    this.context = undefined;\n",
       "    this.message = undefined;\n",
       "    this.canvas = undefined;\n",
       "    this.rubberband_canvas = undefined;\n",
       "    this.rubberband_context = undefined;\n",
       "    this.format_dropdown = undefined;\n",
       "\n",
       "    this.image_mode = 'full';\n",
       "\n",
       "    this.root = $('<div/>');\n",
       "    this._root_extra_style(this.root)\n",
       "    this.root.attr('style', 'display: inline-block');\n",
       "\n",
       "    $(parent_element).append(this.root);\n",
       "\n",
       "    this._init_header(this);\n",
       "    this._init_canvas(this);\n",
       "    this._init_toolbar(this);\n",
       "\n",
       "    var fig = this;\n",
       "\n",
       "    this.waiting = false;\n",
       "\n",
       "    this.ws.onopen =  function () {\n",
       "            fig.send_message(\"supports_binary\", {value: fig.supports_binary});\n",
       "            fig.send_message(\"send_image_mode\", {});\n",
       "            fig.send_message(\"refresh\", {});\n",
       "        }\n",
       "\n",
       "    this.imageObj.onload = function() {\n",
       "            if (fig.image_mode == 'full') {\n",
       "                // Full images could contain transparency (where diff images\n",
       "                // almost always do), so we need to clear the canvas so that\n",
       "                // there is no ghosting.\n",
       "                fig.context.clearRect(0, 0, fig.canvas.width, fig.canvas.height);\n",
       "            }\n",
       "            fig.context.drawImage(fig.imageObj, 0, 0);\n",
       "        };\n",
       "\n",
       "    this.imageObj.onunload = function() {\n",
       "        this.ws.close();\n",
       "    }\n",
       "\n",
       "    this.ws.onmessage = this._make_on_message_function(this);\n",
       "\n",
       "    this.ondownload = ondownload;\n",
       "}\n",
       "\n",
       "mpl.figure.prototype._init_header = function() {\n",
       "    var titlebar = $(\n",
       "        '<div class=\"ui-dialog-titlebar ui-widget-header ui-corner-all ' +\n",
       "        'ui-helper-clearfix\"/>');\n",
       "    var titletext = $(\n",
       "        '<div class=\"ui-dialog-title\" style=\"width: 100%; ' +\n",
       "        'text-align: center; padding: 3px;\"/>');\n",
       "    titlebar.append(titletext)\n",
       "    this.root.append(titlebar);\n",
       "    this.header = titletext[0];\n",
       "}\n",
       "\n",
       "\n",
       "\n",
       "mpl.figure.prototype._canvas_extra_style = function(canvas_div) {\n",
       "\n",
       "}\n",
       "\n",
       "\n",
       "mpl.figure.prototype._root_extra_style = function(canvas_div) {\n",
       "\n",
       "}\n",
       "\n",
       "mpl.figure.prototype._init_canvas = function() {\n",
       "    var fig = this;\n",
       "\n",
       "    var canvas_div = $('<div/>');\n",
       "\n",
       "    canvas_div.attr('style', 'position: relative; clear: both; outline: 0');\n",
       "\n",
       "    function canvas_keyboard_event(event) {\n",
       "        return fig.key_event(event, event['data']);\n",
       "    }\n",
       "\n",
       "    canvas_div.keydown('key_press', canvas_keyboard_event);\n",
       "    canvas_div.keyup('key_release', canvas_keyboard_event);\n",
       "    this.canvas_div = canvas_div\n",
       "    this._canvas_extra_style(canvas_div)\n",
       "    this.root.append(canvas_div);\n",
       "\n",
       "    var canvas = $('<canvas/>');\n",
       "    canvas.addClass('mpl-canvas');\n",
       "    canvas.attr('style', \"left: 0; top: 0; z-index: 0; outline: 0\")\n",
       "\n",
       "    this.canvas = canvas[0];\n",
       "    this.context = canvas[0].getContext(\"2d\");\n",
       "\n",
       "    var rubberband = $('<canvas/>');\n",
       "    rubberband.attr('style', \"position: absolute; left: 0; top: 0; z-index: 1;\")\n",
       "\n",
       "    var pass_mouse_events = true;\n",
       "\n",
       "    canvas_div.resizable({\n",
       "        start: function(event, ui) {\n",
       "            pass_mouse_events = false;\n",
       "        },\n",
       "        resize: function(event, ui) {\n",
       "            fig.request_resize(ui.size.width, ui.size.height);\n",
       "        },\n",
       "        stop: function(event, ui) {\n",
       "            pass_mouse_events = true;\n",
       "            fig.request_resize(ui.size.width, ui.size.height);\n",
       "        },\n",
       "    });\n",
       "\n",
       "    function mouse_event_fn(event) {\n",
       "        if (pass_mouse_events)\n",
       "            return fig.mouse_event(event, event['data']);\n",
       "    }\n",
       "\n",
       "    rubberband.mousedown('button_press', mouse_event_fn);\n",
       "    rubberband.mouseup('button_release', mouse_event_fn);\n",
       "    // Throttle sequential mouse events to 1 every 20ms.\n",
       "    rubberband.mousemove('motion_notify', mouse_event_fn);\n",
       "\n",
       "    rubberband.mouseenter('figure_enter', mouse_event_fn);\n",
       "    rubberband.mouseleave('figure_leave', mouse_event_fn);\n",
       "\n",
       "    canvas_div.on(\"wheel\", function (event) {\n",
       "        event = event.originalEvent;\n",
       "        event['data'] = 'scroll'\n",
       "        if (event.deltaY < 0) {\n",
       "            event.step = 1;\n",
       "        } else {\n",
       "            event.step = -1;\n",
       "        }\n",
       "        mouse_event_fn(event);\n",
       "    });\n",
       "\n",
       "    canvas_div.append(canvas);\n",
       "    canvas_div.append(rubberband);\n",
       "\n",
       "    this.rubberband = rubberband;\n",
       "    this.rubberband_canvas = rubberband[0];\n",
       "    this.rubberband_context = rubberband[0].getContext(\"2d\");\n",
       "    this.rubberband_context.strokeStyle = \"#000000\";\n",
       "\n",
       "    this._resize_canvas = function(width, height) {\n",
       "        // Keep the size of the canvas, canvas container, and rubber band\n",
       "        // canvas in synch.\n",
       "        canvas_div.css('width', width)\n",
       "        canvas_div.css('height', height)\n",
       "\n",
       "        canvas.attr('width', width);\n",
       "        canvas.attr('height', height);\n",
       "\n",
       "        rubberband.attr('width', width);\n",
       "        rubberband.attr('height', height);\n",
       "    }\n",
       "\n",
       "    // Set the figure to an initial 600x600px, this will subsequently be updated\n",
       "    // upon first draw.\n",
       "    this._resize_canvas(600, 600);\n",
       "\n",
       "    // Disable right mouse context menu.\n",
       "    $(this.rubberband_canvas).bind(\"contextmenu\",function(e){\n",
       "        return false;\n",
       "    });\n",
       "\n",
       "    function set_focus () {\n",
       "        canvas.focus();\n",
       "        canvas_div.focus();\n",
       "    }\n",
       "\n",
       "    window.setTimeout(set_focus, 100);\n",
       "}\n",
       "\n",
       "mpl.figure.prototype._init_toolbar = function() {\n",
       "    var fig = this;\n",
       "\n",
       "    var nav_element = $('<div/>')\n",
       "    nav_element.attr('style', 'width: 100%');\n",
       "    this.root.append(nav_element);\n",
       "\n",
       "    // Define a callback function for later on.\n",
       "    function toolbar_event(event) {\n",
       "        return fig.toolbar_button_onclick(event['data']);\n",
       "    }\n",
       "    function toolbar_mouse_event(event) {\n",
       "        return fig.toolbar_button_onmouseover(event['data']);\n",
       "    }\n",
       "\n",
       "    for(var toolbar_ind in mpl.toolbar_items) {\n",
       "        var name = mpl.toolbar_items[toolbar_ind][0];\n",
       "        var tooltip = mpl.toolbar_items[toolbar_ind][1];\n",
       "        var image = mpl.toolbar_items[toolbar_ind][2];\n",
       "        var method_name = mpl.toolbar_items[toolbar_ind][3];\n",
       "\n",
       "        if (!name) {\n",
       "            // put a spacer in here.\n",
       "            continue;\n",
       "        }\n",
       "        var button = $('<button/>');\n",
       "        button.addClass('ui-button ui-widget ui-state-default ui-corner-all ' +\n",
       "                        'ui-button-icon-only');\n",
       "        button.attr('role', 'button');\n",
       "        button.attr('aria-disabled', 'false');\n",
       "        button.click(method_name, toolbar_event);\n",
       "        button.mouseover(tooltip, toolbar_mouse_event);\n",
       "\n",
       "        var icon_img = $('<span/>');\n",
       "        icon_img.addClass('ui-button-icon-primary ui-icon');\n",
       "        icon_img.addClass(image);\n",
       "        icon_img.addClass('ui-corner-all');\n",
       "\n",
       "        var tooltip_span = $('<span/>');\n",
       "        tooltip_span.addClass('ui-button-text');\n",
       "        tooltip_span.html(tooltip);\n",
       "\n",
       "        button.append(icon_img);\n",
       "        button.append(tooltip_span);\n",
       "\n",
       "        nav_element.append(button);\n",
       "    }\n",
       "\n",
       "    var fmt_picker_span = $('<span/>');\n",
       "\n",
       "    var fmt_picker = $('<select/>');\n",
       "    fmt_picker.addClass('mpl-toolbar-option ui-widget ui-widget-content');\n",
       "    fmt_picker_span.append(fmt_picker);\n",
       "    nav_element.append(fmt_picker_span);\n",
       "    this.format_dropdown = fmt_picker[0];\n",
       "\n",
       "    for (var ind in mpl.extensions) {\n",
       "        var fmt = mpl.extensions[ind];\n",
       "        var option = $(\n",
       "            '<option/>', {selected: fmt === mpl.default_extension}).html(fmt);\n",
       "        fmt_picker.append(option)\n",
       "    }\n",
       "\n",
       "    // Add hover states to the ui-buttons\n",
       "    $( \".ui-button\" ).hover(\n",
       "        function() { $(this).addClass(\"ui-state-hover\");},\n",
       "        function() { $(this).removeClass(\"ui-state-hover\");}\n",
       "    );\n",
       "\n",
       "    var status_bar = $('<span class=\"mpl-message\"/>');\n",
       "    nav_element.append(status_bar);\n",
       "    this.message = status_bar[0];\n",
       "}\n",
       "\n",
       "mpl.figure.prototype.request_resize = function(x_pixels, y_pixels) {\n",
       "    // Request matplotlib to resize the figure. Matplotlib will then trigger a resize in the client,\n",
       "    // which will in turn request a refresh of the image.\n",
       "    this.send_message('resize', {'width': x_pixels, 'height': y_pixels});\n",
       "}\n",
       "\n",
       "mpl.figure.prototype.send_message = function(type, properties) {\n",
       "    properties['type'] = type;\n",
       "    properties['figure_id'] = this.id;\n",
       "    this.ws.send(JSON.stringify(properties));\n",
       "}\n",
       "\n",
       "mpl.figure.prototype.send_draw_message = function() {\n",
       "    if (!this.waiting) {\n",
       "        this.waiting = true;\n",
       "        this.ws.send(JSON.stringify({type: \"draw\", figure_id: this.id}));\n",
       "    }\n",
       "}\n",
       "\n",
       "\n",
       "mpl.figure.prototype.handle_save = function(fig, msg) {\n",
       "    var format_dropdown = fig.format_dropdown;\n",
       "    var format = format_dropdown.options[format_dropdown.selectedIndex].value;\n",
       "    fig.ondownload(fig, format);\n",
       "}\n",
       "\n",
       "\n",
       "mpl.figure.prototype.handle_resize = function(fig, msg) {\n",
       "    var size = msg['size'];\n",
       "    if (size[0] != fig.canvas.width || size[1] != fig.canvas.height) {\n",
       "        fig._resize_canvas(size[0], size[1]);\n",
       "        fig.send_message(\"refresh\", {});\n",
       "    };\n",
       "}\n",
       "\n",
       "mpl.figure.prototype.handle_rubberband = function(fig, msg) {\n",
       "    var x0 = msg['x0'];\n",
       "    var y0 = fig.canvas.height - msg['y0'];\n",
       "    var x1 = msg['x1'];\n",
       "    var y1 = fig.canvas.height - msg['y1'];\n",
       "    x0 = Math.floor(x0) + 0.5;\n",
       "    y0 = Math.floor(y0) + 0.5;\n",
       "    x1 = Math.floor(x1) + 0.5;\n",
       "    y1 = Math.floor(y1) + 0.5;\n",
       "    var min_x = Math.min(x0, x1);\n",
       "    var min_y = Math.min(y0, y1);\n",
       "    var width = Math.abs(x1 - x0);\n",
       "    var height = Math.abs(y1 - y0);\n",
       "\n",
       "    fig.rubberband_context.clearRect(\n",
       "        0, 0, fig.canvas.width, fig.canvas.height);\n",
       "\n",
       "    fig.rubberband_context.strokeRect(min_x, min_y, width, height);\n",
       "}\n",
       "\n",
       "mpl.figure.prototype.handle_figure_label = function(fig, msg) {\n",
       "    // Updates the figure title.\n",
       "    fig.header.textContent = msg['label'];\n",
       "}\n",
       "\n",
       "mpl.figure.prototype.handle_cursor = function(fig, msg) {\n",
       "    var cursor = msg['cursor'];\n",
       "    switch(cursor)\n",
       "    {\n",
       "    case 0:\n",
       "        cursor = 'pointer';\n",
       "        break;\n",
       "    case 1:\n",
       "        cursor = 'default';\n",
       "        break;\n",
       "    case 2:\n",
       "        cursor = 'crosshair';\n",
       "        break;\n",
       "    case 3:\n",
       "        cursor = 'move';\n",
       "        break;\n",
       "    }\n",
       "    fig.rubberband_canvas.style.cursor = cursor;\n",
       "}\n",
       "\n",
       "mpl.figure.prototype.handle_message = function(fig, msg) {\n",
       "    fig.message.textContent = msg['message'];\n",
       "}\n",
       "\n",
       "mpl.figure.prototype.handle_draw = function(fig, msg) {\n",
       "    // Request the server to send over a new figure.\n",
       "    fig.send_draw_message();\n",
       "}\n",
       "\n",
       "mpl.figure.prototype.handle_image_mode = function(fig, msg) {\n",
       "    fig.image_mode = msg['mode'];\n",
       "}\n",
       "\n",
       "mpl.figure.prototype.updated_canvas_event = function() {\n",
       "    // Called whenever the canvas gets updated.\n",
       "    this.send_message(\"ack\", {});\n",
       "}\n",
       "\n",
       "// A function to construct a web socket function for onmessage handling.\n",
       "// Called in the figure constructor.\n",
       "mpl.figure.prototype._make_on_message_function = function(fig) {\n",
       "    return function socket_on_message(evt) {\n",
       "        if (evt.data instanceof Blob) {\n",
       "            /* FIXME: We get \"Resource interpreted as Image but\n",
       "             * transferred with MIME type text/plain:\" errors on\n",
       "             * Chrome.  But how to set the MIME type?  It doesn't seem\n",
       "             * to be part of the websocket stream */\n",
       "            evt.data.type = \"image/png\";\n",
       "\n",
       "            /* Free the memory for the previous frames */\n",
       "            if (fig.imageObj.src) {\n",
       "                (window.URL || window.webkitURL).revokeObjectURL(\n",
       "                    fig.imageObj.src);\n",
       "            }\n",
       "\n",
       "            fig.imageObj.src = (window.URL || window.webkitURL).createObjectURL(\n",
       "                evt.data);\n",
       "            fig.updated_canvas_event();\n",
       "            fig.waiting = false;\n",
       "            return;\n",
       "        }\n",
       "        else if (typeof evt.data === 'string' && evt.data.slice(0, 21) == \"data:image/png;base64\") {\n",
       "            fig.imageObj.src = evt.data;\n",
       "            fig.updated_canvas_event();\n",
       "            fig.waiting = false;\n",
       "            return;\n",
       "        }\n",
       "\n",
       "        var msg = JSON.parse(evt.data);\n",
       "        var msg_type = msg['type'];\n",
       "\n",
       "        // Call the  \"handle_{type}\" callback, which takes\n",
       "        // the figure and JSON message as its only arguments.\n",
       "        try {\n",
       "            var callback = fig[\"handle_\" + msg_type];\n",
       "        } catch (e) {\n",
       "            console.log(\"No handler for the '\" + msg_type + \"' message type: \", msg);\n",
       "            return;\n",
       "        }\n",
       "\n",
       "        if (callback) {\n",
       "            try {\n",
       "                // console.log(\"Handling '\" + msg_type + \"' message: \", msg);\n",
       "                callback(fig, msg);\n",
       "            } catch (e) {\n",
       "                console.log(\"Exception inside the 'handler_\" + msg_type + \"' callback:\", e, e.stack, msg);\n",
       "            }\n",
       "        }\n",
       "    };\n",
       "}\n",
       "\n",
       "// from http://stackoverflow.com/questions/1114465/getting-mouse-location-in-canvas\n",
       "mpl.findpos = function(e) {\n",
       "    //this section is from http://www.quirksmode.org/js/events_properties.html\n",
       "    var targ;\n",
       "    if (!e)\n",
       "        e = window.event;\n",
       "    if (e.target)\n",
       "        targ = e.target;\n",
       "    else if (e.srcElement)\n",
       "        targ = e.srcElement;\n",
       "    if (targ.nodeType == 3) // defeat Safari bug\n",
       "        targ = targ.parentNode;\n",
       "\n",
       "    // jQuery normalizes the pageX and pageY\n",
       "    // pageX,Y are the mouse positions relative to the document\n",
       "    // offset() returns the position of the element relative to the document\n",
       "    var x = e.pageX - $(targ).offset().left;\n",
       "    var y = e.pageY - $(targ).offset().top;\n",
       "\n",
       "    return {\"x\": x, \"y\": y};\n",
       "};\n",
       "\n",
       "/*\n",
       " * return a copy of an object with only non-object keys\n",
       " * we need this to avoid circular references\n",
       " * http://stackoverflow.com/a/24161582/3208463\n",
       " */\n",
       "function simpleKeys (original) {\n",
       "  return Object.keys(original).reduce(function (obj, key) {\n",
       "    if (typeof original[key] !== 'object')\n",
       "        obj[key] = original[key]\n",
       "    return obj;\n",
       "  }, {});\n",
       "}\n",
       "\n",
       "mpl.figure.prototype.mouse_event = function(event, name) {\n",
       "    var canvas_pos = mpl.findpos(event)\n",
       "\n",
       "    if (name === 'button_press')\n",
       "    {\n",
       "        this.canvas.focus();\n",
       "        this.canvas_div.focus();\n",
       "    }\n",
       "\n",
       "    var x = canvas_pos.x;\n",
       "    var y = canvas_pos.y;\n",
       "\n",
       "    this.send_message(name, {x: x, y: y, button: event.button,\n",
       "                             step: event.step,\n",
       "                             guiEvent: simpleKeys(event)});\n",
       "\n",
       "    /* This prevents the web browser from automatically changing to\n",
       "     * the text insertion cursor when the button is pressed.  We want\n",
       "     * to control all of the cursor setting manually through the\n",
       "     * 'cursor' event from matplotlib */\n",
       "    event.preventDefault();\n",
       "    return false;\n",
       "}\n",
       "\n",
       "mpl.figure.prototype._key_event_extra = function(event, name) {\n",
       "    // Handle any extra behaviour associated with a key event\n",
       "}\n",
       "\n",
       "mpl.figure.prototype.key_event = function(event, name) {\n",
       "\n",
       "    // Prevent repeat events\n",
       "    if (name == 'key_press')\n",
       "    {\n",
       "        if (event.which === this._key)\n",
       "            return;\n",
       "        else\n",
       "            this._key = event.which;\n",
       "    }\n",
       "    if (name == 'key_release')\n",
       "        this._key = null;\n",
       "\n",
       "    var value = '';\n",
       "    if (event.ctrlKey && event.which != 17)\n",
       "        value += \"ctrl+\";\n",
       "    if (event.altKey && event.which != 18)\n",
       "        value += \"alt+\";\n",
       "    if (event.shiftKey && event.which != 16)\n",
       "        value += \"shift+\";\n",
       "\n",
       "    value += 'k';\n",
       "    value += event.which.toString();\n",
       "\n",
       "    this._key_event_extra(event, name);\n",
       "\n",
       "    this.send_message(name, {key: value,\n",
       "                             guiEvent: simpleKeys(event)});\n",
       "    return false;\n",
       "}\n",
       "\n",
       "mpl.figure.prototype.toolbar_button_onclick = function(name) {\n",
       "    if (name == 'download') {\n",
       "        this.handle_save(this, null);\n",
       "    } else {\n",
       "        this.send_message(\"toolbar_button\", {name: name});\n",
       "    }\n",
       "};\n",
       "\n",
       "mpl.figure.prototype.toolbar_button_onmouseover = function(tooltip) {\n",
       "    this.message.textContent = tooltip;\n",
       "};\n",
       "mpl.toolbar_items = [[\"Home\", \"Reset original view\", \"fa fa-home icon-home\", \"home\"], [\"Back\", \"Back to  previous view\", \"fa fa-arrow-left icon-arrow-left\", \"back\"], [\"Forward\", \"Forward to next view\", \"fa fa-arrow-right icon-arrow-right\", \"forward\"], [\"\", \"\", \"\", \"\"], [\"Pan\", \"Pan axes with left mouse, zoom with right\", \"fa fa-arrows icon-move\", \"pan\"], [\"Zoom\", \"Zoom to rectangle\", \"fa fa-square-o icon-check-empty\", \"zoom\"], [\"\", \"\", \"\", \"\"], [\"Download\", \"Download plot\", \"fa fa-floppy-o icon-save\", \"download\"]];\n",
       "\n",
       "mpl.extensions = [\"eps\", \"pdf\", \"png\", \"ps\", \"raw\", \"svg\"];\n",
       "\n",
       "mpl.default_extension = \"png\";var comm_websocket_adapter = function(comm) {\n",
       "    // Create a \"websocket\"-like object which calls the given IPython comm\n",
       "    // object with the appropriate methods. Currently this is a non binary\n",
       "    // socket, so there is still some room for performance tuning.\n",
       "    var ws = {};\n",
       "\n",
       "    ws.close = function() {\n",
       "        comm.close()\n",
       "    };\n",
       "    ws.send = function(m) {\n",
       "        //console.log('sending', m);\n",
       "        comm.send(m);\n",
       "    };\n",
       "    // Register the callback with on_msg.\n",
       "    comm.on_msg(function(msg) {\n",
       "        //console.log('receiving', msg['content']['data'], msg);\n",
       "        // Pass the mpl event to the overriden (by mpl) onmessage function.\n",
       "        ws.onmessage(msg['content']['data'])\n",
       "    });\n",
       "    return ws;\n",
       "}\n",
       "\n",
       "mpl.mpl_figure_comm = function(comm, msg) {\n",
       "    // This is the function which gets called when the mpl process\n",
       "    // starts-up an IPython Comm through the \"matplotlib\" channel.\n",
       "\n",
       "    var id = msg.content.data.id;\n",
       "    // Get hold of the div created by the display call when the Comm\n",
       "    // socket was opened in Python.\n",
       "    var element = $(\"#\" + id);\n",
       "    var ws_proxy = comm_websocket_adapter(comm)\n",
       "\n",
       "    function ondownload(figure, format) {\n",
       "        window.open(figure.imageObj.src);\n",
       "    }\n",
       "\n",
       "    var fig = new mpl.figure(id, ws_proxy,\n",
       "                           ondownload,\n",
       "                           element.get(0));\n",
       "\n",
       "    // Call onopen now - mpl needs it, as it is assuming we've passed it a real\n",
       "    // web socket which is closed, not our websocket->open comm proxy.\n",
       "    ws_proxy.onopen();\n",
       "\n",
       "    fig.parent_element = element.get(0);\n",
       "    fig.cell_info = mpl.find_output_cell(\"<div id='\" + id + \"'></div>\");\n",
       "    if (!fig.cell_info) {\n",
       "        console.error(\"Failed to find cell for figure\", id, fig);\n",
       "        return;\n",
       "    }\n",
       "\n",
       "    var output_index = fig.cell_info[2]\n",
       "    var cell = fig.cell_info[0];\n",
       "\n",
       "};\n",
       "\n",
       "mpl.figure.prototype.handle_close = function(fig, msg) {\n",
       "    fig.root.unbind('remove')\n",
       "\n",
       "    // Update the output cell to use the data from the current canvas.\n",
       "    fig.push_to_output();\n",
       "    var dataURL = fig.canvas.toDataURL();\n",
       "    // Re-enable the keyboard manager in IPython - without this line, in FF,\n",
       "    // the notebook keyboard shortcuts fail.\n",
       "    IPython.keyboard_manager.enable()\n",
       "    $(fig.parent_element).html('<img src=\"' + dataURL + '\">');\n",
       "    fig.close_ws(fig, msg);\n",
       "}\n",
       "\n",
       "mpl.figure.prototype.close_ws = function(fig, msg){\n",
       "    fig.send_message('closing', msg);\n",
       "    // fig.ws.close()\n",
       "}\n",
       "\n",
       "mpl.figure.prototype.push_to_output = function(remove_interactive) {\n",
       "    // Turn the data on the canvas into data in the output cell.\n",
       "    var dataURL = this.canvas.toDataURL();\n",
       "    this.cell_info[1]['text/html'] = '<img src=\"' + dataURL + '\">';\n",
       "}\n",
       "\n",
       "mpl.figure.prototype.updated_canvas_event = function() {\n",
       "    // Tell IPython that the notebook contents must change.\n",
       "    IPython.notebook.set_dirty(true);\n",
       "    this.send_message(\"ack\", {});\n",
       "    var fig = this;\n",
       "    // Wait a second, then push the new image to the DOM so\n",
       "    // that it is saved nicely (might be nice to debounce this).\n",
       "    setTimeout(function () { fig.push_to_output() }, 1000);\n",
       "}\n",
       "\n",
       "mpl.figure.prototype._init_toolbar = function() {\n",
       "    var fig = this;\n",
       "\n",
       "    var nav_element = $('<div/>')\n",
       "    nav_element.attr('style', 'width: 100%');\n",
       "    this.root.append(nav_element);\n",
       "\n",
       "    // Define a callback function for later on.\n",
       "    function toolbar_event(event) {\n",
       "        return fig.toolbar_button_onclick(event['data']);\n",
       "    }\n",
       "    function toolbar_mouse_event(event) {\n",
       "        return fig.toolbar_button_onmouseover(event['data']);\n",
       "    }\n",
       "\n",
       "    for(var toolbar_ind in mpl.toolbar_items){\n",
       "        var name = mpl.toolbar_items[toolbar_ind][0];\n",
       "        var tooltip = mpl.toolbar_items[toolbar_ind][1];\n",
       "        var image = mpl.toolbar_items[toolbar_ind][2];\n",
       "        var method_name = mpl.toolbar_items[toolbar_ind][3];\n",
       "\n",
       "        if (!name) { continue; };\n",
       "\n",
       "        var button = $('<button class=\"btn btn-default\" href=\"#\" title=\"' + name + '\"><i class=\"fa ' + image + ' fa-lg\"></i></button>');\n",
       "        button.click(method_name, toolbar_event);\n",
       "        button.mouseover(tooltip, toolbar_mouse_event);\n",
       "        nav_element.append(button);\n",
       "    }\n",
       "\n",
       "    // Add the status bar.\n",
       "    var status_bar = $('<span class=\"mpl-message\" style=\"text-align:right; float: right;\"/>');\n",
       "    nav_element.append(status_bar);\n",
       "    this.message = status_bar[0];\n",
       "\n",
       "    // Add the close button to the window.\n",
       "    var buttongrp = $('<div class=\"btn-group inline pull-right\"></div>');\n",
       "    var button = $('<button class=\"btn btn-mini btn-primary\" href=\"#\" title=\"Stop Interaction\"><i class=\"fa fa-power-off icon-remove icon-large\"></i></button>');\n",
       "    button.click(function (evt) { fig.handle_close(fig, {}); } );\n",
       "    button.mouseover('Stop Interaction', toolbar_mouse_event);\n",
       "    buttongrp.append(button);\n",
       "    var titlebar = this.root.find($('.ui-dialog-titlebar'));\n",
       "    titlebar.prepend(buttongrp);\n",
       "}\n",
       "\n",
       "mpl.figure.prototype._root_extra_style = function(el){\n",
       "    var fig = this\n",
       "    el.on(\"remove\", function(){\n",
       "\tfig.close_ws(fig, {});\n",
       "    });\n",
       "}\n",
       "\n",
       "mpl.figure.prototype._canvas_extra_style = function(el){\n",
       "    // this is important to make the div 'focusable\n",
       "    el.attr('tabindex', 0)\n",
       "    // reach out to IPython and tell the keyboard manager to turn it's self\n",
       "    // off when our div gets focus\n",
       "\n",
       "    // location in version 3\n",
       "    if (IPython.notebook.keyboard_manager) {\n",
       "        IPython.notebook.keyboard_manager.register_events(el);\n",
       "    }\n",
       "    else {\n",
       "        // location in version 2\n",
       "        IPython.keyboard_manager.register_events(el);\n",
       "    }\n",
       "\n",
       "}\n",
       "\n",
       "mpl.figure.prototype._key_event_extra = function(event, name) {\n",
       "    var manager = IPython.notebook.keyboard_manager;\n",
       "    if (!manager)\n",
       "        manager = IPython.keyboard_manager;\n",
       "\n",
       "    // Check for shift+enter\n",
       "    if (event.shiftKey && event.which == 13) {\n",
       "        this.canvas_div.blur();\n",
       "        event.shiftKey = false;\n",
       "        // Send a \"J\" for go to next cell\n",
       "        event.which = 74;\n",
       "        event.keyCode = 74;\n",
       "        manager.command_mode();\n",
       "        manager.handle_keydown(event);\n",
       "    }\n",
       "}\n",
       "\n",
       "mpl.figure.prototype.handle_save = function(fig, msg) {\n",
       "    fig.ondownload(fig, null);\n",
       "}\n",
       "\n",
       "\n",
       "mpl.find_output_cell = function(html_output) {\n",
       "    // Return the cell and output element which can be found *uniquely* in the notebook.\n",
       "    // Note - this is a bit hacky, but it is done because the \"notebook_saving.Notebook\"\n",
       "    // IPython event is triggered only after the cells have been serialised, which for\n",
       "    // our purposes (turning an active figure into a static one), is too late.\n",
       "    var cells = IPython.notebook.get_cells();\n",
       "    var ncells = cells.length;\n",
       "    for (var i=0; i<ncells; i++) {\n",
       "        var cell = cells[i];\n",
       "        if (cell.cell_type === 'code'){\n",
       "            for (var j=0; j<cell.output_area.outputs.length; j++) {\n",
       "                var data = cell.output_area.outputs[j];\n",
       "                if (data.data) {\n",
       "                    // IPython >= 3 moved mimebundle to data attribute of output\n",
       "                    data = data.data;\n",
       "                }\n",
       "                if (data['text/html'] == html_output) {\n",
       "                    return [cell, data, j];\n",
       "                }\n",
       "            }\n",
       "        }\n",
       "    }\n",
       "}\n",
       "\n",
       "// Register the function which deals with the matplotlib target/channel.\n",
       "// The kernel may be null if the page has been refreshed.\n",
       "if (IPython.notebook.kernel != null) {\n",
       "    IPython.notebook.kernel.comm_manager.register_target('matplotlib', mpl.mpl_figure_comm);\n",
       "}\n"
      ],
      "text/plain": [
       "<IPython.core.display.Javascript object>"
      ]
     },
     "metadata": {},
     "output_type": "display_data"
    },
    {
     "data": {
      "text/html": [
       "<img src=\"data:image/png;base64,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\">"
      ],
      "text/plain": [
       "<IPython.core.display.HTML object>"
      ]
     },
     "metadata": {},
     "output_type": "display_data"
    }
   ],
   "source": [
    "plot([1,2,3,4])\n",
    "#show() if in command line/ipython\n",
    "savefig('images/line_plot.png')"
   ]
  },
  {
   "cell_type": "markdown",
   "metadata": {
    "slideshow": {
     "slide_type": "subslide"
    }
   },
   "source": [
    "Saved image:\n",
    "\n",
    "<img src='images/line_plot.png'>"
   ]
  },
  {
   "cell_type": "markdown",
   "metadata": {
    "slideshow": {
     "slide_type": "subslide"
    }
   },
   "source": [
    "## Multiple Lines\n",
    "\n",
    "<img src=\"images/matplotlib_table.png\" width=\"600\">"
   ]
  },
  {
   "cell_type": "code",
   "execution_count": 75,
   "metadata": {
    "collapsed": false,
    "slideshow": {
     "slide_type": "subslide"
    }
   },
   "outputs": [
    {
     "data": {
      "text/plain": [
       "[<matplotlib.lines.Line2D at 0x10dffb518>,\n",
       " <matplotlib.lines.Line2D at 0x110c07160>,\n",
       " <matplotlib.lines.Line2D at 0x110c075f8>]"
      ]
     },
     "execution_count": 75,
     "metadata": {},
     "output_type": "execute_result"
    }
   ],
   "source": [
    "# evenly sampled time at 200ms intervals\n",
    "t = numpy.arange(0., 5., 0.2)\n",
    "\n",
    "# red dashes, blue squares and green triangles\n",
    "plot(t, t, 'r--', t, t**2, 'bs', t, t**3, 'g<')\n"
   ]
  },
  {
   "cell_type": "markdown",
   "metadata": {
    "slideshow": {
     "slide_type": "subslide"
    }
   },
   "source": [
    "## Subplots"
   ]
  },
  {
   "cell_type": "code",
   "execution_count": 76,
   "metadata": {
    "collapsed": false
   },
   "outputs": [
    {
     "data": {
      "text/plain": [
       "[<matplotlib.lines.Line2D at 0x110c4b4a8>]"
      ]
     },
     "execution_count": 76,
     "metadata": {},
     "output_type": "execute_result"
    }
   ],
   "source": [
    "def f(t):\n",
    "    return numpy.exp(-t) * numpy.cos(2*numpy.pi*t)\n",
    "\n",
    "t1 = numpy.arange(0.0, 5.0, 0.1)\n",
    "t2 = numpy.arange(0.0, 5.0, 0.02)\n",
    "\n",
    "figure(1)\n",
    "subplot(211)\n",
    "plot(t1, f(t1), 'bo', t2, f(t2), 'k')\n",
    "\n",
    "subplot(212)\n",
    "plot(t2, numpy.cos(2*np.pi*t2), 'r--')"
   ]
  },
  {
   "cell_type": "markdown",
   "metadata": {
    "slideshow": {
     "slide_type": "subslide"
    }
   },
   "source": [
    "## Histogram/Labels"
   ]
  },
  {
   "cell_type": "code",
   "execution_count": 77,
   "metadata": {
    "collapsed": false,
    "slideshow": {
     "slide_type": "-"
    }
   },
   "outputs": [
    {
     "data": {
      "text/plain": [
       "<matplotlib.text.Text at 0x110c74a20>"
      ]
     },
     "execution_count": 77,
     "metadata": {},
     "output_type": "execute_result"
    }
   ],
   "source": [
    "hist([0, 1, 2, 2, 3, 3, 3, 4, 4, 4, 10])\n",
    "xlabel('Value')\n",
    "ylabel('Count')\n",
    "title('This is a Histogram')"
   ]
  },
  {
   "cell_type": "markdown",
   "metadata": {
    "slideshow": {
     "slide_type": "subslide"
    }
   },
   "source": [
    "## Gallery"
   ]
  },
  {
   "cell_type": "code",
   "execution_count": 78,
   "metadata": {
    "collapsed": false,
    "scrolled": true
   },
   "outputs": [
    {
     "data": {
      "text/html": [
       "<iframe src=http://matplotlib.org/gallery.html width=100% height=600></iframe>"
      ],
      "text/plain": [
       "<IPython.core.display.HTML object>"
      ]
     },
     "execution_count": 78,
     "metadata": {},
     "output_type": "execute_result"
    }
   ],
   "source": [
    "from IPython.display import HTML\n",
    "HTML('<iframe src=http://matplotlib.org/gallery.html width=100% height=600></iframe>')"
   ]
  },
  {
   "cell_type": "markdown",
   "metadata": {
    "slideshow": {
     "slide_type": "slide"
    }
   },
   "source": [
    "# <a id='Tips, Tricks & Gotchas'></a> <center>Tips, Tricks & Gotchas</center>"
   ]
  },
  {
   "cell_type": "markdown",
   "metadata": {
    "slideshow": {
     "slide_type": "slide"
    }
   },
   "source": [
    "## Embedding (== IDL STOP)"
   ]
  },
  {
   "cell_type": "code",
   "execution_count": 79,
   "metadata": {
    "collapsed": false
   },
   "outputs": [
    {
     "name": "stdout",
     "output_type": "stream",
     "text": [
      "from IPython import embed\r\n",
      "a=1\r\n",
      "print 'Entering script'\r\n",
      "for b in [1,2,3]:\r\n",
      "    embed()\r\n",
      "print 'Exiting - goodbye!'\r\n"
     ]
    }
   ],
   "source": [
    "!cat ipython_stop.py"
   ]
  },
  {
   "cell_type": "raw",
   "metadata": {
    "slideshow": {
     "slide_type": "subslide"
    }
   },
   "source": [
    "$ python ipython_stop.py\n",
    "Entering script\n",
    "\n",
    "In [1]: %whos\n",
    "Variable   Type        Data/Info\n",
    "--------------------------------\n",
    "a          int         1\n",
    "b          int         1\n",
    "embed      function    <function embed at 0x102140cf8>"
   ]
  },
  {
   "cell_type": "raw",
   "metadata": {
    "slideshow": {
     "slide_type": "subslide"
    }
   },
   "source": [
    "In [2]: exit\n",
    "\n",
    "\n",
    "In [3]: %whos\n",
    "Variable   Type        Data/Info\n",
    "--------------------------------\n",
    "a          int         1\n",
    "b          int         2\n",
    "embed      function    <function embed at 0x102140cf8>"
   ]
  },
  {
   "cell_type": "raw",
   "metadata": {
    "slideshow": {
     "slide_type": "subslide"
    }
   },
   "source": [
    "In [4]: a='one'\n",
    "In [5]: exit\n",
    "\n",
    "\n",
    "In [6]: %whos\n",
    "Variable   Type        Data/Info\n",
    "--------------------------------\n",
    "a          str         one\n",
    "b          int         3\n",
    "embed      function    <function embed at 0x102140cf8>\n",
    "\n",
    "In [7]: exit\n",
    "\n",
    "Exiting - goodbye!"
   ]
  },
  {
   "cell_type": "markdown",
   "metadata": {
    "slideshow": {
     "slide_type": "slide"
    }
   },
   "source": [
    "## Copying Variables"
   ]
  },
  {
   "cell_type": "code",
   "execution_count": 80,
   "metadata": {
    "collapsed": false
   },
   "outputs": [
    {
     "name": "stdout",
     "output_type": "stream",
     "text": [
      "a = 1 : 4297514912\n",
      "b = 1 : 4297514912\n"
     ]
    }
   ],
   "source": [
    "a = 1\n",
    "b = a\n",
    "\n",
    "print( 'a = %s : %s\\nb = %s : %s' %(a, id(a), b, id(b)) )"
   ]
  },
  {
   "cell_type": "markdown",
   "metadata": {},
   "source": [
    "<img src=\"images/copy.png\" width=\"400\">"
   ]
  },
  {
   "cell_type": "code",
   "execution_count": 81,
   "metadata": {
    "collapsed": false,
    "slideshow": {
     "slide_type": "subslide"
    }
   },
   "outputs": [
    {
     "name": "stdout",
     "output_type": "stream",
     "text": [
      "a = 1 : 4297514912\n",
      "b = 2 : 4297514944\n"
     ]
    }
   ],
   "source": [
    "b = 2    # Reassign\n",
    "\n",
    "print( 'a = %s : %s\\nb = %s : %s' %(a, id(a), b, id(b)) )"
   ]
  },
  {
   "cell_type": "code",
   "execution_count": 82,
   "metadata": {
    "collapsed": false,
    "slideshow": {
     "slide_type": "subslide"
    }
   },
   "outputs": [
    {
     "name": "stdout",
     "output_type": "stream",
     "text": [
      "a = [1, 2] : 4576604552\n",
      "b = [1, 2] : 4576604552\n"
     ]
    }
   ],
   "source": [
    "a = [1,2]\n",
    "b = a\n",
    "\n",
    "print( 'a = %s : %s\\nb = %s : %s' %(a, id(a), b, id(b)) )"
   ]
  },
  {
   "cell_type": "code",
   "execution_count": 83,
   "metadata": {
    "collapsed": false
   },
   "outputs": [
    {
     "name": "stdout",
     "output_type": "stream",
     "text": [
      "a = [3, 2] : 4576604552\n",
      "b = [3, 2] : 4576604552\n"
     ]
    }
   ],
   "source": [
    "b[0] = 3    # Update\n",
    "\n",
    "print( 'a = %s : %s\\nb = %s : %s' %(a, id(a), b, id(b)) )"
   ]
  },
  {
   "cell_type": "code",
   "execution_count": 84,
   "metadata": {
    "collapsed": false,
    "slideshow": {
     "slide_type": "subslide"
    }
   },
   "outputs": [
    {
     "name": "stdout",
     "output_type": "stream",
     "text": [
      "a = [3, 2] : 4576604552\n",
      "b = [3, 2] : 4576782216\n"
     ]
    }
   ],
   "source": [
    "import copy\n",
    "b = copy.copy(a)\n",
    "\n",
    "print( 'a = %s : %s\\nb = %s : %s' %(a, id(a), b, id(b)) )"
   ]
  },
  {
   "cell_type": "code",
   "execution_count": 85,
   "metadata": {
    "collapsed": false
   },
   "outputs": [
    {
     "name": "stdout",
     "output_type": "stream",
     "text": [
      "a = [3, 2] : 4576604552\n",
      "b = [4, 2] : 4576782216\n"
     ]
    }
   ],
   "source": [
    "b[0] = 4\n",
    "\n",
    "print( 'a = %s : %s\\nb = %s : %s' %(a, id(a), b, id(b)) )"
   ]
  },
  {
   "cell_type": "markdown",
   "metadata": {
    "slideshow": {
     "slide_type": "slide"
    }
   },
   "source": [
    "## List != (Numpy) Array\n",
    "\n",
    "* Lists can contain anything\n",
    "* Arrays contain a single type\n",
    "* Arrays are continuous in memory\n",
    "* Operations are far more efficient"
   ]
  },
  {
   "cell_type": "code",
   "execution_count": 86,
   "metadata": {
    "collapsed": false
   },
   "outputs": [
    {
     "data": {
      "text/plain": [
       "[1, 2, 3, 4, 5, 6]"
      ]
     },
     "execution_count": 86,
     "metadata": {},
     "output_type": "execute_result"
    }
   ],
   "source": [
    "a = [1,2,3]\n",
    "b = [4,5,6]\n",
    "\n",
    "a + b    # Appends"
   ]
  },
  {
   "cell_type": "code",
   "execution_count": 87,
   "metadata": {
    "collapsed": false,
    "slideshow": {
     "slide_type": "subslide"
    }
   },
   "outputs": [
    {
     "data": {
      "text/plain": [
       "array([17, 19, 21])"
      ]
     },
     "execution_count": 87,
     "metadata": {},
     "output_type": "execute_result"
    }
   ],
   "source": [
    "import numpy as np\n",
    "\n",
    "c = np.array([7,8,9])\n",
    "d = np.array([10,11,12])\n",
    "\n",
    "c + d    # Elementwise"
   ]
  },
  {
   "cell_type": "code",
   "execution_count": 88,
   "metadata": {
    "collapsed": false,
    "slideshow": {
     "slide_type": "subslide"
    }
   },
   "outputs": [
    {
     "data": {
      "text/plain": [
       "array([ 8, 10, 12])"
      ]
     },
     "execution_count": 88,
     "metadata": {},
     "output_type": "execute_result"
    }
   ],
   "source": [
    "a + c    # Elementwise !!!"
   ]
  },
  {
   "cell_type": "code",
   "execution_count": 89,
   "metadata": {
    "collapsed": false
   },
   "outputs": [
    {
     "ename": "TypeError",
     "evalue": "ufunc 'add' did not contain a loop with signature matching types dtype('<U21') dtype('<U21') dtype('<U21')",
     "output_type": "error",
     "traceback": [
      "\u001b[0;31m---------------------------------------------------------------------------\u001b[0m",
      "\u001b[0;31mTypeError\u001b[0m                                 Traceback (most recent call last)",
      "\u001b[0;32m<ipython-input-89-593313b7eb3c>\u001b[0m in \u001b[0;36m<module>\u001b[0;34m()\u001b[0m\n\u001b[0;32m----> 1\u001b[0;31m \u001b[0;34m[\u001b[0m\u001b[0;36m1\u001b[0m\u001b[0;34m,\u001b[0m\u001b[0;36m2\u001b[0m\u001b[0;34m,\u001b[0m\u001b[0;34m'three'\u001b[0m\u001b[0;34m]\u001b[0m \u001b[0;34m+\u001b[0m \u001b[0mc\u001b[0m    \u001b[0;31m# Cannot convert\u001b[0m\u001b[0;34m\u001b[0m\u001b[0m\n\u001b[0m",
      "\u001b[0;31mTypeError\u001b[0m: ufunc 'add' did not contain a loop with signature matching types dtype('<U21') dtype('<U21') dtype('<U21')"
     ]
    }
   ],
   "source": [
    "[1,2,'three'] + c    # Cannot convert"
   ]
  },
  {
   "cell_type": "markdown",
   "metadata": {
    "slideshow": {
     "slide_type": "slide"
    }
   },
   "source": [
    "# <a id='To Conclude'></a> <center>To Conclude</center>"
   ]
  },
  {
   "cell_type": "markdown",
   "metadata": {},
   "source": [
    "* I hope that this has been a useful glimpse into Python\n",
    "* Both the language itself ...\n",
    "* ... and the scientific/technical ecosystem around it\n",
    "* There is (of course) much, much more:\n",
    "    - handling errors\n",
    "    - OOP & classes\n",
    "    - generators\n",
    "    - ...\n",
    "* Plus it is still very much evolving!"
   ]
  },
  {
   "cell_type": "markdown",
   "metadata": {
    "slideshow": {
     "slide_type": "slide"
    }
   },
   "source": [
    "April 28, 2016, 1:00-3:00 pm<br>\n",
    "III. Astronomical data reduction and analysis in Python (David Shupe)\n",
    "- Astropy: vision, history and plans, and how JWST development fits in \n",
    "- Accessing astronomical archives within Python \n",
    "- Reading and manipulating tables and images\n",
    "- Exploratory data analysis (visualization and statistics) \n",
    "- World Coordinate Systems and coordinate handling\n",
    "- Photutils for photometry\n",
    "\n",
    "May 5, 2016, 1:00-3:00 pm<br>\n",
    "IV. Advanced visualization, model fitting, and data apps (David Shupe)\n",
    "- Interactive plots: zooming and panning, linking and brushing \n",
    "- Visualizing millions of points\n",
    "- Simple linear regression \n",
    "- Introduction to scikit-learn for machine learning \n",
    "- Building lightweight specialized data apps"
   ]
  }
 ],
 "metadata": {
  "celltoolbar": "Slideshow",
  "kernelspec": {
   "display_name": "Python 3",
   "language": "python",
   "name": "python3"
  },
  "language_info": {
   "codemirror_mode": {
    "name": "ipython",
    "version": 3
   },
   "file_extension": ".py",
   "mimetype": "text/x-python",
   "name": "python",
   "nbconvert_exporter": "python",
   "pygments_lexer": "ipython3",
   "version": "3.5.1"
  }
 },
 "nbformat": 4,
 "nbformat_minor": 0
}
