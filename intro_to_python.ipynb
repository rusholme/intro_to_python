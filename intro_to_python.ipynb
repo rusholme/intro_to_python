{
 "cells": [
  {
   "cell_type": "code",
   "execution_count": 1,
   "metadata": {
    "collapsed": false
   },
   "outputs": [],
   "source": [
    "%matplotlib inline\n",
    "from matplotlib.pyplot import plot\n",
    "import numpy"
   ]
  },
  {
   "cell_type": "markdown",
   "metadata": {},
   "source": [
    "# <hr noshade size=3>"
   ]
  },
  {
   "cell_type": "markdown",
   "metadata": {},
   "source": [
    "<center><font size=40>An Introduction to:</font size=60>"
   ]
  },
  {
   "cell_type": "markdown",
   "metadata": {},
   "source": [
    "<img src=\"images/python_logo.png\">"
   ]
  },
  {
   "cell_type": "markdown",
   "metadata": {},
   "source": [
    "<center><font size=6>[Ben Rusholme](mailto:rusholme@caltech.edu)<br><br>\n",
    "IPAC<br><br>\n",
    "2016-04-07<br><br>\n",
    "https://caltech.box.com/intro-to-python"
   ]
  },
  {
   "cell_type": "markdown",
   "metadata": {},
   "source": [
    "<hr noshade size=3>\n",
    "## Table of Contents\n",
    "\n",
    "[Introduction](#Introduction)<br>\n",
    "[Installation](#Installation)<br>\n",
    "[Running Python](#Running Python)<br>\n",
    "[Basic Syntax](#Basic Syntax)<br>\n",
    "[Namespaces](#Namespaces)<br>\n",
    "[Compound Statements](#Compound Statements)<br>\n",
    "[File I/O](#File I/O)<br>\n",
    "[Plotting](#Plotting)<br>\n",
    "[Tips, Tricks & Gotchas](#Tips, Tricks & Gotchas)<br>\n",
    "[To Conclude](#To Conclude)<br>"
   ]
  },
  {
   "cell_type": "markdown",
   "metadata": {},
   "source": [
    "# <hr noshade size=3> <a id='Introduction'></a> <center>Introduction</center>"
   ]
  },
  {
   "cell_type": "markdown",
   "metadata": {},
   "source": [
    "## Purpose\n",
    "\n",
    "* 90 min introduction to Python, O(50) people\n",
    "* You will ***not*** learn Python in this session\n",
    "* To learn work through tutorials such as:\n",
    "    - [Software Carpentry](http://swcarpentry.github.io/python-novice-inflammation)\n",
    "    - [Think Python](http://www.greenteapress.com/thinkpython/thinkpython.html )\n",
    "    - [Python for Scientific Computing](http://indranilsinharoy.com/2013/01/06/python-for-scientific-computing-a-collection-of-resources/)\n",
    "* Hopefully this session will smooth your journey\n",
    "* I will cover a lot of material at high speed\n",
    "* I am assuming you currently use IDL"
   ]
  },
  {
   "cell_type": "markdown",
   "metadata": {},
   "source": [
    "## Questions to Answer?\n",
    "\n",
    "* What software is available?\n",
    "* How do I get everything I need everywhere I work?\n",
    "* What are the basics?\n",
    "* How do I read in my data?\n",
    "* How do I make plots?\n",
    "* What are the differences from IDL?\n",
    "* What are the potential problems?"
   ]
  },
  {
   "cell_type": "markdown",
   "metadata": {},
   "source": [
    "## About this Presentation\n",
    "\n",
    "* This presentation is written in the IPython notebook\n",
    "* This allows me to interleave live code and text"
   ]
  },
  {
   "cell_type": "code",
   "execution_count": 2,
   "metadata": {
    "collapsed": false
   },
   "outputs": [
    {
     "name": "stdout",
     "output_type": "stream",
     "text": [
      "Hello Wonderful World!\n"
     ]
    }
   ],
   "source": [
    "print 'Hello Wonderful World!'"
   ]
  },
  {
   "cell_type": "markdown",
   "metadata": {},
   "source": [
    "* I have never given a notebook presentation before\n",
    "* I have tried to optimize for readibility in this room\n",
    "* This notebook will be available later on Box\n",
    "* NB: This is not how I regularly work in Python!"
   ]
  },
  {
   "cell_type": "markdown",
   "metadata": {},
   "source": [
    "## About Me\n",
    "\n",
    "* Physics background, no formal computer science training\n",
    "* Past projects have used FORTRAN, C, IDL\n",
    "* Joined IPAC in 2006 to work on Planck. Picked up Python as gone along\n",
    "* Day-to-day I do a lot of batch parallel data processing"
   ]
  },
  {
   "cell_type": "markdown",
   "metadata": {},
   "source": [
    "## Why Python?\n",
    "\n",
    "* It’s ***free***! (install everywhere, run processing in parallel)\n",
    "* Everyone else is using it (libraries, local help…)\n",
    "* Reference CPython integrates well with C code\n",
    "* Highly extensible, object orientated\n",
    "* Designed for clean, concise, readable syntax"
   ]
  },
  {
   "cell_type": "markdown",
   "metadata": {},
   "source": [
    "## Disadvantages\n",
    "\n",
    "* Managing modules\n",
    "* Modules can make (unexpectedly) significant changes\n",
    "* Performance (vs compiled languages)\n",
    "* Only single thread can run at once (GIL)"
   ]
  },
  {
   "cell_type": "markdown",
   "metadata": {},
   "source": [
    "# <hr noshade size=3> <a id='Installation'></a> <center>Installation</center>"
   ]
  },
  {
   "cell_type": "markdown",
   "metadata": {},
   "source": [
    "## TL;DR\n",
    "\n",
    "[Install Anaconda Python v3](http://continuum.io/downloads#py34)"
   ]
  },
  {
   "cell_type": "markdown",
   "metadata": {},
   "source": [
    "## The Python Ecosystem\n",
    "\n",
    "\n",
    "<img src=\"images/python_stack.png\">"
   ]
  },
  {
   "cell_type": "markdown",
   "metadata": {},
   "source": [
    "## Distributions\n",
    "\n",
    "* [Anaconda](https://store.continuum.io/cshop/anaconda) - Continuum Analytics (conda, mini-conda...)\n",
    "* [Canopy](https://store.enthought.com) - Enthought\n",
    "* [Ureka](http://ssb.stsci.edu/ureka) - STSci & Gemini\n",
    "\n",
    "Can also install via OS tools:\n",
    "* OSX - Macports, Homebrew\n",
    "* Linux - Yum, apt-get … "
   ]
  },
  {
   "cell_type": "markdown",
   "metadata": {},
   "source": [
    "## Interpreter: v2 vs v3?\n",
    "\n",
    "Python v3 ( released December, 2008) is not backward compatible with v2. Two major changes:\n",
    "* `print` statement became function `print()`\n",
    "* All `ints` are automatically `long`\n",
    "* float division (`3/2=1` became `3/2=1.5`, use `3//2=1` for integer/floor)\n",
    "\n",
    "Python v2 no longer getting new features, only bug/security updates until 2020. \n",
    "\n",
    "It has taken (lots of) time for the external packages to catch up. IMHO we are finally at the tipping point for v2 -> v3 migration.\n",
    "* If starting fresh, and external packages compliant, I recommend v3\n",
    "* Else stick with v2\n",
    "\n",
    "This notebook works in both v2 & v3\n",
    "\n",
    "\n",
    "NB: If you need to convert look into the standard library modules: `__future__` and `2to3`"
   ]
  },
  {
   "cell_type": "markdown",
   "metadata": {},
   "source": [
    "## Interpreter: Language Implementations\n",
    "\n",
    "The reference interpreter is CPython, coded in C. There are other implementations:\n",
    "\n",
    "* Stackless - concurrency using tasklets and channels\n",
    "* PyPy - Python in Python\n",
    "* Jython - Python in Java\n",
    "* IronPython - Python in C# (.NET)\n",
    "\n",
    "You should know that these exist, but shouldn’t need them\n",
    " \n",
    "NB: CPython != Cython "
   ]
  },
  {
   "cell_type": "markdown",
   "metadata": {},
   "source": [
    "## Standard Library\n",
    "\n",
    "Contains O(100) modules. For full list see:\n",
    "https://docs.python.org/2/library/\n",
    "\n",
    "\n",
    "Most useful:\n",
    "\n",
    "|Category   |Name|\n",
    "|-----------|--|\n",
    "|Datatypes  | collections, copy, datetime, queue|\n",
    "|Numeric    | math, random|\n",
    "|Files      | csv, (c)pickle| \n",
    "|OS         | glob, os, subprocess, time|\n",
    "|Language   | ` __future__`, 2to3, itertools, multiprocessing, pdb, (c)profile| "
   ]
  },
  {
   "cell_type": "markdown",
   "metadata": {},
   "source": [
    "## PyPI - The Python Package Index\n",
    "<!---\n",
    "<img src=\"images/pypi.png\">\n",
    "--->"
   ]
  },
  {
   "cell_type": "code",
   "execution_count": 2,
   "metadata": {
    "collapsed": false
   },
   "outputs": [
    {
     "data": {
      "text/html": [
       "<iframe src=https://pypi.python.org/pypi width=600 height=350></iframe>"
      ],
      "text/plain": [
       "<IPython.core.display.HTML at 0x1036de5d0>"
      ]
     },
     "execution_count": 2,
     "metadata": {},
     "output_type": "execute_result"
    }
   ],
   "source": [
    "from IPython.display import HTML\n",
    "HTML('<iframe src=https://pypi.python.org/pypi width=600 height=350></iframe>')"
   ]
  },
  {
   "cell_type": "markdown",
   "metadata": {},
   "source": [
    "## External: The Big 3\n",
    "\n",
    "NB: All part of SciPy project\n",
    "\n",
    "| Name   | Logo    | Description |\n",
    "|------|---|-------------|\n",
    "| IPython | <img src=\"images/ipython_logo.png\"> | Enhanced interactive console |\n",
    "| Numpy | <img src=\"images/numpy_logo.png\">  | Base N-dimensional array package |\n",
    "| Matplotlib | <img src=\"images/matplotlib_logo.png\"> | Comprehensive 2D plotting |\n"
   ]
  },
  {
   "cell_type": "markdown",
   "metadata": {},
   "source": [
    "## External: Other Important\n",
    "\n",
    "|Name |Description|\n",
    "|--|--|\n",
    "|astropy      | Astronomy |\n",
    "|cython       | C extensions |\n",
    "|healpy       | HEALPix |\n",
    "|h5py         | HDF5 |\n",
    "|mpi4py       | Message-passing parallelism |\n",
    "|nose         | Unit testing |\n",
    "|pandas       | Data structures and analysis (competitor to R) |\n",
    "|pep8         | Style checking |\n",
    "|pip          | Package installation |\n",
    "|pyfits       | FITs files |\n",
    "|pyraf        | IRAF |\n",
    "|scikit-learn | Machine learning |\n",
    "|scikit-image | Image processing |\n",
    "|scipy        | Scientific codes |\n",
    "|sympy        | Symbolic mathematics |\n",
    "|virtualenv   | Environment virtualization |\n",
    "|yt           | Visualization |"
   ]
  },
  {
   "cell_type": "markdown",
   "metadata": {},
   "source": [
    "## Installing Modules\n",
    "\n",
    "Package manager:\n",
    "* Conda: `conda install <package>`\n",
    "* Macports: `port install <package>`\n",
    "\n",
    "pip:\n",
    "* `pip install <package>`\n",
    "\n",
    "By hand:\n",
    "* `python setup.py install`\n",
    "\n",
    "\n",
    "Installed to: `<sys.prefix>/lib/python<sys.version_info>/site-packages` "
   ]
  },
  {
   "cell_type": "markdown",
   "metadata": {},
   "source": [
    "## Repeatable Installations\n",
    "\n",
    "* `pip freeze > requirements.txt`\n",
    "* `pip install -r requirements.txt`"
   ]
  },
  {
   "cell_type": "raw",
   "metadata": {},
   "source": [
    "pip freeze | head\n",
    "altgraph==0.12\n",
    "APLpy==0.9.14\n",
    "astropy==0.4.4\n",
    "ATpy==0.9.7\n",
    "backports==1.0\n",
    "backports.ssl-match-hostname==3.4.0.2\n",
    "Beaker==1.6.4\n",
    "certifi==14.5.14\n",
    "Cython==0.21.2\n",
    "docutils==0.12 "
   ]
  },
  {
   "cell_type": "markdown",
   "metadata": {},
   "source": [
    "## Virtual Environments\n",
    "\n",
    "If virtualenv module installed:"
   ]
  },
  {
   "cell_type": "raw",
   "metadata": {},
   "source": [
    "cd my_project_folder\n",
    "virtualenv my_project\n",
    "source my_project/bin/activate\n",
    "pip install -r requirements.txt\n",
    "deactivate\n",
    "rm -rf my_project"
   ]
  },
  {
   "cell_type": "markdown",
   "metadata": {},
   "source": [
    "Can be run from source if neither installed nor install permissions:"
   ]
  },
  {
   "cell_type": "raw",
   "metadata": {},
   "source": [
    "curl -O https://pypi.python.org/packages/source/v/virtualenv/virtualenv.X.X.tar.gz\n",
    "tar -xzf virtualenv-X.X.tar.gz\n",
    "cd virtualenv-X.X\n",
    "python virtualenv.py my_project\n",
    "source my_project/bin/activate\n",
    "deactivate\n",
    "rm -rf my_project"
   ]
  },
  {
   "cell_type": "markdown",
   "metadata": {},
   "source": [
    "Conda has similiar functionality:"
   ]
  },
  {
   "cell_type": "raw",
   "metadata": {},
   "source": [
    "conda create -n ENV anaconda\n",
    "source activate ENV\n",
    "source deactivate\n",
    "conda remove --all -n ENV"
   ]
  },
  {
   "cell_type": "markdown",
   "metadata": {},
   "source": [
    "I use conda's virtual environments to switch between Python v2 & v3 on my laptop, see (http://continuum.io/blog/anaconda-python-3)"
   ]
  },
  {
   "cell_type": "markdown",
   "metadata": {},
   "source": [
    "# <hr noshade size=3> <a id='Running Python'></a> <center>Running Python</center>"
   ]
  },
  {
   "cell_type": "markdown",
   "metadata": {},
   "source": [
    "## Direct Interpreter"
   ]
  },
  {
   "cell_type": "raw",
   "metadata": {},
   "source": [
    "$ # Interactive interpreter\n",
    "$ python\n",
    "Python 2.7.9 (default, Dec 11 2014, 02:36:08)\n",
    "[GCC 4.2.1 Compatible Apple LLVM 5.1 (clang-503.0.40)] on darwin\n",
    "Type \"help\", \"copyright\", \"credits\" or \"license\" for more information.\n",
    ">>> print 'hello'\n",
    "hello\n",
    ">>> exit\n",
    "Use exit() or Ctrl-D (i.e. EOF) to exit\n",
    ">>> exit()\n",
    "\n",
    "# Running a script\n",
    "$ cat script.py\n",
    "print 'hello'\n",
    "$ python script.py\n",
    "hello\n",
    "\n",
    "$ # Run command(s)\n",
    "$ VAR=GOODBYE\n",
    "$ python -c \"print ‘hello'; print '$VAR'\"\n",
    "hello\n",
    "GOODBYE\n",
    "\n",
    "$ # Shell redirection\n",
    "$ cat script.py | python\n",
    "hello"
   ]
  },
  {
   "cell_type": "markdown",
   "metadata": {},
   "source": [
    "## IPython\n",
    "\n",
    "* Command shell wrapper around the interpreter\n",
    "* Enhanced REPL\n",
    "* Can embed in scripts (== IDL STOP)\n",
    "* Browser-based notebook with inline plots\n",
    "* Parallel execution of commands and scripts\n",
    "\n",
    "Notes:\n",
    "* --pylab option deprecated\n",
    "* Non-Python parts recently spun off into Jupyter"
   ]
  },
  {
   "cell_type": "markdown",
   "metadata": {},
   "source": [
    "### REPL\n",
    "\n",
    "* Command history/searching\n",
    "* Tab completion\n",
    "* ?/??/help() for info/help\n",
    "* ! system escape\n",
    "* Input/output caching (_#)\n",
    "* % “magic” methods:\n",
    "\n",
    "|Command | Description |\n",
    "|--|--|\n",
    "|%run (-t, -d, -p) `<script.py>` |Run script   | \n",
    "|%timeit                       |Time command     |\n",
    "|%cpaste                       |Indented cut and paste |\n",
    "|%who(s)                       |Examine namespace      |"
   ]
  },
  {
   "cell_type": "code",
   "execution_count": 3,
   "metadata": {
    "collapsed": false
   },
   "outputs": [
    {
     "data": {
      "application/json": {
       "cell": {
        "!": "OSMagics",
        "HTML": "Other",
        "SVG": "Other",
        "bash": "Other",
        "capture": "ExecutionMagics",
        "debug": "ExecutionMagics",
        "file": "Other",
        "html": "DisplayMagics",
        "javascript": "DisplayMagics",
        "latex": "DisplayMagics",
        "perl": "Other",
        "prun": "ExecutionMagics",
        "pypy": "Other",
        "python": "Other",
        "python2": "Other",
        "python3": "Other",
        "ruby": "Other",
        "script": "ScriptMagics",
        "sh": "Other",
        "svg": "DisplayMagics",
        "sx": "OSMagics",
        "system": "OSMagics",
        "time": "ExecutionMagics",
        "timeit": "ExecutionMagics",
        "writefile": "OSMagics"
       },
       "line": {
        "alias": "OSMagics",
        "alias_magic": "BasicMagics",
        "autocall": "AutoMagics",
        "automagic": "AutoMagics",
        "autosave": "KernelMagics",
        "bookmark": "OSMagics",
        "cat": "Other",
        "cd": "OSMagics",
        "clear": "KernelMagics",
        "colors": "BasicMagics",
        "config": "ConfigMagics",
        "connect_info": "KernelMagics",
        "cp": "Other",
        "debug": "ExecutionMagics",
        "dhist": "OSMagics",
        "dirs": "OSMagics",
        "doctest_mode": "KernelMagics",
        "ed": "Other",
        "edit": "KernelMagics",
        "env": "OSMagics",
        "gui": "BasicMagics",
        "hist": "Other",
        "history": "HistoryMagics",
        "install_default_config": "DeprecatedMagics",
        "install_ext": "ExtensionMagics",
        "install_profiles": "DeprecatedMagics",
        "killbgscripts": "ScriptMagics",
        "ldir": "Other",
        "less": "KernelMagics",
        "lf": "Other",
        "lk": "Other",
        "ll": "Other",
        "load": "CodeMagics",
        "load_ext": "ExtensionMagics",
        "loadpy": "CodeMagics",
        "logoff": "LoggingMagics",
        "logon": "LoggingMagics",
        "logstart": "LoggingMagics",
        "logstate": "LoggingMagics",
        "logstop": "LoggingMagics",
        "ls": "Other",
        "lsmagic": "BasicMagics",
        "lx": "Other",
        "macro": "ExecutionMagics",
        "magic": "BasicMagics",
        "man": "KernelMagics",
        "matplotlib": "PylabMagics",
        "mkdir": "Other",
        "more": "KernelMagics",
        "mv": "Other",
        "notebook": "BasicMagics",
        "page": "BasicMagics",
        "pastebin": "CodeMagics",
        "pdb": "ExecutionMagics",
        "pdef": "NamespaceMagics",
        "pdoc": "NamespaceMagics",
        "pfile": "NamespaceMagics",
        "pinfo": "NamespaceMagics",
        "pinfo2": "NamespaceMagics",
        "popd": "OSMagics",
        "pprint": "BasicMagics",
        "precision": "BasicMagics",
        "profile": "BasicMagics",
        "prun": "ExecutionMagics",
        "psearch": "NamespaceMagics",
        "psource": "NamespaceMagics",
        "pushd": "OSMagics",
        "pwd": "OSMagics",
        "pycat": "OSMagics",
        "pylab": "PylabMagics",
        "qtconsole": "KernelMagics",
        "quickref": "BasicMagics",
        "recall": "HistoryMagics",
        "rehashx": "OSMagics",
        "reload_ext": "ExtensionMagics",
        "rep": "Other",
        "rerun": "HistoryMagics",
        "reset": "NamespaceMagics",
        "reset_selective": "NamespaceMagics",
        "rm": "Other",
        "rmdir": "Other",
        "run": "ExecutionMagics",
        "save": "CodeMagics",
        "sc": "OSMagics",
        "store": "StoreMagics",
        "sx": "OSMagics",
        "system": "OSMagics",
        "tb": "ExecutionMagics",
        "time": "ExecutionMagics",
        "timeit": "ExecutionMagics",
        "unalias": "OSMagics",
        "unload_ext": "ExtensionMagics",
        "who": "NamespaceMagics",
        "who_ls": "NamespaceMagics",
        "whos": "NamespaceMagics",
        "xdel": "NamespaceMagics",
        "xmode": "BasicMagics"
       }
      },
      "text/plain": [
       "Available line magics:\n",
       "%alias  %alias_magic  %autocall  %automagic  %autosave  %bookmark  %cat  %cd  %clear  %colors  %config  %connect_info  %cp  %debug  %dhist  %dirs  %doctest_mode  %ed  %edit  %env  %gui  %hist  %history  %install_default_config  %install_ext  %install_profiles  %killbgscripts  %ldir  %less  %lf  %lk  %ll  %load  %load_ext  %loadpy  %logoff  %logon  %logstart  %logstate  %logstop  %ls  %lsmagic  %lx  %macro  %magic  %man  %matplotlib  %mkdir  %more  %mv  %notebook  %page  %pastebin  %pdb  %pdef  %pdoc  %pfile  %pinfo  %pinfo2  %popd  %pprint  %precision  %profile  %prun  %psearch  %psource  %pushd  %pwd  %pycat  %pylab  %qtconsole  %quickref  %recall  %rehashx  %reload_ext  %rep  %rerun  %reset  %reset_selective  %rm  %rmdir  %run  %save  %sc  %store  %sx  %system  %tb  %time  %timeit  %unalias  %unload_ext  %who  %who_ls  %whos  %xdel  %xmode\n",
       "\n",
       "Available cell magics:\n",
       "%%!  %%HTML  %%SVG  %%bash  %%capture  %%debug  %%file  %%html  %%javascript  %%latex  %%perl  %%prun  %%pypy  %%python  %%python2  %%python3  %%ruby  %%script  %%sh  %%svg  %%sx  %%system  %%time  %%timeit  %%writefile\n",
       "\n",
       "Automagic is ON, % prefix IS NOT needed for line magics."
      ]
     },
     "execution_count": 3,
     "metadata": {},
     "output_type": "execute_result"
    }
   ],
   "source": [
    "%lsmagic"
   ]
  },
  {
   "cell_type": "markdown",
   "metadata": {},
   "source": [
    "### Notebook\n",
    "\n",
    "\"Web-based interactive computational environment where you can combine code execution, text, mathematics, plots and rich media into a single document\" \n",
    "\n",
    "\n",
    "Excels for prototyping, data examination, remote work & presentations\n",
    "\n",
    "\n",
    "Cells can be:\n",
    "* Code\n",
    "* Markdown\n",
    "* Header\n",
    "* Raw\n",
    "\n",
    "Press `'h'` for list of keyboard commands"
   ]
  },
  {
   "cell_type": "code",
   "execution_count": 5,
   "metadata": {
    "collapsed": false
   },
   "outputs": [
    {
     "data": {
      "text/latex": [
       "\\begin{eqnarray}\n",
       "\\nabla \\times \\vec{\\mathbf{B}} -\\, \\frac1c\\, \\frac{\\partial\\vec{\\mathbf{E}}}{\\partial t} & = \\frac{4\\pi}{c}\\vec{\\mathbf{j}} \\\\\n",
       "\\nabla \\cdot \\vec{\\mathbf{E}} & = 4 \\pi \\rho \\\\\n",
       "\\nabla \\times \\vec{\\mathbf{E}}\\, +\\, \\frac1c\\, \\frac{\\partial\\vec{\\mathbf{B}}}{\\partial t} & = \\vec{\\mathbf{0}} \\\\\n",
       "\\nabla \\cdot \\vec{\\mathbf{B}} & = 0 \n",
       "\\end{eqnarray}"
      ],
      "text/plain": [
       "<IPython.core.display.Latex at 0x10ca24150>"
      ]
     },
     "execution_count": 5,
     "metadata": {},
     "output_type": "execute_result"
    }
   ],
   "source": [
    "from IPython.display import Latex\n",
    "Latex(r\"\"\"\\begin{eqnarray}\n",
    "\\nabla \\times \\vec{\\mathbf{B}} -\\, \\frac1c\\, \\frac{\\partial\\vec{\\mathbf{E}}}{\\partial t} & = \\frac{4\\pi}{c}\\vec{\\mathbf{j}} \\\\\n",
    "\\nabla \\cdot \\vec{\\mathbf{E}} & = 4 \\pi \\rho \\\\\n",
    "\\nabla \\times \\vec{\\mathbf{E}}\\, +\\, \\frac1c\\, \\frac{\\partial\\vec{\\mathbf{B}}}{\\partial t} & = \\vec{\\mathbf{0}} \\\\\n",
    "\\nabla \\cdot \\vec{\\mathbf{B}} & = 0 \n",
    "\\end{eqnarray}\"\"\")"
   ]
  },
  {
   "cell_type": "markdown",
   "metadata": {},
   "source": [
    "# <hr noshade size=3> <a id='Basic Syntax'></a> <center>Basic Syntax</center>"
   ]
  },
  {
   "cell_type": "markdown",
   "metadata": {},
   "source": [
    "## Operators"
   ]
  },
  {
   "cell_type": "markdown",
   "metadata": {},
   "source": [
    "### Arithmetic & Assignment\n",
    "\n",
    "|Operator ||Assignment||\n",
    "|:--:|--|:--:|--|\n",
    "|   |   | = | |\n",
    "|+  |   | += | increment |\n",
    "|-  |   | -= | decrement |\n",
    "|`*` |  | `*=` | |\n",
    "|`/` |  | `/=` | |\n",
    "|`//` | floor  | `//=` | |\n",
    "|`%` | modulo | `%=` | |\n",
    "|`**` | power (**NOT `^`**)  | `**=` | |\n",
    "| | | a = b = 1 | multiple |\n",
    "| | | a, b = 1, 2 | |"
   ]
  },
  {
   "cell_type": "code",
   "execution_count": 6,
   "metadata": {
    "collapsed": false
   },
   "outputs": [
    {
     "name": "stdout",
     "output_type": "stream",
     "text": [
      "30\n"
     ]
    }
   ],
   "source": [
    "a = 3\n",
    "a += 27\n",
    "print(a)"
   ]
  },
  {
   "cell_type": "code",
   "execution_count": 7,
   "metadata": {
    "collapsed": false
   },
   "outputs": [
    {
     "name": "stdout",
     "output_type": "stream",
     "text": [
      "(3, 1)\n"
     ]
    }
   ],
   "source": [
    "q, m = divmod(10,3)\n",
    "print(q, m)"
   ]
  },
  {
   "cell_type": "markdown",
   "metadata": {},
   "source": [
    "### Logical"
   ]
  },
  {
   "cell_type": "raw",
   "metadata": {},
   "source": [
    "and\n",
    "or\n",
    "not"
   ]
  },
  {
   "cell_type": "markdown",
   "metadata": {},
   "source": [
    "### Membership"
   ]
  },
  {
   "cell_type": "raw",
   "metadata": {},
   "source": [
    "in\n",
    "not in"
   ]
  },
  {
   "cell_type": "code",
   "execution_count": 8,
   "metadata": {
    "collapsed": false
   },
   "outputs": [
    {
     "data": {
      "text/plain": [
       "False"
      ]
     },
     "execution_count": 8,
     "metadata": {},
     "output_type": "execute_result"
    }
   ],
   "source": [
    "'i' in 'team'"
   ]
  },
  {
   "cell_type": "markdown",
   "metadata": {},
   "source": [
    "### Identity"
   ]
  },
  {
   "cell_type": "raw",
   "metadata": {},
   "source": [
    "is\n",
    "is not"
   ]
  },
  {
   "cell_type": "code",
   "execution_count": 9,
   "metadata": {
    "collapsed": false
   },
   "outputs": [
    {
     "data": {
      "text/plain": [
       "False"
      ]
     },
     "execution_count": 9,
     "metadata": {},
     "output_type": "execute_result"
    }
   ],
   "source": [
    "2 is 2.0"
   ]
  },
  {
   "cell_type": "markdown",
   "metadata": {},
   "source": [
    "### Comparison"
   ]
  },
  {
   "cell_type": "raw",
   "metadata": {},
   "source": [
    "==\n",
    "!=\n",
    "<\n",
    ">\n",
    "<=\n",
    ">="
   ]
  },
  {
   "cell_type": "markdown",
   "metadata": {},
   "source": [
    "### Bitwise/Binary\n",
    "\n",
    "|Symbol |Operation |\n",
    "|:--:|--|\n",
    "|`&` | AND |\n",
    "|&#124; | OR |\n",
    "|`^` | XOR |\n",
    "|`~` | ones complement |\n",
    "|`<<` | left shift |\n",
    "|`>>` | right shift |\n"
   ]
  },
  {
   "cell_type": "code",
   "execution_count": 10,
   "metadata": {
    "collapsed": false
   },
   "outputs": [
    {
     "data": {
      "text/plain": [
       "8"
      ]
     },
     "execution_count": 10,
     "metadata": {},
     "output_type": "execute_result"
    }
   ],
   "source": [
    "9 & 8"
   ]
  },
  {
   "cell_type": "code",
   "execution_count": 11,
   "metadata": {
    "collapsed": false
   },
   "outputs": [
    {
     "name": "stdout",
     "output_type": "stream",
     "text": [
      "0b1001\n",
      "0b1000\n"
     ]
    }
   ],
   "source": [
    "print(bin(9))\n",
    "print(bin(8))"
   ]
  },
  {
   "cell_type": "markdown",
   "metadata": {},
   "source": [
    "## Datatypes"
   ]
  },
  {
   "cell_type": "markdown",
   "metadata": {},
   "source": [
    "### Constants"
   ]
  },
  {
   "cell_type": "raw",
   "metadata": {},
   "source": [
    "True\n",
    "False\n",
    "None"
   ]
  },
  {
   "cell_type": "markdown",
   "metadata": {},
   "source": [
    "### Numeric\n",
    "\n",
    "|Type| Assignment|Note|\n",
    "|:--:|:--:|--|\n",
    "|`int` | `a = 1` | |\n",
    "|`long` | `a = 1L` | Python2 only - all Python3 ints are long\n",
    "|`float` | `a = 1.` | |\n",
    "|`complex` | `a = 1j` | j can be either lower or upper case\n"
   ]
  },
  {
   "cell_type": "code",
   "execution_count": 12,
   "metadata": {
    "collapsed": false
   },
   "outputs": [
    {
     "name": "stdout",
     "output_type": "stream",
     "text": [
      "(1j, <type 'complex'>)\n"
     ]
    }
   ],
   "source": [
    "a = 1j\n",
    "print(a, type(a)) "
   ]
  },
  {
   "cell_type": "markdown",
   "metadata": {},
   "source": [
    "### Sequences\n",
    "\n",
    "#### String\n",
    "Denoted by either single or double quotes, just match consistently:"
   ]
  },
  {
   "cell_type": "code",
   "execution_count": 13,
   "metadata": {
    "collapsed": false
   },
   "outputs": [
    {
     "name": "stdout",
     "output_type": "stream",
     "text": [
      "('these', 'are', '\"some\"', \"'strings'\")\n"
     ]
    }
   ],
   "source": [
    "print('these', \"are\", '\"some\"', \"'strings'\")"
   ]
  },
  {
   "cell_type": "markdown",
   "metadata": {},
   "source": [
    "#### List\n",
    "\n",
    "General container, denoted by square brackets `[...]`, can contain ***anything***"
   ]
  },
  {
   "cell_type": "code",
   "execution_count": 14,
   "metadata": {
    "collapsed": false
   },
   "outputs": [
    {
     "name": "stdout",
     "output_type": "stream",
     "text": [
      "[1, 3.0, (4+5j), 'six']\n",
      "['blah', 3.0, (4+5j), 'six']\n"
     ]
    }
   ],
   "source": [
    "a = [1, 3.0, 4+5j, 'six' ]\n",
    "print(a)\n",
    "a[0]='blah'\n",
    "print(a)"
   ]
  },
  {
   "cell_type": "markdown",
   "metadata": {},
   "source": [
    "#### Tuple\n",
    "\n",
    "An ***immutable*** list, that is state cannot be changed after creation. Denoted by round brackets `(...)`"
   ]
  },
  {
   "cell_type": "code",
   "execution_count": 15,
   "metadata": {
    "collapsed": false
   },
   "outputs": [
    {
     "ename": "TypeError",
     "evalue": "'tuple' object does not support item assignment",
     "output_type": "error",
     "traceback": [
      "\u001b[0;31m---------------------------------------------------------------------------\u001b[0m\n\u001b[0;31mTypeError\u001b[0m                                 Traceback (most recent call last)",
      "\u001b[0;32m<ipython-input-15-16d8d816dcac>\u001b[0m in \u001b[0;36m<module>\u001b[0;34m()\u001b[0m\n\u001b[1;32m      1\u001b[0m \u001b[0msource\u001b[0m \u001b[0;34m=\u001b[0m \u001b[0;34m(\u001b[0m\u001b[0;34m'M56'\u001b[0m\u001b[0;34m,\u001b[0m \u001b[0;36m289.1479411\u001b[0m\u001b[0;34m,\u001b[0m \u001b[0;36m30.1845005\u001b[0m\u001b[0;34m)\u001b[0m\u001b[0;34m\u001b[0m\u001b[0m\n\u001b[1;32m      2\u001b[0m \u001b[0msome_string\u001b[0m \u001b[0;34m=\u001b[0m \u001b[0;34m'abcde'\u001b[0m\u001b[0;34m\u001b[0m\u001b[0m\n\u001b[0;32m----> 3\u001b[0;31m \u001b[0msource\u001b[0m\u001b[0;34m[\u001b[0m\u001b[0;36m0\u001b[0m\u001b[0;34m]\u001b[0m\u001b[0;34m=\u001b[0m\u001b[0;34m'm31'\u001b[0m\u001b[0;34m\u001b[0m\u001b[0m\n\u001b[0m",
      "\u001b[0;31mTypeError\u001b[0m: 'tuple' object does not support item assignment"
     ]
    }
   ],
   "source": [
    "source = ('M56', 289.1479411, 30.1845005)\n",
    "some_string = 'abcde'\n",
    "source[0]='m31'"
   ]
  },
  {
   "cell_type": "markdown",
   "metadata": {},
   "source": [
    "### Other\n",
    "\n",
    "#### Sets\n",
    "\n",
    "There are 2 set types: `set` and `frozenset` (mutable/immutable). Sets are created with curly brackets `{...}` or the function `set()`:"
   ]
  },
  {
   "cell_type": "code",
   "execution_count": 16,
   "metadata": {
    "collapsed": false
   },
   "outputs": [
    {
     "data": {
      "text/plain": [
       "set"
      ]
     },
     "execution_count": 16,
     "metadata": {},
     "output_type": "execute_result"
    }
   ],
   "source": [
    "a = {1,2,3}\n",
    "type(a)"
   ]
  },
  {
   "cell_type": "markdown",
   "metadata": {},
   "source": [
    "The classic set methods (intersection/union) are available:"
   ]
  },
  {
   "cell_type": "raw",
   "metadata": {},
   "source": [
    "a.add                          a.intersection                 a.remove\n",
    "a.clear                        a.intersection_update          a.symmetric_difference\n",
    "a.copy                         a.isdisjoint                   a.symmetric_difference_update\n",
    "a.difference                   a.issubset                     a.union\n",
    "a.difference_update            a.issuperset                   a.update\n",
    "a.discard                      a.pop"
   ]
  },
  {
   "cell_type": "markdown",
   "metadata": {},
   "source": [
    "The common use of sets is to remove duplicates:"
   ]
  },
  {
   "cell_type": "code",
   "execution_count": 17,
   "metadata": {
    "collapsed": false
   },
   "outputs": [
    {
     "data": {
      "text/plain": [
       "{1, 2, 3, 4, 5, 6, 7, 9}"
      ]
     },
     "execution_count": 17,
     "metadata": {},
     "output_type": "execute_result"
    }
   ],
   "source": [
    "a = [1,1,2,9,2,3,4,5,6,7,6,5,3,2,1]\n",
    "set(a)"
   ]
  },
  {
   "cell_type": "markdown",
   "metadata": {},
   "source": [
    "Note there is also a numpy routine to do the same: "
   ]
  },
  {
   "cell_type": "code",
   "execution_count": 18,
   "metadata": {
    "collapsed": false
   },
   "outputs": [
    {
     "data": {
      "text/plain": [
       "array([1, 2, 3, 4, 5, 6, 7, 9])"
      ]
     },
     "execution_count": 18,
     "metadata": {},
     "output_type": "execute_result"
    }
   ],
   "source": [
    "numpy.unique(a)"
   ]
  },
  {
   "cell_type": "markdown",
   "metadata": {},
   "source": [
    "#### Dictionaries\n",
    "\n",
    "A dictionary contains values accessed by keys: "
   ]
  },
  {
   "cell_type": "code",
   "execution_count": 19,
   "metadata": {
    "collapsed": false
   },
   "outputs": [],
   "source": [
    "d = {'key':'value'}"
   ]
  },
  {
   "cell_type": "markdown",
   "metadata": {},
   "source": [
    "They are used for mapping one quantity to something else:"
   ]
  },
  {
   "cell_type": "code",
   "execution_count": 20,
   "metadata": {
    "collapsed": false
   },
   "outputs": [
    {
     "name": "stdout",
     "output_type": "stream",
     "text": [
      "rouge\n",
      "['blue', 'black', 'white', 'green', 'red']\n"
     ]
    }
   ],
   "source": [
    "translate = {'red':'rouge',\n",
    "             'green':'vert',\n",
    "             'blue':'bleu',\n",
    "             'black':'noir',\n",
    "             'white':'blanc'}\n",
    "print(translate['red'])\n",
    "print(translate.keys())"
   ]
  },
  {
   "cell_type": "markdown",
   "metadata": {},
   "source": [
    "Note:\n",
    "* order is not conserved! Use collections.ordereddict if important\n",
    "* Mapping is one way only"
   ]
  },
  {
   "cell_type": "code",
   "execution_count": 21,
   "metadata": {
    "collapsed": false
   },
   "outputs": [
    {
     "ename": "KeyError",
     "evalue": "'noir'",
     "output_type": "error",
     "traceback": [
      "\u001b[0;31m---------------------------------------------------------------------------\u001b[0m\n\u001b[0;31mKeyError\u001b[0m                                  Traceback (most recent call last)",
      "\u001b[0;32m<ipython-input-21-f8850c1b94bd>\u001b[0m in \u001b[0;36m<module>\u001b[0;34m()\u001b[0m\n\u001b[0;32m----> 1\u001b[0;31m \u001b[0;32mprint\u001b[0m\u001b[0;34m(\u001b[0m\u001b[0mtranslate\u001b[0m\u001b[0;34m[\u001b[0m\u001b[0;34m'noir'\u001b[0m\u001b[0;34m]\u001b[0m\u001b[0;34m)\u001b[0m\u001b[0;34m\u001b[0m\u001b[0m\n\u001b[0m",
      "\u001b[0;31mKeyError\u001b[0m: 'noir'"
     ]
    }
   ],
   "source": [
    "print(translate['noir'])"
   ]
  },
  {
   "cell_type": "markdown",
   "metadata": {},
   "source": [
    "Example of dict in action:"
   ]
  },
  {
   "cell_type": "code",
   "execution_count": 22,
   "metadata": {
    "collapsed": false
   },
   "outputs": [
    {
     "name": "stdout",
     "output_type": "stream",
     "text": [
      "['100', '143', '217', '353', '545', '857']\n",
      "['857-1', '857-2', '857-3', '857-4']\n"
     ]
    }
   ],
   "source": [
    "hfi = { '100': [ '100-1a','100-1b','100-2a','100-2b',\n",
    "                 '100-3a','100-3b','100-4a','100-4b'  ],\n",
    "        '143': [ '143-1a','143-1b','143-2a','143-2b',\n",
    "                 '143-3a','143-3b','143-4a','143-4b',\n",
    "                 '143-5' ,'143-6' ,'143-7'            ],\n",
    "        '217': [ '217-1' ,'217-2' ,'217-3' ,'217-4' ,\n",
    "                 '217-5a','217-5b','217-6a','217-6b',\n",
    "                 '217-7a','217-7b','217-8a','217-8b'  ],\n",
    "        '353': [ '353-1' ,'353-2' ,'353-3a','353-3b',\n",
    "                 '353-4a','353-4b','353-5a','353-5b',\n",
    "                 '353-6a','353-6b','353-7' ,'353-8'   ],\n",
    "        '545': [ '545-1' ,'545-2' ,         '545-4'   ],\n",
    "        '857': [ '857-1' ,'857-2' ,'857-3' ,'857-4'   ] }\n",
    "\n",
    "print( sorted( hfi.keys() ))\n",
    "print( hfi['857'] )"
   ]
  },
  {
   "cell_type": "markdown",
   "metadata": {},
   "source": [
    "## Indexing\n",
    "\n",
    "* First element = 0\n",
    "* Initialize index list with range(start, stop, step)\n",
    "* Index with [start: stop: step]\n",
    "* Negative indices count back from end"
   ]
  },
  {
   "cell_type": "code",
   "execution_count": 24,
   "metadata": {
    "collapsed": false
   },
   "outputs": [
    {
     "name": "stdout",
     "output_type": "stream",
     "text": [
      "[0, 1, 2, 3, 4, 5, 6, 7, 8, 9]\n"
     ]
    }
   ],
   "source": [
    "a = range(10)\n",
    "print(a)  # Python3 print(*a) to expand range"
   ]
  },
  {
   "cell_type": "code",
   "execution_count": 25,
   "metadata": {
    "collapsed": false
   },
   "outputs": [
    {
     "data": {
      "text/plain": [
       "0"
      ]
     },
     "execution_count": 25,
     "metadata": {},
     "output_type": "execute_result"
    }
   ],
   "source": [
    "a[0]"
   ]
  },
  {
   "cell_type": "code",
   "execution_count": 26,
   "metadata": {
    "collapsed": false
   },
   "outputs": [
    {
     "name": "stdout",
     "output_type": "stream",
     "text": [
      "[3, 4, 5]\n",
      "[3, 4, 5, 6, 7, 8, 9]\n"
     ]
    }
   ],
   "source": [
    "print( a[3:6] )\n",
    "print( a[3:] )"
   ]
  },
  {
   "cell_type": "code",
   "execution_count": 45,
   "metadata": {
    "collapsed": false
   },
   "outputs": [
    {
     "name": "stdout",
     "output_type": "stream",
     "text": [
      "9\n",
      "8\n"
     ]
    }
   ],
   "source": [
    "print( a[-1] )\n",
    "print( a[-2] )"
   ]
  },
  {
   "cell_type": "code",
   "execution_count": 27,
   "metadata": {
    "collapsed": false
   },
   "outputs": [
    {
     "name": "stdout",
     "output_type": "stream",
     "text": [
      "[0, 2, 4, 6, 8]\n",
      "[1, 3, 5, 7, 9]\n",
      "[9, 8, 7, 6, 5, 4, 3, 2, 1, 0]\n"
     ]
    }
   ],
   "source": [
    "print( a[::2]  )\n",
    "print( a[1::2] )\n",
    "print( a[::-1] )"
   ]
  },
  {
   "cell_type": "markdown",
   "metadata": {},
   "source": [
    "## Numpy (Arrays)\n",
    "\n",
    "Python has array module in standard library but just use numpy for numerical work. There are multiple [array creation routines](http://docs.scipy.org/doc/numpy/reference/routines.array-creation.html). The most important are:\n",
    "\n",
    "|Routine| Description |\n",
    "|--|--|\n",
    "|`numpy.array()` | Convert existing array |\n",
    "|`numpy.arange()` | Evenly-spaced values |\n",
    "|`numpy.zeros()` | Array filled with zeros |\n",
    "|`numpy.full()` | Array filled with specified value|\n",
    "\n",
    "Numpy can parse statements inside indexing brackets (fancy indexing):"
   ]
  },
  {
   "cell_type": "code",
   "execution_count": 28,
   "metadata": {
    "collapsed": false
   },
   "outputs": [
    {
     "name": "stdout",
     "output_type": "stream",
     "text": [
      "[0 1 2 3 4 5 6 7 8 9]\n",
      "[7 8 9]\n"
     ]
    }
   ],
   "source": [
    "import numpy\n",
    "a = numpy.arange(10)\n",
    "print( a )\n",
    "print( a[a > 6] )\n"
   ]
  },
  {
   "cell_type": "markdown",
   "metadata": {},
   "source": [
    "Use record arrays for structured data; can be indexed by field name:"
   ]
  },
  {
   "cell_type": "code",
   "execution_count": 29,
   "metadata": {
    "collapsed": false
   },
   "outputs": [
    {
     "name": "stdout",
     "output_type": "stream",
     "text": [
      "[[ 0.  0.]\n",
      " [ 0.  0.]]\n",
      "()\n",
      "array([[(0.0, 0.0, 0.0), (0.0, 0.0, 0.0)],\n",
      "       [(0.0, 0.0, 0.0), (0.0, 0.0, 0.0)]], \n",
      "      dtype=[('r', '<f4'), ('g', '<f4'), ('b', '<f4')])\n"
     ]
    }
   ],
   "source": [
    "img = numpy.zeros((2,2), {'names': ('r','g','b'), 'formats': (numpy.float32, numpy.float32, numpy.float32)})\n",
    "print( img['r'] )\n",
    "print() # Empty line\n",
    "print( img.__repr__() )"
   ]
  },
  {
   "cell_type": "markdown",
   "metadata": {},
   "source": [
    "## Functions vs Methods\n",
    "\n",
    "Function is independent of explicitly passed data:"
   ]
  },
  {
   "cell_type": "raw",
   "metadata": {},
   "source": [
    "IDL> a='abcde'\n",
    "IDL> strupcase(a)\n",
    "        ABCDE\n",
    "IDL> strlen(a)\n",
    "        5"
   ]
  },
  {
   "cell_type": "code",
   "execution_count": 30,
   "metadata": {
    "collapsed": false
   },
   "outputs": [
    {
     "data": {
      "text/plain": [
       "5"
      ]
     },
     "execution_count": 30,
     "metadata": {},
     "output_type": "execute_result"
    }
   ],
   "source": [
    "a='abcde'\n",
    "len(a) # Function"
   ]
  },
  {
   "cell_type": "markdown",
   "metadata": {},
   "source": [
    "Method is associated with implicitly passed object:"
   ]
  },
  {
   "cell_type": "code",
   "execution_count": 31,
   "metadata": {
    "collapsed": false
   },
   "outputs": [
    {
     "data": {
      "text/plain": [
       "'ABCDE'"
      ]
     },
     "execution_count": 31,
     "metadata": {},
     "output_type": "execute_result"
    }
   ],
   "source": [
    "a.upper() # Method"
   ]
  },
  {
   "cell_type": "markdown",
   "metadata": {},
   "source": [
    "<font color='red'>***Tab-completion will show you all methods associated with an object!***</font>"
   ]
  },
  {
   "cell_type": "code",
   "execution_count": 63,
   "metadata": {
    "collapsed": false
   },
   "outputs": [
    {
     "ename": "SyntaxError",
     "evalue": "invalid syntax (<ipython-input-63-a0d310e2b5e6>, line 1)",
     "output_type": "error",
     "traceback": [
      "\u001b[0;36m  File \u001b[0;32m\"<ipython-input-63-a0d310e2b5e6>\"\u001b[0;36m, line \u001b[0;32m1\u001b[0m\n\u001b[0;31m    a.\u001b[0m\n\u001b[0m      ^\u001b[0m\n\u001b[0;31mSyntaxError\u001b[0m\u001b[0;31m:\u001b[0m invalid syntax\n"
     ]
    }
   ],
   "source": [
    "a."
   ]
  },
  {
   "cell_type": "raw",
   "metadata": {},
   "source": [
    "a.capitalize  a.format      a.isupper     a.rindex      a.strip\n",
    "a.center      a.index       a.join        a.rjust       a.swapcase\n",
    "a.count       a.isalnum     a.ljust       a.rpartition  a.title\n",
    "a.decode      a.isalpha     a.lower       a.rsplit      a.translate\n",
    "a.encode      a.isdigit     a.lstrip      a.rstrip      a.upper\n",
    "a.endswith    a.islower     a.partition   a.split       a.zfill\n",
    "a.expandtabs  a.isspace     a.replace     a.splitlines\n",
    "a.find        a.istitle     a.rfind       a.startswith"
   ]
  },
  {
   "cell_type": "markdown",
   "metadata": {},
   "source": [
    "Methods change with object type!"
   ]
  },
  {
   "cell_type": "raw",
   "metadata": {},
   "source": [
    "a = [1,2,3]\n",
    "\n",
    "a.\n",
    "a.append   a.extend   a.insert   a.remove   a.sort\n",
    "a.count    a.index    a.pop      a.reverse"
   ]
  },
  {
   "cell_type": "markdown",
   "metadata": {},
   "source": [
    "Everything in Python is an object!"
   ]
  },
  {
   "cell_type": "raw",
   "metadata": {},
   "source": [
    "In [1]: import math\n",
    "\n",
    "In [2]: math.\n",
    "math.acos       math.degrees    math.fsum       math.pi\n",
    "math.acosh      math.e          math.gamma      math.pow\n",
    "math.asin       math.erf        math.hypot      math.radians\n",
    "math.asinh      math.erfc       math.isinf      math.sin\n",
    "math.atan       math.exp        math.isnan      math.sinh\n",
    "math.atan2      math.expm1      math.ldexp      math.sqrt\n",
    "math.atanh      math.fabs       math.lgamma     math.tan\n",
    "math.ceil       math.factorial  math.log        math.tanh\n",
    "math.copysign   math.floor      math.log10      math.trunc\n",
    "math.cos        math.fmod       math.log1p\n",
    "math.cosh       math.frexp      math.modf"
   ]
  },
  {
   "cell_type": "markdown",
   "metadata": {},
   "source": [
    "Note methods can:\n",
    "* accept arguments\n",
    "* stack"
   ]
  },
  {
   "cell_type": "code",
   "execution_count": 32,
   "metadata": {
    "collapsed": false
   },
   "outputs": [
    {
     "data": {
      "text/plain": [
       "3"
      ]
     },
     "execution_count": 32,
     "metadata": {},
     "output_type": "execute_result"
    }
   ],
   "source": [
    "'eleven'.count('e')"
   ]
  },
  {
   "cell_type": "code",
   "execution_count": 33,
   "metadata": {
    "collapsed": false
   },
   "outputs": [
    {
     "data": {
      "text/plain": [
       "['HFI', 'SkyMap', '353-1', '2048', 'R2.00', 'year-1']"
      ]
     },
     "execution_count": 33,
     "metadata": {},
     "output_type": "execute_result"
    }
   ],
   "source": [
    "filename = 'HFI_SkyMap_353-1_2048_R2.00_year-1.fits'\n",
    "filename.strip('.fits').split('_')"
   ]
  },
  {
   "cell_type": "code",
   "execution_count": 34,
   "metadata": {
    "collapsed": false
   },
   "outputs": [
    {
     "name": "stdout",
     "output_type": "stream",
     "text": [
      "('353-1', 'year-1')\n"
     ]
    }
   ],
   "source": [
    "instrument, product, detector, nside, version, period = filename.strip('.fits').split('_')\n",
    "print( detector, period )"
   ]
  },
  {
   "cell_type": "markdown",
   "metadata": {},
   "source": [
    "# <hr noshade size=3> <a id='Namespaces'></a> <center>Namespaces</center>"
   ]
  },
  {
   "cell_type": "markdown",
   "metadata": {},
   "source": [
    "## Import Statements\n",
    "\n",
    "Most programs start with import statements of the form:"
   ]
  },
  {
   "cell_type": "raw",
   "metadata": {},
   "source": [
    "import module\n",
    "import module as mod\n",
    "from module import *\n",
    "from module import function1, function2 "
   ]
  },
  {
   "cell_type": "markdown",
   "metadata": {},
   "source": [
    "These set different mapping of names to objects:"
   ]
  },
  {
   "cell_type": "code",
   "execution_count": 35,
   "metadata": {
    "collapsed": false
   },
   "outputs": [
    {
     "name": "stdout",
     "output_type": "stream",
     "text": [
      "Interactive namespace is empty.\n"
     ]
    }
   ],
   "source": [
    "%reset -f\n",
    "%whos"
   ]
  },
  {
   "cell_type": "code",
   "execution_count": 36,
   "metadata": {
    "collapsed": false
   },
   "outputs": [
    {
     "name": "stdout",
     "output_type": "stream",
     "text": [
      "Variable   Type      Data/Info\n",
      "------------------------------\n",
      "math       module    <module 'math' from '/Use<...>2.7/lib-dynload/math.so'>\n",
      "()\n",
      "3.14159265359\n"
     ]
    }
   ],
   "source": [
    "import math\n",
    "%whos\n",
    "print()\n",
    "print( math.pi )"
   ]
  },
  {
   "cell_type": "code",
   "execution_count": 37,
   "metadata": {
    "collapsed": false
   },
   "outputs": [
    {
     "name": "stdout",
     "output_type": "stream",
     "text": [
      "Variable   Type      Data/Info\n",
      "------------------------------\n",
      "m          module    <module 'math' from '/Use<...>2.7/lib-dynload/math.so'>\n",
      "()\n",
      "3.14159265359\n"
     ]
    }
   ],
   "source": [
    "%reset -f\n",
    "import math as m\n",
    "%whos\n",
    "print()\n",
    "print( m.pi )"
   ]
  },
  {
   "cell_type": "code",
   "execution_count": 38,
   "metadata": {
    "collapsed": false
   },
   "outputs": [
    {
     "name": "stdout",
     "output_type": "stream",
     "text": [
      "Variable    Type                          Data/Info\n",
      "---------------------------------------------------\n",
      "acos        builtin_function_or_method    <built-in function acos>\n",
      "acosh       builtin_function_or_method    <built-in function acosh>\n",
      "asin        builtin_function_or_method    <built-in function asin>\n",
      "asinh       builtin_function_or_method    <built-in function asinh>\n",
      "atan        builtin_function_or_method    <built-in function atan>\n",
      "atan2       builtin_function_or_method    <built-in function atan2>\n",
      "atanh       builtin_function_or_method    <built-in function atanh>\n",
      "ceil        builtin_function_or_method    <built-in function ceil>\n",
      "copysign    builtin_function_or_method    <built-in function copysign>\n",
      "cos         builtin_function_or_method    <built-in function cos>\n",
      "cosh        builtin_function_or_method    <built-in function cosh>\n",
      "degrees     builtin_function_or_method    <built-in function degrees>\n",
      "e           float                         2.71828182846\n",
      "erf         builtin_function_or_method    <built-in function erf>\n",
      "erfc        builtin_function_or_method    <built-in function erfc>\n",
      "exp         builtin_function_or_method    <built-in function exp>\n",
      "expm1       builtin_function_or_method    <built-in function expm1>\n",
      "fabs        builtin_function_or_method    <built-in function fabs>\n",
      "factorial   builtin_function_or_method    <built-in function factorial>\n",
      "floor       builtin_function_or_method    <built-in function floor>\n",
      "fmod        builtin_function_or_method    <built-in function fmod>\n",
      "frexp       builtin_function_or_method    <built-in function frexp>\n",
      "fsum        builtin_function_or_method    <built-in function fsum>\n",
      "gamma       builtin_function_or_method    <built-in function gamma>\n",
      "hypot       builtin_function_or_method    <built-in function hypot>\n",
      "isinf       builtin_function_or_method    <built-in function isinf>\n",
      "isnan       builtin_function_or_method    <built-in function isnan>\n",
      "ldexp       builtin_function_or_method    <built-in function ldexp>\n",
      "lgamma      builtin_function_or_method    <built-in function lgamma>\n",
      "log         builtin_function_or_method    <built-in function log>\n",
      "log10       builtin_function_or_method    <built-in function log10>\n",
      "log1p       builtin_function_or_method    <built-in function log1p>\n",
      "modf        builtin_function_or_method    <built-in function modf>\n",
      "pi          float                         3.14159265359\n",
      "pow         builtin_function_or_method    <built-in function pow>\n",
      "radians     builtin_function_or_method    <built-in function radians>\n",
      "sin         builtin_function_or_method    <built-in function sin>\n",
      "sinh        builtin_function_or_method    <built-in function sinh>\n",
      "sqrt        builtin_function_or_method    <built-in function sqrt>\n",
      "tan         builtin_function_or_method    <built-in function tan>\n",
      "tanh        builtin_function_or_method    <built-in function tanh>\n",
      "trunc       builtin_function_or_method    <built-in function trunc>\n",
      "()\n",
      "3.14159265359\n"
     ]
    }
   ],
   "source": [
    "%reset -f\n",
    "from math import *\n",
    "%whos\n",
    "print()\n",
    "print( pi )"
   ]
  },
  {
   "cell_type": "code",
   "execution_count": 39,
   "metadata": {
    "collapsed": false
   },
   "outputs": [
    {
     "name": "stdout",
     "output_type": "stream",
     "text": [
      "Variable   Type     Data/Info\n",
      "-----------------------------\n",
      "e          float    2.71828182846\n",
      "pi         float    3.14159265359\n",
      "()\n",
      "3.14159265359\n"
     ]
    }
   ],
   "source": [
    "%reset -f\n",
    "from math import pi, e\n",
    "%whos\n",
    "print()\n",
    "print( pi )"
   ]
  },
  {
   "cell_type": "markdown",
   "metadata": {},
   "source": [
    "Renaming useful for mixing/matching modules but beware of overwriting!"
   ]
  },
  {
   "cell_type": "raw",
   "metadata": {},
   "source": [
    "import pyfits\n",
    "\n",
    "replace with:\n",
    "\n",
    "import astropy.io.fits as pyfits "
   ]
  },
  {
   "cell_type": "markdown",
   "metadata": {},
   "source": [
    "## Reusing Your Own Code\n",
    "\n",
    "Put common code into a file and import into your namespace (needs to be in same directory or locatable via environment variable PYTHONPATH):"
   ]
  },
  {
   "cell_type": "code",
   "execution_count": 40,
   "metadata": {
    "collapsed": false
   },
   "outputs": [
    {
     "name": "stdout",
     "output_type": "stream",
     "text": [
      "hfi = { '100': [ '100-1a','100-1b','100-2a','100-2b',\n",
      "                 '100-3a','100-3b','100-4a','100-4b'  ],\n",
      "        '143': [ '143-1a','143-1b','143-2a','143-2b',\n",
      "                 '143-3a','143-3b','143-4a','143-4b',\n",
      "                 '143-5' ,'143-6' ,'143-7'            ],\n",
      "        '217': [ '217-1' ,'217-2' ,'217-3' ,'217-4' ,\n",
      "                 '217-5a','217-5b','217-6a','217-6b',\n",
      "                 '217-7a','217-7b','217-8a','217-8b'  ],\n",
      "        '353': [ '353-1' ,'353-2' ,'353-3a','353-3b',\n",
      "                 '353-4a','353-4b','353-5a','353-5b',\n",
      "                 '353-6a','353-6b','353-7' ,'353-8'   ],\n",
      "        '545': [ '545-1' ,'545-2' ,         '545-4'   ],\n",
      "        '857': [ '857-1' ,'857-2' ,'857-3' ,'857-4'   ] }\n",
      "\n",
      "\n"
     ]
    }
   ],
   "source": [
    "%%bash\n",
    "cat my_lib.py"
   ]
  },
  {
   "cell_type": "code",
   "execution_count": 41,
   "metadata": {
    "collapsed": false
   },
   "outputs": [
    {
     "name": "stdout",
     "output_type": "stream",
     "text": [
      "Variable   Type    Data/Info\n",
      "----------------------------\n",
      "hfi        dict    n=6\n"
     ]
    },
    {
     "data": {
      "text/plain": [
       "{'100': ['100-1a',\n",
       "  '100-1b',\n",
       "  '100-2a',\n",
       "  '100-2b',\n",
       "  '100-3a',\n",
       "  '100-3b',\n",
       "  '100-4a',\n",
       "  '100-4b'],\n",
       " '143': ['143-1a',\n",
       "  '143-1b',\n",
       "  '143-2a',\n",
       "  '143-2b',\n",
       "  '143-3a',\n",
       "  '143-3b',\n",
       "  '143-4a',\n",
       "  '143-4b',\n",
       "  '143-5',\n",
       "  '143-6',\n",
       "  '143-7'],\n",
       " '217': ['217-1',\n",
       "  '217-2',\n",
       "  '217-3',\n",
       "  '217-4',\n",
       "  '217-5a',\n",
       "  '217-5b',\n",
       "  '217-6a',\n",
       "  '217-6b',\n",
       "  '217-7a',\n",
       "  '217-7b',\n",
       "  '217-8a',\n",
       "  '217-8b'],\n",
       " '353': ['353-1',\n",
       "  '353-2',\n",
       "  '353-3a',\n",
       "  '353-3b',\n",
       "  '353-4a',\n",
       "  '353-4b',\n",
       "  '353-5a',\n",
       "  '353-5b',\n",
       "  '353-6a',\n",
       "  '353-6b',\n",
       "  '353-7',\n",
       "  '353-8'],\n",
       " '545': ['545-1', '545-2', '545-4'],\n",
       " '857': ['857-1', '857-2', '857-3', '857-4']}"
      ]
     },
     "execution_count": 41,
     "metadata": {},
     "output_type": "execute_result"
    }
   ],
   "source": [
    "%reset -f\n",
    "from my_lib import hfi\n",
    "%whos\n",
    "hfi"
   ]
  },
  {
   "cell_type": "markdown",
   "metadata": {},
   "source": [
    "# <hr noshade size=3> <a id='Compound Statements'></a> <center>Compound Statements</center>"
   ]
  },
  {
   "cell_type": "markdown",
   "metadata": {},
   "source": [
    "## Whitespace\n",
    "\n",
    "* Python does not use brackets or begin/end/do/done to enclose compound statements.\n",
    "* Blocks are marked by colon '`:`' then relative indentation.\n",
    "* Either tabs or spaces can be used (but not mixed). PEP8 recommends 4 x space:  "
   ]
  },
  {
   "cell_type": "raw",
   "metadata": {},
   "source": [
    "statement:\n",
    "    blah\n",
    "    blah\n",
    "    statement:\n",
    "        blah\n",
    "        blah\n",
    "    blah\n",
    "    blah\n",
    "    statement: blah    # One liner\n",
    "    blah\n",
    "    blah\n",
    "blah\n",
    "blah"
   ]
  },
  {
   "cell_type": "markdown",
   "metadata": {},
   "source": [
    "Get comfortable with selecting & manipulating text blocks in your favorite editor (CTRL-V in VIM)! Use `%cpaste` magic to copy/paste into IPython."
   ]
  },
  {
   "cell_type": "markdown",
   "metadata": {},
   "source": [
    "## Functions"
   ]
  },
  {
   "cell_type": "code",
   "execution_count": 42,
   "metadata": {
    "collapsed": false
   },
   "outputs": [
    {
     "data": {
      "text/plain": [
       "'a'"
      ]
     },
     "execution_count": 42,
     "metadata": {},
     "output_type": "execute_result"
    }
   ],
   "source": [
    "def do_nothing(input):\n",
    "    return input\n",
    "    \n",
    "do_nothing('a')"
   ]
  },
  {
   "cell_type": "markdown",
   "metadata": {},
   "source": [
    "## Control Flow\n",
    "\n",
    "* while\n",
    "* for\n",
    "* if\n",
    "\n",
    "but no case/switch. Can be modified by:\n",
    "\n",
    "* break\n",
    "* continue\n",
    "* pass\n",
    "\n",
    "\n",
    "### While..."
   ]
  },
  {
   "cell_type": "code",
   "execution_count": 43,
   "metadata": {
    "collapsed": false
   },
   "outputs": [
    {
     "name": "stdout",
     "output_type": "stream",
     "text": [
      "('The count is:', 0)\n",
      "('The count is:', 1)\n",
      "('The count is:', 2)\n",
      "('The count is:', 3)\n",
      "('The count is:', 4)\n",
      "('The count is:', 5)\n",
      "('The count is:', 6)\n",
      "('The count is:', 7)\n",
      "('The count is:', 8)\n",
      "Good bye!\n"
     ]
    }
   ],
   "source": [
    "count = 0\n",
    "while count < 9:\n",
    "   print( 'The count is:', count )\n",
    "   count += 1\n",
    "\n",
    "print( \"Good bye!\" )"
   ]
  },
  {
   "cell_type": "markdown",
   "metadata": {},
   "source": [
    "### For...\n",
    "\n",
    "Collection-controlled, similar to IDL `FOREACH`. To count give range."
   ]
  },
  {
   "cell_type": "code",
   "execution_count": 44,
   "metadata": {
    "collapsed": false
   },
   "outputs": [
    {
     "name": "stdout",
     "output_type": "stream",
     "text": [
      "0\n",
      "1\n",
      "2\n",
      "3\n",
      "4\n",
      "5\n",
      "6\n",
      "7\n",
      "8\n",
      "9\n"
     ]
    }
   ],
   "source": [
    "start = 0\n",
    "stop = 10\n",
    "step = 1\n",
    "\n",
    "for index in range(start, stop, step):\n",
    "    print( index )"
   ]
  },
  {
   "cell_type": "code",
   "execution_count": 45,
   "metadata": {
    "collapsed": false
   },
   "outputs": [
    {
     "name": "stdout",
     "output_type": "stream",
     "text": [
      "u\n",
      "g\n",
      "r\n",
      "i\n",
      "z\n"
     ]
    }
   ],
   "source": [
    "for filter in ['u', 'g', 'r', 'i', 'z']:\n",
    "    print( filter )"
   ]
  },
  {
   "cell_type": "code",
   "execution_count": 46,
   "metadata": {
    "collapsed": false
   },
   "outputs": [
    {
     "name": "stdout",
     "output_type": "stream",
     "text": [
      "u\n",
      "g\n",
      "r\n",
      "i\n",
      "z\n"
     ]
    }
   ],
   "source": [
    "filters = ['u', 'g', 'r', 'i', 'z']\n",
    "for filter in filters:\n",
    "    print( filter )"
   ]
  },
  {
   "cell_type": "code",
   "execution_count": 47,
   "metadata": {
    "collapsed": false
   },
   "outputs": [
    {
     "name": "stdout",
     "output_type": "stream",
     "text": [
      "(0, 'u')\n",
      "(1, 'g')\n",
      "(2, 'r')\n",
      "(3, 'i')\n",
      "(4, 'z')\n"
     ]
    }
   ],
   "source": [
    "for index, filter in enumerate(filters):\n",
    "    print( index, filter )"
   ]
  },
  {
   "cell_type": "markdown",
   "metadata": {},
   "source": [
    "### If..."
   ]
  },
  {
   "cell_type": "code",
   "execution_count": 49,
   "metadata": {
    "collapsed": false
   },
   "outputs": [
    {
     "name": "stdout",
     "output_type": "stream",
     "text": [
      "How old are you? 6\n",
      " child fare\n"
     ]
    }
   ],
   "source": [
    "age = int(input('How old are you? '))\n",
    "\n",
    "if age <= 2:\n",
    "    print(' free')\n",
    "elif 2 < age < 13:\n",
    "    print(' child fare')\n",
    "else:\n",
    "    print(' adult fare')"
   ]
  },
  {
   "cell_type": "markdown",
   "metadata": {},
   "source": [
    "# <hr noshade size=3> <a id='File I/O'></a> <center>File I/O</center>"
   ]
  },
  {
   "cell_type": "markdown",
   "metadata": {},
   "source": [
    "## ASCII\n",
    "\n",
    "Python can natively open/read/write but there are more powerful tools in many modules."
   ]
  },
  {
   "cell_type": "code",
   "execution_count": 50,
   "metadata": {
    "collapsed": false
   },
   "outputs": [
    {
     "name": "stdout",
     "output_type": "stream",
     "text": [
      "#id,      ra,              dec\n",
      "M56,      289.147941100,   30.184500500\n",
      "ic4710,   277.158208330,   -66.982277780\n",
      "ngc4552,  188.915863750,   12.556341390\n",
      "# Appending comment to file# Appending comment to file# Appending comment to file# Appending comment to file# Appending comment to file()\n",
      "['#id,      ra,              dec\\n', 'M56,      289.147941100,   30.184500500\\n', 'ic4710,   277.158208330,   -66.982277780\\n', 'ngc4552,  188.915863750,   12.556341390\\n', '# Appending comment to file# Appending comment to file# Appending comment to file# Appending comment to file# Appending comment to file']\n"
     ]
    }
   ],
   "source": [
    "! cat ascii.txt\n",
    "\n",
    "f = open('ascii.txt','r')\n",
    "data = f.readlines()\n",
    "f.close()\n",
    "\n",
    "print()\n",
    "print( data )"
   ]
  },
  {
   "cell_type": "code",
   "execution_count": 51,
   "metadata": {
    "collapsed": false
   },
   "outputs": [
    {
     "name": "stdout",
     "output_type": "stream",
     "text": [
      "#id,      ra,              dec\r\n",
      "M56,      289.147941100,   30.184500500\r\n",
      "ic4710,   277.158208330,   -66.982277780\r\n",
      "ngc4552,  188.915863750,   12.556341390\r\n",
      "# Appending comment to file# Appending comment to file# Appending comment to file# Appending comment to file# Appending comment to file# Appending comment to file"
     ]
    }
   ],
   "source": [
    "f = open('ascii.txt','a') \n",
    "f.write('# Appending comment to file') \n",
    "f.close()\n",
    "\n",
    "! cat ascii.txt"
   ]
  },
  {
   "cell_type": "code",
   "execution_count": 52,
   "metadata": {
    "collapsed": false
   },
   "outputs": [
    {
     "data": {
      "text/plain": [
       "array([('M56', 289.1479411, 30.1845005),\n",
       "       ('ic4710', 277.15820833, -66.98227778),\n",
       "       ('ngc4552', 188.91586375, 12.55634139)], \n",
       "      dtype=[('id', 'S7'), ('ra', '<f8'), ('dec', '<f8')])"
      ]
     },
     "execution_count": 52,
     "metadata": {},
     "output_type": "execute_result"
    }
   ],
   "source": [
    "import numpy\n",
    "data = numpy.genfromtxt('ascii.txt', delimiter=',', dtype=None, names=True)\n",
    "data"
   ]
  },
  {
   "cell_type": "code",
   "execution_count": 53,
   "metadata": {
    "collapsed": false
   },
   "outputs": [
    {
     "data": {
      "text/plain": [
       "array(['M56', 'ic4710', 'ngc4552'], \n",
       "      dtype='|S7')"
      ]
     },
     "execution_count": 53,
     "metadata": {},
     "output_type": "execute_result"
    }
   ],
   "source": [
    "data['id']"
   ]
  },
  {
   "cell_type": "code",
   "execution_count": 54,
   "metadata": {
    "collapsed": false
   },
   "outputs": [
    {
     "data": {
      "text/plain": [
       "289.14794110000003"
      ]
     },
     "execution_count": 54,
     "metadata": {},
     "output_type": "execute_result"
    }
   ],
   "source": [
    "data['id' == 'M56']['ra']"
   ]
  },
  {
   "cell_type": "markdown",
   "metadata": {},
   "source": [
    "## FITs\n",
    "\n",
    "PyFITS has been incorporated into astropy.io.fits, but the API remains the same.\n",
    "\n",
    "The three most useful commands for reading in data are:\n",
    "* `pyfits.info(<filename>)`\n",
    "* `pyfits.getheader(<filename>,<extension>)`\n",
    "* `pyfits.getdata(<filename>,<extension>)` "
   ]
  },
  {
   "cell_type": "code",
   "execution_count": 55,
   "metadata": {
    "collapsed": false
   },
   "outputs": [
    {
     "name": "stdout",
     "output_type": "stream",
     "text": [
      "Filename: hst_wfpc2_downsized_example.fits\n",
      "No.    Name         Type      Cards   Dimensions   Format\n",
      "0    PRIMARY     PrimaryHDU     262   (200, 200, 4)   float32   \n",
      "1    u5780205r_cvt.c0h.tab  TableHDU       353   4R x 49C     [D25.17, D25.17, E15.7, E15.7, E15.7, E15.7, E15.7, E15.7, E15.7, E15.7, A1, E15.7, I12, I12, D25.17, D25.17, A8, A8, I12, E15.7, E15.7, E15.7, E15.7, E15.7, E15.7, I12, I12, I12, I12, I12, I12, I12, I12, A48, E15.7, E15.7, E15.7, E15.7, E15.7, E15.7, E15.7, E15.7, E15.7, E15.7, E15.7, E15.7, E15.7, E15.7, E15.7]   \n"
     ]
    }
   ],
   "source": [
    "import astropy.io.fits as pyfits \n",
    "filename = 'hst_wfpc2_downsized_example.fits'\n",
    "pyfits.info(filename)"
   ]
  },
  {
   "cell_type": "code",
   "execution_count": 56,
   "metadata": {
    "collapsed": false
   },
   "outputs": [
    {
     "data": {
      "text/plain": [
       "SIMPLE  =                    T / file does conform to FITS standard             \n",
       "BITPIX  =                  -32 / number of bits per data pixel                  \n",
       "NAXIS   =                    3 / number of data axes                            \n",
       "NAXIS1  =                  200 / length of data axis 1                          \n",
       "NAXIS2  =                  200 / length of data axis 2                          \n",
       "NAXIS3  =                    4 / length of data axis 3                          \n",
       "EXTEND  =                    T / FITS dataset may contain extensions            \n",
       "COMMENT   FITS (Flexible Image Transport System) format is defined in 'Astronomy\n",
       "COMMENT   and Astrophysics', volume 376, page 359; bibcode: 2001A&A...376..359H \n",
       "BSCALE  =                1.0E0 / REAL = TAPE*BSCALE + BZERO                     \n",
       "BZERO   =                0.0E0 /                                                \n",
       "OPSIZE  =                 2112 / PSIZE of original image                        \n",
       "ORIGIN  = 'STScI-STSDAS'       / Fitsio version 21-Feb-1996                     \n",
       "FITSDATE= '2004-01-09'         / Date FITS file was created                     \n",
       "FILENAME= 'u5780205r_cvt.c0h'  / Original filename                              \n",
       "ALLG-MAX=           3.777701E3 / Data max in all groups                         \n",
       "ALLG-MIN=          -7.319537E1 / Data min in all groups                         \n",
       "ODATTYPE= 'FLOATING'           / Original datatype: Single precision real       \n",
       "SDASMGNU=                    4 / Number of groups in original image             \n",
       "CRVAL1  =       182.6311886308                                                  \n",
       "CRVAL2  =       39.39633673411                                                  \n",
       "CRPIX1  =                 420.                                                  \n",
       "CRPIX2  =                424.5                                                  \n",
       "CD1_1   =         -1.067040E-6                                                  \n",
       "CD1_2   =         -1.259580E-5                                                  \n",
       "CD2_1   =         -1.260160E-5                                                  \n",
       "CD2_2   =          1.066550E-6                                                  \n",
       "DATAMIN =          -7.319537E1 / DATA MIN                                       \n",
       "DATAMAX =           3.777701E3 / DATA MAX                                       \n",
       "MIR_REVR=                    T                                                  \n",
       "ORIENTAT=               -85.16                                                  \n",
       "FILLCNT =                    0                                                  \n",
       "ERRCNT  =                    0                                                  \n",
       "FPKTTIME=         51229.798574                                                  \n",
       "LPKTTIME=         51229.798742                                                  \n",
       "CTYPE1  = 'RA---TAN'                                                            \n",
       "CTYPE2  = 'DEC--TAN'                                                            \n",
       "DETECTOR=                    1                                                  \n",
       "DEZERO  =             316.6452                                                  \n",
       "BIASEVEN=             316.6715                                                  \n",
       "BIASODD =             316.6189                                                  \n",
       "GOODMIN =            -5.064006                                                  \n",
       "GOODMAX =              2552.17                                                  \n",
       "DATAMEAN=            0.4182382                                                  \n",
       "GPIXELS =               632387                                                  \n",
       "SOFTERRS=                    0                                                  \n",
       "CALIBDEF=                 1466                                                  \n",
       "STATICD =                    0                                                  \n",
       "ATODSAT =                   16                                                  \n",
       "DATALOST=                    0                                                  \n",
       "BADPIXEL=                    0                                                  \n",
       "OVERLAP =                    0                                                  \n",
       "PHOTMODE= 'WFPC2,1,A2D7,LRF#4877.0,,CAL'                                        \n",
       "PHOTFLAM=         3.447460E-16                                                  \n",
       "PHOTZPT =                -21.1                                                  \n",
       "PHOTPLAM=             4884.258                                                  \n",
       "PHOTBW  =             20.20996                                                  \n",
       "MEDIAN  =            -0.175651                                                  \n",
       "MEDSHADO=            -0.121681                                                  \n",
       "HISTWIDE=             1.033711                                                  \n",
       "SKEWNESS=            -1.983727                                                  \n",
       "MEANC10 =              0.12958                                                  \n",
       "MEANC25 =            0.3129676                                                  \n",
       "MEANC50 =            0.4577668                                                  \n",
       "MEANC100=            0.3916293                                                  \n",
       "MEANC200=            0.3115222                                                  \n",
       "MEANC300=            0.3295493                                                  \n",
       "BACKGRND=           -0.3676353                                                  \n",
       "ORIGIN  = 'NOAO-IRAF FITS Image Kernel December 2001' / FITS file originator    \n",
       "DATE    = '2004-01-09T03:26:36'                                                 \n",
       "IRAF-TLM= '03:26:36 (09/01/2004)'                                               \n",
       "FILETYPE= 'SCI      '          / type of data found in data file                \n",
       "                                                                                \n",
       "TELESCOP= 'HST'                / telescope used to acquire data                 \n",
       "INSTRUME= 'WFPC2 '             / identifier for instrument used to acquire data \n",
       "EQUINOX =               2000.0 / equinox of celestial coord. system             \n",
       "                                                                                \n",
       "              / WFPC-II DATA DESCRIPTOR KEYWORDS                                \n",
       "                                                                                \n",
       "ROOTNAME= 'u5780205r'             / rootname of the observation set             \n",
       "PROCTIME=   5.301314019676E+04 / Pipeline processing time (MJD)                 \n",
       "OPUS_VER= 'OPUS 14.5a        ' / OPUS software system version number            \n",
       "CAL_VER = '                        ' / CALWP2 code version                      \n",
       "                                                                                \n",
       "              / SCIENCE INSTRUMENT CONFIGURATION                                \n",
       "                                                                                \n",
       "MODE    = 'FULL'               / instr. mode: FULL (full res.), AREA (area int.)\n",
       "SERIALS = 'OFF'                / serial clocks: ON, OFF                         \n",
       "                                                                                \n",
       "              / IMAGE TYPE CHARACTERISTICS                                      \n",
       "                                                                                \n",
       "IMAGETYP= 'EXT               ' / DARK/BIAS/IFLAT/UFLAT/VFLAT/KSPOT/EXT/ECAL     \n",
       "CDBSFILE= 'NO                ' / GENERIC/BIAS/DARK/PREF/FLAT/MASK/ATOD/NO       \n",
       "PKTFMT  =                   96 / packet format code                             \n",
       "                                                                                \n",
       "              / FILTER CONFIGURATION                                            \n",
       "                                                                                \n",
       "FILTNAM1= 'FR533P15'           / first filter name                              \n",
       "FILTNAM2= '        '           / second filter name                             \n",
       "FILTER1 =                   69 / first filter number (0-48)                     \n",
       "FILTER2 =                    0 / second filter number (0-48)                    \n",
       "FILTROT =                 15.0 / partial filter rotation angle (degrees)        \n",
       "LRFWAVE =          4877.000000 / linear ramp filter wavelength                  \n",
       "                                                                                \n",
       "              / INSTRUMENT STATUS USED IN DATA PROCESSING                       \n",
       "                                                                                \n",
       "UCH1CJTM=             -88.2569 / TEC cold junction #1 temperature (Celsius)     \n",
       "UCH2CJTM=             -88.6697 / TEC cold junction #2 temperature (Celsius)     \n",
       "UCH3CJTM=             -88.3028 / TEC cold junction #3 temperature (Celsius)     \n",
       "UCH4CJTM=             -88.7671 / TEC cold junction #4 temperature (Celsius)     \n",
       "UBAY3TMP=              13.2302 / bay 3 A1 temperature (deg C)                   \n",
       "KSPOTS  = 'OFF'                / Status of Kelsall spot lamps: ON, OFF          \n",
       "SHUTTER = 'A'                  / Shutter in place at beginning of the exposure  \n",
       "ATODGAIN=                  7.0 / Analog to Digital Gain (Electrons/DN)          \n",
       "                                                                                \n",
       "              / RSDP CONTROL KEYWORDS                                           \n",
       "                                                                                \n",
       "MASKCORR= 'COMPLETE'           / Do mask correction: PERFORM, OMIT, COMPLETE    \n",
       "ATODCORR= 'COMPLETE'           / Do A-to-D correction: PERFORM, OMIT, COMPLETE  \n",
       "BLEVCORR= 'COMPLETE'           / Do bias level correction                       \n",
       "BIASCORR= 'COMPLETE'           / Do bias correction: PERFORM, OMIT, COMPLETE    \n",
       "DARKCORR= 'COMPLETE'           / Do dark correction: PERFORM, OMIT, COMPLETE    \n",
       "FLATCORR= 'SKIPPED '           / Do flat field correction                       \n",
       "SHADCORR= 'OMIT    '           / Do shaded shutter correction                   \n",
       "DOSATMAP= 'OMIT    '           / Output saturated pixel map                     \n",
       "DOPHOTOM= 'COMPLETE'           / Fill photometry keywords                       \n",
       "DOHISTOS= 'OMIT    '           / Make histograms: PERFORM, OMIT, COMPLETE       \n",
       "OUTDTYPE= 'REAL  '             / Output image datatype: REAL, LONG, SHORT       \n",
       "                                                                                \n",
       "              / CALIBRATION REFERENCE FILES                                     \n",
       "                                                                                \n",
       "MASKFILE= 'uref$f8213081u.r0h     ' / name of the input DQF of known bad pixels \n",
       "ATODFILE= 'uref$dbu1405iu.r1h'      / name of the A-to-D conversion file        \n",
       "BLEVFILE= 'ucal$u5780205r.x0h     ' / Engineering file with extended register da\n",
       "BLEVDFIL= 'ucal$u5780205r.q1h     ' / Engineering file DQF                      \n",
       "BIASFILE= 'uref$j9a1612mu.r2h'      / name of the bias frame reference file     \n",
       "BIASDFIL= 'uref$j9a1612mu.b2h'      / name of the bias frame reference DQF      \n",
       "DARKFILE= 'uref$j2g1549cu.r3h'      / name of the dark reference file           \n",
       "DARKDFIL= 'uref$j2g1549cu.b3h'      / name of the dark reference DQF            \n",
       "FLATFILE= 'uref$f4i1559cu.r4h'      / name of the flat field reference file     \n",
       "FLATDFIL= 'uref$f4i1559cu.b4h'      / name of the flat field reference DQF      \n",
       "SHADFILE= 'uref$e371355eu.r5h'      / name of the reference file for shutter sha\n",
       "PHOTTAB = 'u5780205r_c3t.fits'      / name of the photometry calibration table  \n",
       "GRAPHTAB= 'mtab$n9i1408hm_tmg.fits' / the HST graph table                       \n",
       "COMPTAB = 'mtab$nc809508m_tmc.fits' / the HST components table                  \n",
       "                                                                                \n",
       "              / DEFAULT KEYWORDS SET BY STSCI                                   \n",
       "                                                                                \n",
       "SATURATE=                 4095 / Data value at which saturation occurs          \n",
       "USCALE  =                  1.0 / Scale factor for output image                  \n",
       "UZERO   =                  0.0 / Zero point for output image                    \n",
       "                                                                                \n",
       "              / READOUT DURATION INFORMATION                                    \n",
       "                                                                                \n",
       "READTIME=                  464 / Length of time for CCD readout in clock ticks  \n",
       "                                                                                \n",
       "              / PLANETARY SCIENCE KEYWORDS                                      \n",
       "                                                                                \n",
       "PA_V3   =            49.936909 / position angle of V3-axis of HST (deg)         \n",
       "RA_SUN  =   3.337194516616E+02 / right ascension of the sun (deg)               \n",
       "DEC_SUN =  -1.086675160382E+01 / declination of the sun (deg)                   \n",
       "EQNX_SUN=               2000.0 / equinox of the sun                             \n",
       "MTFLAG  =                    F / moving target flag; T if it is a moving target \n",
       "EQRADTRG=             0.000000 / equatorial radius of target (km)               \n",
       "FLATNTRG=             0.000000 / flattening of target                           \n",
       "NPDECTRG=             0.000000 / north pole declination of target (deg)         \n",
       "NPRATRG =             0.000000 / north pole right ascension of target (deg)     \n",
       "ROTRTTRG=             0.000000 / rotation rate of target                        \n",
       "LONGPMER=             0.000000 / longitude of prime meridian (deg)              \n",
       "EPLONGPM=             0.000000 / epoch of longitude of prime meridian (sec)     \n",
       "SURFLATD=             0.000000 / surface feature latitude (deg)                 \n",
       "SURFLONG=             0.000000 / surface feature longitude (deg)                \n",
       "SURFALTD=             0.000000 / surface feature altitude (km)                  \n",
       "                                                                                \n",
       "              / PODPS FILL VALUES                                               \n",
       "                                                                                \n",
       "PODPSFF =                    0 / 0=(no  podps fill); 1=(podps fill present)     \n",
       "STDCFFF =                    0 / 0=(no st dcf fill); 1=(st dcf fill present)    \n",
       "STDCFFP = '0x5569'             / st dcf fill pattern (hex)                      \n",
       "RSDPFILL=                 -100 / bad data fill value for calibrated images      \n",
       "                                                                                \n",
       "              / EXPOSURE TIME AND RELATED INFORMATION                           \n",
       "                                                                                \n",
       "UEXPODUR=                  300 / commanded duration of exposure (sec)           \n",
       "NSHUTA17=                    1 / Number of AP17 shutter B closes                \n",
       "DARKTIME=   3.000000000000E+02 / Dark time (seconds)                            \n",
       "UEXPOTIM=                16880 / Major frame pulse time preceding exposure start\n",
       "PSTRTIME= '1999.051:19:08:37 ' / predicted obs. start time (yyyy.ddd:hh:mm:ss)  \n",
       "PSTPTIME= '1999.051:19:16:37 ' / predicted obs. stop time (yyyy.ddd:hh:mm:ss)   \n",
       "                                                                                \n",
       "              / EXPOSURE INFORMATION                                            \n",
       "                                                                                \n",
       "SUNANGLE=           141.618347 / angle between sun and V1 axis                  \n",
       "MOONANGL=           126.698997 / angle between moon and V1 axis                 \n",
       "SUN_ALT =           -31.523479 / altitude of the sun above Earth's limb         \n",
       "FGSLOCK = 'FINE              ' / commanded FGS lock (FINE,COARSE,GYROS,UNKNOWN) \n",
       "                                                                                \n",
       "DATE-OBS= '1999-02-20'         / UT date of start of observation (yyyy-mm-dd)   \n",
       "TIME-OBS= '19:03:13'           / UT time of start of observation (hh:mm:ss)     \n",
       "EXPSTART=   5.122979390428E+04 / exposure start time (Modified Julian Date)     \n",
       "EXPEND  =   5.122979737650E+04 / exposure end time (Modified Julian Date)       \n",
       "EXPTIME =   3.000000000000E+02 / exposure duration (seconds)--calculated        \n",
       "EXPFLAG = 'NORMAL       '      / Exposure interruption indicator                \n",
       "                                                                                \n",
       "              / TARGET & PROPOSAL ID                                            \n",
       "TARGNAME= 'NGC4151                       ' / proposer's target name             \n",
       "RA_TARG =   1.826355000000E+02 / right ascension of the target (deg) (J2000)    \n",
       "DEC_TARG=   3.940576666667E+01 / declination of the target (deg) (J2000)        \n",
       "ECL_LONG=           164.096619 / ecliptic longitude of the target (deg) (J2000) \n",
       "ECL_LAT =            36.623709 / ecliptic latitude of the target (deg) (J2000)  \n",
       "GAL_LONG=           155.079532 / galactic longitude of the target (deg) (J2000) \n",
       "GAL_LAT =            75.062679 / galactic latitude of the target (deg) (J2000)  \n",
       "                                                                                \n",
       "PROPOSID=                 8019 / PEP proposal identifier                        \n",
       "PEP_EXPO= '02-030         '    / PEP exposure identifier including sequence     \n",
       "LINENUM = '02.030         '    / PEP proposal line number                       \n",
       "SEQLINE = '               '    / PEP line number of defined sequence            \n",
       "SEQNAME = '               '    / PEP define/use sequence name                   \n",
       "HISTORY   MASKFILE=uref$f8213081u.r0h  MASKCORR=COMPLETED                       \n",
       "HISTORY   PEDIGREE=INFLIGHT 01/01/1994 - 15/05/1995                             \n",
       "HISTORY   DESCRIP=STATIC MASK - INCLUDES CHARGE TRANSFER TRAPS                  \n",
       "HISTORY   BIASFILE=uref$j9a1612mu.r2h  BIASCORR=COMPLETED                       \n",
       "HISTORY   PEDIGREE=INFLIGHT 29/08/98 - 21/08/99                                 \n",
       "HISTORY   DESCRIP=not significantly different from j6e16008u.                   \n",
       "HISTORY   DARKFILE=uref$j2g1549cu.r3h  DARKCORR=COMPLETED                       \n",
       "HISTORY   PEDIGREE=INFLIGHT 16/02/1999 - 16/02/1999                             \n",
       "HISTORY   DESCRIP=Pipeline dark: 120 frame superdark with hotpixels from        \n",
       "HISTORY   16/02/99                                                              \n",
       "HISTORY   FLATFILE=uref$f4i1559cu.r4h  FLATCORR=SKIPPED                         \n",
       "HISTORY   PEDIGREE=DUMMY  18/04/1995                                            \n",
       "HISTORY   DESCRIP=All pixels set to value of 1. Not flat-fielded.               \n",
       "HISTORY   PC1: bias jump level ~0.100 DN.                                       \n",
       "HISTORY   The following throughput tables were used:                            \n",
       "HISTORY   crotacomp$hst_ota_007_syn.fits, crwfpc2comp$wfpc2_optics_006_syn.fits,\n",
       "HISTORY   crwfpc2comp$wfpc2_lrf_004_syn.fits[wave#],                            \n",
       "HISTORY   crwfpc2comp$wfpc2_dqepc1_005_syn.fits,                                \n",
       "HISTORY   crwfpc2comp$wfpc2_a2d7pc1_004_syn.fits,                               \n",
       "HISTORY   crwfpc2comp$wfpc2_flatpc1_003_syn.fits                                \n",
       "HISTORY   The following throughput tables were used:                            \n",
       "HISTORY   crotacomp$hst_ota_007_syn.fits, crwfpc2comp$wfpc2_optics_006_syn.fits,\n",
       "HISTORY   crwfpc2comp$wfpc2_lrf_004_syn.fits[wave#],                            \n",
       "HISTORY   crwfpc2comp$wfpc2_dqewfc2_005_syn.fits,                               \n",
       "HISTORY   crwfpc2comp$wfpc2_a2d7wf2_004_syn.fits,                               \n",
       "HISTORY   crwfpc2comp$wfpc2_flatwf2_003_syn.fits                                \n",
       "HISTORY   The following throughput tables were used:                            \n",
       "HISTORY   crotacomp$hst_ota_007_syn.fits, crwfpc2comp$wfpc2_optics_006_syn.fits,\n",
       "HISTORY   crwfpc2comp$wfpc2_lrf_004_syn.fits[wave#],                            \n",
       "HISTORY   crwfpc2comp$wfpc2_dqewfc3_005_syn.fits,                               \n",
       "HISTORY   crwfpc2comp$wfpc2_a2d7wf3_004_syn.fits,                               \n",
       "HISTORY   crwfpc2comp$wfpc2_flatwf3_003_syn.fits                                \n",
       "HISTORY   The following throughput tables were used:                            \n",
       "HISTORY   crotacomp$hst_ota_007_syn.fits, crwfpc2comp$wfpc2_optics_006_syn.fits,\n",
       "HISTORY   crwfpc2comp$wfpc2_lrf_004_syn.fits[wave#],                            \n",
       "HISTORY   crwfpc2comp$wfpc2_dqewfc4_005_syn.fits,                               \n",
       "HISTORY   crwfpc2comp$wfpc2_a2d7wf4_004_syn.fits,                               \n",
       "HISTORY   crwfpc2comp$wfpc2_flatwf4_003_syn.fits                                \n",
       "CTYPE3  = 'GROUP_NUMBER'       / Extra dimension axis name                      \n",
       "CD3_3   =                    1 /                                                \n",
       "CD3_1   =                    0 /                                                \n",
       "CD1_3   =                    0 /                                                \n",
       "CD2_3   =                    0 /                                                \n",
       "CD3_2   =                    0 /                                                "
      ]
     },
     "execution_count": 56,
     "metadata": {},
     "output_type": "execute_result"
    }
   ],
   "source": [
    "hdr = pyfits.getheader(filename,0)\n",
    "hdr"
   ]
  },
  {
   "cell_type": "code",
   "execution_count": 94,
   "metadata": {
    "collapsed": false
   },
   "outputs": [
    {
     "data": {
      "text/plain": [
       "'STScI-STSDAS'"
      ]
     },
     "execution_count": 94,
     "metadata": {},
     "output_type": "execute_result"
    }
   ],
   "source": [
    "hdr['ORIGIN']"
   ]
  },
  {
   "cell_type": "code",
   "execution_count": 57,
   "metadata": {
    "collapsed": false
   },
   "outputs": [
    {
     "data": {
      "text/plain": [
       "<matplotlib.image.AxesImage at 0x10cfc9c10>"
      ]
     },
     "execution_count": 57,
     "metadata": {},
     "output_type": "execute_result"
    },
    {
     "data": {
      "image/png": "[encoded data removed]",
      "text/plain": [
       "<matplotlib.figure.Figure at 0x10cf0e350>"
      ]
     },
     "metadata": {},
     "output_type": "display_data"
    }
   ],
   "source": [
    "data = pyfits.getdata(filename,0)\n",
    "\n",
    "from matplotlib.pyplot import *\n",
    "imshow(data[0])"
   ]
  },
  {
   "cell_type": "markdown",
   "metadata": {},
   "source": [
    "## Temporary files (pickling)"
   ]
  },
  {
   "cell_type": "code",
   "execution_count": 58,
   "metadata": {
    "collapsed": false
   },
   "outputs": [
    {
     "data": {
      "text/plain": [
       "[0, 1, 2, 3, 4, 5, 6, 7, 8, 9]"
      ]
     },
     "execution_count": 58,
     "metadata": {},
     "output_type": "execute_result"
    }
   ],
   "source": [
    "# import cPickle as pickle  # Just pickle in Python3. Example below works in both\n",
    "import pickle\n",
    "\n",
    "data = range(10)\n",
    "pickle.dump(data, open('test.pkl', 'wb'))\n",
    "\n",
    "pickle.load(open('test.pkl', 'rb'))"
   ]
  },
  {
   "cell_type": "markdown",
   "metadata": {},
   "source": [
    "## IDL savefiles"
   ]
  },
  {
   "cell_type": "raw",
   "metadata": {},
   "source": [
    "IDL> data = ['do','you','really','want','to','do','this','?']\n",
    "IDL> save, data, filename='idl.sav'"
   ]
  },
  {
   "cell_type": "code",
   "execution_count": 60,
   "metadata": {
    "collapsed": false
   },
   "outputs": [
    {
     "data": {
      "text/plain": [
       "{'data': array(['do', 'you', 'really', 'want', 'to', 'do', 'this', '?'], dtype=object)}"
      ]
     },
     "execution_count": 60,
     "metadata": {},
     "output_type": "execute_result"
    }
   ],
   "source": [
    "import scipy.io\n",
    "scipy.io.idl.readsav('idl.sav') "
   ]
  },
  {
   "cell_type": "markdown",
   "metadata": {},
   "source": [
    "# <hr noshade size=3> <a id='Plotting'></a> <center>Plotting</center>"
   ]
  },
  {
   "cell_type": "markdown",
   "metadata": {},
   "source": [
    "## Initialization "
   ]
  },
  {
   "cell_type": "code",
   "execution_count": 102,
   "metadata": {
    "collapsed": false
   },
   "outputs": [],
   "source": [
    "%matplotlib inline\n",
    "from matplotlib.pyplot import *\n",
    "import numpy"
   ]
  },
  {
   "cell_type": "markdown",
   "metadata": {},
   "source": [
    "## Simple Lines/Saving"
   ]
  },
  {
   "cell_type": "code",
   "execution_count": 103,
   "metadata": {
    "collapsed": false
   },
   "outputs": [
    {
     "data": {
      "image/png": "[encoded data removed]",
      "text/plain": [
       "<matplotlib.figure.Figure at 0x10756c890>"
      ]
     },
     "metadata": {},
     "output_type": "display_data"
    }
   ],
   "source": [
    "plot([1,2,3,4,3,2,1])\n",
    "#show()\n",
    "savefig('images/line_plot.png')"
   ]
  },
  {
   "cell_type": "markdown",
   "metadata": {},
   "source": [
    "<img src=\"images/line_plot.png\">"
   ]
  },
  {
   "cell_type": "markdown",
   "metadata": {},
   "source": [
    "## Multiple Lines\n",
    "\n",
    "<img src=\"images/matplotlib_table.png\" width=\"600\">"
   ]
  },
  {
   "cell_type": "code",
   "execution_count": 104,
   "metadata": {
    "collapsed": false
   },
   "outputs": [
    {
     "data": {
      "text/plain": [
       "[<matplotlib.lines.Line2D at 0x107fc91d0>,\n",
       " <matplotlib.lines.Line2D at 0x107fc9590>,\n",
       " <matplotlib.lines.Line2D at 0x107fc9e10>]"
      ]
     },
     "execution_count": 104,
     "metadata": {},
     "output_type": "execute_result"
    },
    {
     "data": {
      "image/png": "[encoded data removed]",
      "text/plain": [
       "<matplotlib.figure.Figure at 0x107f5cc90>"
      ]
     },
     "metadata": {},
     "output_type": "display_data"
    }
   ],
   "source": [
    "# evenly sampled time at 200ms intervals\n",
    "t = numpy.arange(0., 5., 0.2)\n",
    "\n",
    "# red dashes, blue squares and green triangles\n",
    "plot(t, t, 'r--', t, t**2, 'bs', t, t**3, 'g<')\n"
   ]
  },
  {
   "cell_type": "markdown",
   "metadata": {},
   "source": [
    "## Subplots"
   ]
  },
  {
   "cell_type": "code",
   "execution_count": 105,
   "metadata": {
    "collapsed": false
   },
   "outputs": [
    {
     "data": {
      "text/plain": [
       "[<matplotlib.lines.Line2D at 0x10822ec10>]"
      ]
     },
     "execution_count": 105,
     "metadata": {},
     "output_type": "execute_result"
    },
    {
     "data": {
      "image/png": "[encoded data removed]",
      "text/plain": [
       "<matplotlib.figure.Figure at 0x106c6b7d0>"
      ]
     },
     "metadata": {},
     "output_type": "display_data"
    }
   ],
   "source": [
    "def f(t):\n",
    "    return numpy.exp(-t) * numpy.cos(2*numpy.pi*t)\n",
    "\n",
    "t1 = numpy.arange(0.0, 5.0, 0.1)\n",
    "t2 = numpy.arange(0.0, 5.0, 0.02)\n",
    "\n",
    "figure(1)\n",
    "subplot(211)\n",
    "plot(t1, f(t1), 'bo', t2, f(t2), 'k')\n",
    "\n",
    "subplot(212)\n",
    "plot(t2, numpy.cos(2*np.pi*t2), 'r--')"
   ]
  },
  {
   "cell_type": "markdown",
   "metadata": {},
   "source": [
    "## Histogram/Labels"
   ]
  },
  {
   "cell_type": "code",
   "execution_count": 106,
   "metadata": {
    "collapsed": false
   },
   "outputs": [
    {
     "data": {
      "text/plain": [
       "<matplotlib.text.Text at 0x1082b7b50>"
      ]
     },
     "execution_count": 106,
     "metadata": {},
     "output_type": "execute_result"
    },
    {
     "data": {
      "image/png": "[encoded data removed]",
      "text/plain": [
       "<matplotlib.figure.Figure at 0x1070e2990>"
      ]
     },
     "metadata": {},
     "output_type": "display_data"
    }
   ],
   "source": [
    "hist([0, 1, 2, 2, 3, 3, 3, 4, 4, 4, 10])\n",
    "xlabel('Value')\n",
    "ylabel('Count')\n",
    "title('This is a Histogram')"
   ]
  },
  {
   "cell_type": "markdown",
   "metadata": {},
   "source": [
    "## Gallery"
   ]
  },
  {
   "cell_type": "code",
   "execution_count": 161,
   "metadata": {
    "collapsed": false
   },
   "outputs": [
    {
     "data": {
      "text/html": [
       "<iframe src=http://matplotlib.org/gallery.html width=600 height=350></iframe>"
      ],
      "text/plain": [
       "<IPython.core.display.HTML at 0x10ec3e550>"
      ]
     },
     "execution_count": 161,
     "metadata": {},
     "output_type": "execute_result"
    }
   ],
   "source": [
    "from IPython.display import HTML\n",
    "HTML('<iframe src=http://matplotlib.org/gallery.html width=600 height=350></iframe>')"
   ]
  },
  {
   "cell_type": "markdown",
   "metadata": {},
   "source": [
    "# <hr noshade size=3> <a id='Tips, Tricks & Gotchas'></a> <center>Tips, Tricks & Gotchas</center>"
   ]
  },
  {
   "cell_type": "markdown",
   "metadata": {},
   "source": [
    "## Embedding (== IDL STOP)"
   ]
  },
  {
   "cell_type": "code",
   "execution_count": null,
   "metadata": {
    "collapsed": false
   },
   "outputs": [],
   "source": [
    "!cat ipython_stop.py"
   ]
  },
  {
   "cell_type": "raw",
   "metadata": {},
   "source": [
    "$ python ipython_stop.py\n",
    "Entering script\n",
    "\n",
    "In [1]: %whos\n",
    "Variable   Type        Data/Info\n",
    "--------------------------------\n",
    "a          int         1\n",
    "b          int         1\n",
    "embed      function    <function embed at 0x102140cf8>\n",
    "\n",
    "In [2]: exit\n",
    "\n",
    "\n",
    "In [3]: %whos\n",
    "Variable   Type        Data/Info\n",
    "--------------------------------\n",
    "a          int         1\n",
    "b          int         2\n",
    "embed      function    <function embed at 0x102140cf8>\n",
    "\n",
    "In [4]: a='one'\n",
    "In [5]: exit\n",
    "\n",
    "\n",
    "In [6]: %whos\n",
    "Variable   Type        Data/Info\n",
    "--------------------------------\n",
    "a          str         one\n",
    "b          int         3\n",
    "embed      function    <function embed at 0x102140cf8>\n",
    "\n",
    "In [7]: exit\n",
    "\n",
    "Exiting - goodbye!\n"
   ]
  },
  {
   "cell_type": "markdown",
   "metadata": {},
   "source": [
    "## Copying Variables"
   ]
  },
  {
   "cell_type": "code",
   "execution_count": 61,
   "metadata": {
    "collapsed": false
   },
   "outputs": [
    {
     "name": "stdout",
     "output_type": "stream",
     "text": [
      "a = 1 : 4298163880\n",
      "b = 1 : 4298163880\n"
     ]
    }
   ],
   "source": [
    "a = 1\n",
    "b = a\n",
    "\n",
    "print( 'a = %s : %s\\nb = %s : %s' %(a, id(a), b, id(b)) )"
   ]
  },
  {
   "cell_type": "markdown",
   "metadata": {},
   "source": [
    "<img src=\"images/copy.png\" width=\"400\">"
   ]
  },
  {
   "cell_type": "code",
   "execution_count": 62,
   "metadata": {
    "collapsed": false
   },
   "outputs": [
    {
     "name": "stdout",
     "output_type": "stream",
     "text": [
      "a = 1 : 4298163880\n",
      "b = 2 : 4298163856\n"
     ]
    }
   ],
   "source": [
    "b = 2    # Reassign\n",
    "\n",
    "print( 'a = %s : %s\\nb = %s : %s' %(a, id(a), b, id(b)) )"
   ]
  },
  {
   "cell_type": "code",
   "execution_count": 63,
   "metadata": {
    "collapsed": false
   },
   "outputs": [
    {
     "name": "stdout",
     "output_type": "stream",
     "text": [
      "a = [1, 2] : 4512399016\n",
      "b = [1, 2] : 4512399016\n"
     ]
    }
   ],
   "source": [
    "a = [1,2]\n",
    "b = a\n",
    "\n",
    "print( 'a = %s : %s\\nb = %s : %s' %(a, id(a), b, id(b)) )"
   ]
  },
  {
   "cell_type": "code",
   "execution_count": 64,
   "metadata": {
    "collapsed": false
   },
   "outputs": [
    {
     "name": "stdout",
     "output_type": "stream",
     "text": [
      "a = [3, 2] : 4512399016\n",
      "b = [3, 2] : 4512399016\n"
     ]
    }
   ],
   "source": [
    "b[0] = 3    # Update\n",
    "\n",
    "print( 'a = %s : %s\\nb = %s : %s' %(a, id(a), b, id(b)) )"
   ]
  },
  {
   "cell_type": "code",
   "execution_count": 65,
   "metadata": {
    "collapsed": false
   },
   "outputs": [
    {
     "name": "stdout",
     "output_type": "stream",
     "text": [
      "a = [3, 2] : 4512399016\n",
      "b = [3, 2] : 4557784920\n"
     ]
    }
   ],
   "source": [
    "import copy\n",
    "b = copy.copy(a)\n",
    "\n",
    "print( 'a = %s : %s\\nb = %s : %s' %(a, id(a), b, id(b)) )"
   ]
  },
  {
   "cell_type": "code",
   "execution_count": 66,
   "metadata": {
    "collapsed": false
   },
   "outputs": [
    {
     "name": "stdout",
     "output_type": "stream",
     "text": [
      "a = [3, 2] : 4512399016\n",
      "b = [4, 2] : 4557784920\n"
     ]
    }
   ],
   "source": [
    "b[0] = 4\n",
    "\n",
    "print( 'a = %s : %s\\nb = %s : %s' %(a, id(a), b, id(b)) )"
   ]
  },
  {
   "cell_type": "markdown",
   "metadata": {},
   "source": [
    "## List != (Numpy) Array\n",
    "\n",
    "* Lists can contain anything\n",
    "* Arrays contain a single type\n",
    "* Arrays are continuous in memory\n",
    "* Operations are far more efficient"
   ]
  },
  {
   "cell_type": "code",
   "execution_count": 67,
   "metadata": {
    "collapsed": false
   },
   "outputs": [
    {
     "data": {
      "text/plain": [
       "[1, 2, 3, 4, 5, 6]"
      ]
     },
     "execution_count": 67,
     "metadata": {},
     "output_type": "execute_result"
    }
   ],
   "source": [
    "a = [1,2,3]\n",
    "b = [4,5,6]\n",
    "\n",
    "a + b    # Appends"
   ]
  },
  {
   "cell_type": "code",
   "execution_count": 68,
   "metadata": {
    "collapsed": false
   },
   "outputs": [
    {
     "data": {
      "text/plain": [
       "array([17, 19, 21])"
      ]
     },
     "execution_count": 68,
     "metadata": {},
     "output_type": "execute_result"
    }
   ],
   "source": [
    "import numpy as np\n",
    "\n",
    "c = np.array([7,8,9])\n",
    "d = np.array([10,11,12])\n",
    "\n",
    "c + d    # Elementwise"
   ]
  },
  {
   "cell_type": "code",
   "execution_count": 69,
   "metadata": {
    "collapsed": false
   },
   "outputs": [
    {
     "data": {
      "text/plain": [
       "array([ 8, 10, 12])"
      ]
     },
     "execution_count": 69,
     "metadata": {},
     "output_type": "execute_result"
    }
   ],
   "source": [
    "a + c    # Elementwise !!!"
   ]
  },
  {
   "cell_type": "code",
   "execution_count": 70,
   "metadata": {
    "collapsed": false
   },
   "outputs": [
    {
     "ename": "TypeError",
     "evalue": "can only concatenate list (not \"numpy.ndarray\") to list",
     "output_type": "error",
     "traceback": [
      "\u001b[0;31m---------------------------------------------------------------------------\u001b[0m\n\u001b[0;31mTypeError\u001b[0m                                 Traceback (most recent call last)",
      "\u001b[0;32m<ipython-input-70-593313b7eb3c>\u001b[0m in \u001b[0;36m<module>\u001b[0;34m()\u001b[0m\n\u001b[0;32m----> 1\u001b[0;31m \u001b[0;34m[\u001b[0m\u001b[0;36m1\u001b[0m\u001b[0;34m,\u001b[0m\u001b[0;36m2\u001b[0m\u001b[0;34m,\u001b[0m\u001b[0;34m'three'\u001b[0m\u001b[0;34m]\u001b[0m \u001b[0;34m+\u001b[0m \u001b[0mc\u001b[0m    \u001b[0;31m# Cannot convert\u001b[0m\u001b[0;34m\u001b[0m\u001b[0m\n\u001b[0m",
      "\u001b[0;31mTypeError\u001b[0m: can only concatenate list (not \"numpy.ndarray\") to list"
     ]
    }
   ],
   "source": [
    "[1,2,'three'] + c    # Cannot convert"
   ]
  },
  {
   "cell_type": "markdown",
   "metadata": {},
   "source": [
    "# <hr noshade size=3> <a id='To Conclude'></a> <center>To Conclude</center>"
   ]
  },
  {
   "cell_type": "markdown",
   "metadata": {},
   "source": [
    "* I hope that this has been a useful glimpse into Python\n",
    "* Both the language itself ...\n",
    "* ... and the scientific/technical ecosystem around it\n",
    "* There is (of course) much, much more:\n",
    "    - handling errors\n",
    "    - OOP & classes\n",
    "    - generators\n",
    "    - ...\n",
    "* Plus it is still very much improving!\n",
    "\n",
    "** Part II<br>\n",
    "Accessing, Manipulating and Visualizing Astronomical Data<br>\n",
    "March 19, 2015, 1:00-2:30 pm<br>\n",
    "KS-410<br>\n",
    "David Shupe **\n",
    "\n",
    "\n",
    "Astropy and affiliated packages for handling astronomical data:\n",
    "- Aims of the Astropy project\n",
    "- Astropy capabilities\n",
    "   - FITS file handling\n",
    "   - Table handling\n",
    "   - Celestial Coordinates\n",
    "   - Units and Quantities\n",
    "   - Catalog queries\n",
    "- Astropy-affiliated packages for visualization\n",
    "   - Example: APLPy for publication-quality display of images\n",
    "   - Example: Glue for data exploration\n",
    "- How-to examples (e.g. spatially match catalogs, plot results,\n",
    "   a simple image stacker)\n",
    "   \n",
    "https://caltech.box.com/intro-to-python   "
   ]
  }
 ],
 "metadata": {
  "kernelspec": {
   "display_name": "Python 3",
   "language": "python",
   "name": "python3"
  },
  "language_info": {
   "codemirror_mode": {
    "name": "ipython",
    "version": 3
   },
   "file_extension": ".py",
   "mimetype": "text/x-python",
   "name": "python",
   "nbconvert_exporter": "python",
   "pygments_lexer": "ipython3",
   "version": "3.5.1"
  }
 },
 "nbformat": 4,
 "nbformat_minor": 0
}
