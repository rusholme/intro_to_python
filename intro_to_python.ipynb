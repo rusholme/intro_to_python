{
 "cells": [
  {
   "cell_type": "code",
   "execution_count": 1,
   "metadata": {
    "collapsed": false,
    "slideshow": {
     "slide_type": "skip"
    }
   },
   "outputs": [],
   "source": [
    "%matplotlib notebook\n",
    "from matplotlib.pyplot import *\n",
    "import numpy\n",
    "import astropy.io.fits as pyfits "
   ]
  },
  {
   "cell_type": "markdown",
   "metadata": {
    "slideshow": {
     "slide_type": "slide"
    }
   },
   "source": [
    "<center><font size=40>An Introduction to:</font size=60>"
   ]
  },
  {
   "cell_type": "markdown",
   "metadata": {},
   "source": [
    "<img src=\"images/python_logo.png\">"
   ]
  },
  {
   "cell_type": "markdown",
   "metadata": {},
   "source": [
    "<center><font size=6>[Ben Rusholme](mailto:rusholme@caltech.edu)<br><br>\n",
    "IPAC<br><br>\n",
    "2016-04-07<br><br>\n",
    "https://github.com/rusholme/intro_to_python"
   ]
  },
  {
   "cell_type": "markdown",
   "metadata": {
    "slideshow": {
     "slide_type": "slide"
    }
   },
   "source": [
    "## Table of Contents\n",
    "\n",
    "[Introduction](#Introduction)<br>\n",
    "[Installation](#Installation)<br>\n",
    "[Running Python](#Running Python)<br>\n",
    "[Basic Syntax](#Basic Syntax)<br>\n",
    "[Namespaces](#Namespaces)<br>\n",
    "[Compound Statements](#Compound Statements)<br>\n",
    "[File I/O](#File I/O)<br>\n",
    "[Plotting](#Plotting)<br>\n",
    "[Tips, Tricks & Gotchas](#Tips, Tricks & Gotchas)<br>\n",
    "[To Conclude](#To Conclude)<br>"
   ]
  },
  {
   "cell_type": "markdown",
   "metadata": {
    "slideshow": {
     "slide_type": "slide"
    }
   },
   "source": [
    "# <a id='Introduction'></a> <center>Introduction</center>"
   ]
  },
  {
   "cell_type": "markdown",
   "metadata": {},
   "source": [
    "## Purpose\n",
    "\n",
    "* 120 min introduction to Python, O(50) people\n",
    "* You will ***not*** learn Python in this session\n",
    "* To learn work through tutorials such as:\n",
    "    - [Software Carpentry](http://swcarpentry.github.io/python-novice-inflammation)\n",
    "    - [Codecademy](https://www.codecademy.com/learn/python)\n",
    "    - [Google University](https://developers.google.com/edu/python/?hl=en)\n",
    "    - [Think Python](http://www.greenteapress.com/thinkpython/thinkpython.html )\n",
    "    - [Python for Scientific Computing](http://indranilsinharoy.com/2013/01/06/python-for-scientific-computing-a-collection-of-resources/)\n",
    "* Hopefully this session will smooth your journey\n",
    "* I will cover a lot of material at high speed\n",
    "* I am assuming you currently use IDL"
   ]
  },
  {
   "cell_type": "markdown",
   "metadata": {
    "slideshow": {
     "slide_type": "slide"
    }
   },
   "source": [
    "## Questions to Answer?\n",
    "\n",
    "* What software is available?\n",
    "* How do I get everything I need everywhere I work?\n",
    "* What are the basics?\n",
    "* How do I read in my data?\n",
    "* How do I make plots?\n",
    "* What are the differences from IDL?\n",
    "* What are the potential problems?"
   ]
  },
  {
   "cell_type": "markdown",
   "metadata": {
    "slideshow": {
     "slide_type": "slide"
    }
   },
   "source": [
    "## About this Presentation\n",
    "\n",
    "* This presentation is written in the Jupyter (formerly IPython) notebook\n",
    "* Live slides are using the RISE extension https://github.com/damianavila/RISE"
   ]
  },
  {
   "cell_type": "code",
   "execution_count": null,
   "metadata": {
    "collapsed": false
   },
   "outputs": [],
   "source": [
    "print('Hello World!')"
   ]
  },
  {
   "cell_type": "markdown",
   "metadata": {},
   "source": [
    "* This is the first time I have used Jupyter slides ...\n",
    "* This notebook is available https://github.com/rusholme/intro_to_python\n",
    "* NB: This is not how I regularly work in Python!"
   ]
  },
  {
   "cell_type": "markdown",
   "metadata": {
    "slideshow": {
     "slide_type": "slide"
    }
   },
   "source": [
    "## Why Python?\n",
    "\n",
    "* It’s ***free***! (install everywhere, run processing in parallel)\n",
    "* Everyone else is using it (libraries, local help…)\n",
    "* Multiple interpreters for integration with other languages\n",
    "* Highly extensible, object orientated\n",
    "* Designed for clean, concise, readable syntax"
   ]
  },
  {
   "cell_type": "markdown",
   "metadata": {},
   "source": [
    "## Disadvantages\n",
    "\n",
    "* Managing modules\n",
    "* Modules can make (unexpectedly) significant changes\n",
    "* Performance (vs compiled languages)\n",
    "* Reference CPython interpreter is single threaded (GIL)"
   ]
  },
  {
   "cell_type": "markdown",
   "metadata": {
    "slideshow": {
     "slide_type": "slide"
    }
   },
   "source": [
    "## How I Use Python\n",
    "\n",
    "* I am a physicist with no formal computer science training\n",
    "* Past projects have used FORTRAN, C, IDL, Bash...\n",
    "* Picked up Python as went along working on Planck\n",
    "* Use as a \"swiss-army knife\" for scripting, data processing, numerical analysis & visulization\n",
    "* ***Really*** got into Python for parallel batch data processing"
   ]
  },
  {
   "cell_type": "markdown",
   "metadata": {
    "slideshow": {
     "slide_type": "slide"
    }
   },
   "source": [
    "# <a id='Installation'></a> <center>Installation</center>"
   ]
  },
  {
   "cell_type": "markdown",
   "metadata": {
    "slideshow": {
     "slide_type": "slide"
    }
   },
   "source": [
    "## TL;DR\n",
    "\n",
    "[Install Continuum Anaconda](http://continuum.io/downloads)"
   ]
  },
  {
   "cell_type": "markdown",
   "metadata": {
    "slideshow": {
     "slide_type": "slide"
    }
   },
   "source": [
    "## The Python Ecosystem\n",
    "\n",
    "\n",
    "<img src=\"images/python_stack.png\" width='80%' align=\"middle\">"
   ]
  },
  {
   "cell_type": "markdown",
   "metadata": {
    "slideshow": {
     "slide_type": "slide"
    }
   },
   "source": [
    "## Distributions\n",
    "\n",
    "* [Anaconda](https://store.continuum.io/cshop/anaconda) - Continuum Analytics (conda, mini-conda...)\n",
    "* [Canopy](https://store.enthought.com) - Enthought\n",
    "* [Ureka](http://ssb.stsci.edu/ureka) - STSci & Gemini\n",
    "\n",
    "Can also install via OS tools:\n",
    "* OSX - Macports, Homebrew\n",
    "* Linux - Yum, apt-get … "
   ]
  },
  {
   "cell_type": "markdown",
   "metadata": {
    "slideshow": {
     "slide_type": "slide"
    }
   },
   "source": [
    "## Interpreter: v2 vs v3?\n",
    "\n",
    "Python v3 ( released December, 2008) is not backward compatible with v2. Many changes, including:\n",
    "* `print` statement became function `print()`\n",
    "* All `ints` are automatically `long`\n",
    "* float division (`3/2=1` became `3/2=1.5`, use `3//2=1` for integer/floor)\n",
    "\n",
    "Python v2 no longer getting new features, only bug/security updates until 2020. \n",
    "\n",
    "It has taken (lots of) time for the external packages to catch up. IMHO we are finally at the tipping point for v2 -> v3 migration for new projects. However existing v2 code is still fine!\n",
    "\n",
    "<font color='red'>***I will show you how to install both v2 & v3 together with conda***</font>\n",
    "\n"
   ]
  },
  {
   "cell_type": "markdown",
   "metadata": {
    "slideshow": {
     "slide_type": "slide"
    }
   },
   "source": [
    "## Interpreter: Language Implementations\n",
    "\n",
    "The reference interpreter is CPython, coded in C. There are other implementations:\n",
    "\n",
    "* Stackless - concurrency using tasklets and channels\n",
    "* PyPy - Python in Python\n",
    "* Jython - Python in Java\n",
    "* IronPython - Python in C# (.NET)\n",
    "\n",
    "You should know that these exist, but shouldn’t need them\n",
    " \n",
    "NB: CPython != Cython "
   ]
  },
  {
   "cell_type": "markdown",
   "metadata": {
    "slideshow": {
     "slide_type": "slide"
    }
   },
   "source": [
    "## Standard Library\n",
    "\n",
    "Contains O(100) modules. For full list see:\n",
    "https://docs.python.org/2/library/\n",
    "\n",
    "\n",
    "Most useful:\n",
    "\n",
    "|Category   |Name|\n",
    "|-----------|--|\n",
    "|Datatypes  | collections, copy, datetime, queue|\n",
    "|Numeric    | math, random|\n",
    "|Files      | csv, (c)pickle| \n",
    "|OS         | glob, os, subprocess, time|\n",
    "|Language   | ` __future__`, 2to3, itertools, multiprocessing, pdb, (c)profile| "
   ]
  },
  {
   "cell_type": "markdown",
   "metadata": {
    "slideshow": {
     "slide_type": "slide"
    }
   },
   "source": [
    "## PyPI - The Python Package Index\n",
    "<!---\n",
    "<img src=\"images/pypi.png\">\n",
    "--->"
   ]
  },
  {
   "cell_type": "markdown",
   "metadata": {
    "collapsed": false,
    "slideshow": {
     "slide_type": "-"
    }
   },
   "source": [
    "<img src=\"images/pypi.png\">"
   ]
  },
  {
   "cell_type": "markdown",
   "metadata": {
    "slideshow": {
     "slide_type": "slide"
    }
   },
   "source": [
    "## External: The Big 4\n",
    "\n",
    "NB: All part of SciPy project\n",
    "\n",
    "| Name   | Logo    | Description |\n",
    "|------|---|-------------|\n",
    "| IPython | <img src=\"images/ipython_logo.png\"> | Enhanced interactive console |\n",
    "| Matplotlib | <img src=\"images/matplotlib_logo.png\"> | Comprehensive 2D plotting |\n",
    "| Numpy | <img src=\"images/numpy_logo.png\">  | Base N-dimensional array package |\n",
    "| Pandas | <img src=\"images/pandas.jpg\">  | Data structures & analysis |\n"
   ]
  },
  {
   "cell_type": "markdown",
   "metadata": {
    "slideshow": {
     "slide_type": "slide"
    }
   },
   "source": [
    "## External: Other Important\n",
    "\n",
    "|Name |Description|\n",
    "|--|--|\n",
    "|astropy      | Astronomy |\n",
    "|cython       | C extensions |\n",
    "|healpy       | HEALPix |\n",
    "|h5py         | HDF5 |\n",
    "|mpi4py       | Message-passing parallelism |\n",
    "|nose         | Unit testing |\n",
    "|pandas       | Data structures and analysis (competitor to R) |\n",
    "|pep8         | Style checking |\n",
    "|pip          | Package installation |\n",
    "|pyfits       | FITs files |\n",
    "|pyraf        | IRAF |\n",
    "|scikit-learn | Machine learning |\n",
    "|scikit-image | Image processing |\n",
    "|scipy        | Scientific codes |\n",
    "|sympy        | Symbolic mathematics |\n",
    "|virtualenv   | Environment virtualization |\n",
    "|yt           | Simulation visualization |"
   ]
  },
  {
   "cell_type": "markdown",
   "metadata": {
    "slideshow": {
     "slide_type": "slide"
    }
   },
   "source": [
    "## Using Conda\n",
    "\n",
    "    # To install\n",
    "    wget https://repo.continuum.io/miniconda/Miniconda-latest-Linux-x86_64.sh\n",
    "    bash ./Miniconda-latest-Linux-x86_64.sh\n",
    "    conda update conda\n",
    "\n",
    "    # Create project environment\n",
    "    conda create --name myproj\n",
    "    conda install astropy pandas numpy ipython ipython-notebook\n",
    "    \n",
    "    # Create py3 environment\n",
    "    conda create --name py3 python=3\n",
    "    conda install astropy pandas numpy ipython ipython-notebook\n",
    "\n",
    "    # Copy project environment\n",
    "    source activate myproj\n",
    "    conda list -e > requirements.txt\n",
    "    conda create --name myproj2 --file requirements.txt"
   ]
  },
  {
   "cell_type": "markdown",
   "metadata": {
    "slideshow": {
     "slide_type": "slide"
    }
   },
   "source": [
    "## Installing Modules\n",
    "\n",
    "Package manager:\n",
    "* Conda: `conda install <package>`\n",
    "* Macports: `port install <package>`\n",
    "\n",
    "pip:\n",
    "* `pip install <package>`\n",
    "\n",
    "By hand:\n",
    "* `python setup.py install`\n",
    "\n",
    "\n",
    "Installed to: `<sys.prefix>/lib/python<sys.version_info>/site-packages` "
   ]
  },
  {
   "cell_type": "markdown",
   "metadata": {
    "slideshow": {
     "slide_type": "slide"
    }
   },
   "source": [
    "## Repeatable Installations\n",
    "\n",
    "* `pip freeze > requirements.txt`\n",
    "* `pip install -r requirements.txt`"
   ]
  },
  {
   "cell_type": "raw",
   "metadata": {},
   "source": [
    "pip freeze | head\n",
    "altgraph==0.12\n",
    "APLpy==0.9.14\n",
    "astropy==0.4.4\n",
    "ATpy==0.9.7\n",
    "backports==1.0\n",
    "backports.ssl-match-hostname==3.4.0.2\n",
    "Beaker==1.6.4\n",
    "certifi==14.5.14\n",
    "Cython==0.21.2\n",
    "docutils==0.12 "
   ]
  },
  {
   "cell_type": "markdown",
   "metadata": {
    "slideshow": {
     "slide_type": "slide"
    }
   },
   "source": [
    "## Virtual Environments\n",
    "\n",
    "If virtualenv module installed:"
   ]
  },
  {
   "cell_type": "raw",
   "metadata": {},
   "source": [
    "cd my_project_folder\n",
    "virtualenv my_project\n",
    "source my_project/bin/activate\n",
    "pip install -r requirements.txt\n",
    "deactivate\n",
    "rm -rf my_project"
   ]
  },
  {
   "cell_type": "markdown",
   "metadata": {
    "slideshow": {
     "slide_type": "subslide"
    }
   },
   "source": [
    "Can be run from source if neither installed nor install permissions:"
   ]
  },
  {
   "cell_type": "raw",
   "metadata": {},
   "source": [
    "curl -O https://pypi.python.org/packages/source/v/virtualenv/virtualenv.X.X.tar.gz\n",
    "tar -xzf virtualenv-X.X.tar.gz\n",
    "cd virtualenv-X.X\n",
    "python virtualenv.py my_project\n",
    "source my_project/bin/activate\n",
    "deactivate\n",
    "rm -rf my_project"
   ]
  },
  {
   "cell_type": "markdown",
   "metadata": {
    "slideshow": {
     "slide_type": "subslide"
    }
   },
   "source": [
    "Conda has similiar functionality:"
   ]
  },
  {
   "cell_type": "raw",
   "metadata": {},
   "source": [
    "conda create -n ENV anaconda\n",
    "source activate ENV\n",
    "source deactivate\n",
    "conda remove --all -n ENV"
   ]
  },
  {
   "cell_type": "markdown",
   "metadata": {},
   "source": [
    "I use conda's virtual environments to switch between Python v2 & v3 on my laptop, see (http://continuum.io/blog/anaconda-python-3)"
   ]
  },
  {
   "cell_type": "markdown",
   "metadata": {
    "slideshow": {
     "slide_type": "slide"
    }
   },
   "source": [
    "# <a id='Running Python'></a> <center>Running Python</center>"
   ]
  },
  {
   "cell_type": "markdown",
   "metadata": {
    "slideshow": {
     "slide_type": "slide"
    }
   },
   "source": [
    "## Direct Interpreter"
   ]
  },
  {
   "cell_type": "raw",
   "metadata": {},
   "source": [
    "$ # Interactive interpreter\n",
    "$ python\n",
    "Python 2.7.9 (default, Dec 11 2014, 02:36:08)\n",
    "[GCC 4.2.1 Compatible Apple LLVM 5.1 (clang-503.0.40)] on darwin\n",
    "Type \"help\", \"copyright\", \"credits\" or \"license\" for more information.\n",
    ">>> print 'hello'\n",
    "hello\n",
    ">>> exit\n",
    "Use exit() or Ctrl-D (i.e. EOF) to exit\n",
    ">>> exit()"
   ]
  },
  {
   "cell_type": "raw",
   "metadata": {
    "slideshow": {
     "slide_type": "subslide"
    }
   },
   "source": [
    "# Running a script\n",
    "$ cat script.py\n",
    "print 'hello'\n",
    "$ python script.py\n",
    "hello\n",
    "\n",
    "$ # Run command(s)\n",
    "$ VAR=GOODBYE\n",
    "$ python -c \"print ‘hello'; print '$VAR'\"\n",
    "hello\n",
    "GOODBYE\n",
    "\n",
    "$ # Shell redirection\n",
    "$ cat script.py | python\n",
    "hello"
   ]
  },
  {
   "cell_type": "markdown",
   "metadata": {
    "slideshow": {
     "slide_type": "slide"
    }
   },
   "source": [
    "## IPython\n",
    "\n",
    "* Command shell wrapper around the interpreter\n",
    "* Enhanced REPL\n",
    "* Can embed in scripts (== IDL STOP)\n",
    "* Browser-based notebook with inline plots\n",
    "* Parallel execution of commands and scripts\n",
    "\n",
    "Notes:\n",
    "* --pylab option deprecated\n",
    "* Non-Python parts recently spun off into Jupyter"
   ]
  },
  {
   "cell_type": "markdown",
   "metadata": {
    "slideshow": {
     "slide_type": "slide"
    }
   },
   "source": [
    "## IPython - REPL\n",
    "\n",
    "* Command history/searching\n",
    "* Tab completion\n",
    "* ?/??/help() for info/help\n",
    "* ! system escape\n",
    "* Input/output caching (_#)\n",
    "* % “magic” methods:\n",
    "\n",
    "|Command | Description |\n",
    "|--|--|\n",
    "|%run (-t, -d, -p) `<script.py>` |Run script   | \n",
    "|%timeit                       |Time command     |\n",
    "|%cpaste                       |Indented cut and paste |\n",
    "|%who(s)                       |Examine namespace      |"
   ]
  },
  {
   "cell_type": "code",
   "execution_count": null,
   "metadata": {
    "collapsed": false,
    "slideshow": {
     "slide_type": "slide"
    }
   },
   "outputs": [],
   "source": [
    "%lsmagic"
   ]
  },
  {
   "cell_type": "markdown",
   "metadata": {
    "slideshow": {
     "slide_type": "slide"
    }
   },
   "source": [
    "## Jupyter Notebook\n",
    "\n",
    "\"Web-based interactive computational environment where you can combine code execution, text, mathematics, plots and rich media into a single document\" \n",
    "\n",
    "\n",
    "Excels for prototyping, data examination, remote work & presentations\n",
    "\n",
    "\n",
    "Cells can be:\n",
    "* Code\n",
    "* Markdown\n",
    "* Header\n",
    "* Raw\n",
    "\n",
    "Press `'h'` for list of keyboard commands"
   ]
  },
  {
   "cell_type": "markdown",
   "metadata": {
    "slideshow": {
     "slide_type": "slide"
    }
   },
   "source": [
    "## Jupyter Notebook - LaTeX"
   ]
  },
  {
   "cell_type": "code",
   "execution_count": null,
   "metadata": {
    "collapsed": false
   },
   "outputs": [],
   "source": [
    "from IPython.display import Latex\n",
    "Latex(r\"\"\"\\begin{eqnarray}\n",
    "\\nabla \\times \\vec{\\mathbf{B}} -\\, \\frac1c\\, \\frac{\\partial\\vec{\\mathbf{E}}}{\\partial t} & = \\frac{4\\pi}{c}\\vec{\\mathbf{j}} \\\\\n",
    "\\nabla \\cdot \\vec{\\mathbf{E}} & = 4 \\pi \\rho \\\\\n",
    "\\nabla \\times \\vec{\\mathbf{E}}\\, +\\, \\frac1c\\, \\frac{\\partial\\vec{\\mathbf{B}}}{\\partial t} & = \\vec{\\mathbf{0}} \\\\\n",
    "\\nabla \\cdot \\vec{\\mathbf{B}} & = 0 \n",
    "\\end{eqnarray}\"\"\")"
   ]
  },
  {
   "cell_type": "markdown",
   "metadata": {
    "slideshow": {
     "slide_type": "slide"
    }
   },
   "source": [
    "# <a id='Basic Syntax'></a> <center>Basic Syntax</center>"
   ]
  },
  {
   "cell_type": "markdown",
   "metadata": {
    "slideshow": {
     "slide_type": "slide"
    }
   },
   "source": [
    "### Operators - Arithmetic & Assignment\n",
    "\n",
    "|Operator ||Assignment||\n",
    "|:--:|--|:--:|--|\n",
    "|   |   | = | |\n",
    "|+  |   | += | increment |\n",
    "|-  |   | -= | decrement |\n",
    "|`*` |  | `*=` | |\n",
    "|`/` |  | `/=` | |\n",
    "|`//` | floor  | `//=` | |\n",
    "|`%` | modulo | `%=` | |\n",
    "|`**` | power (**NOT `^`**)  | `**=` | |\n",
    "| | | a = b = 1 | multiple |\n",
    "| | | a, b = 1, 2 | |"
   ]
  },
  {
   "cell_type": "code",
   "execution_count": null,
   "metadata": {
    "collapsed": false,
    "slideshow": {
     "slide_type": "-"
    }
   },
   "outputs": [],
   "source": [
    "a = 3\n",
    "a += 27\n",
    "print(a)"
   ]
  },
  {
   "cell_type": "code",
   "execution_count": null,
   "metadata": {
    "collapsed": false
   },
   "outputs": [],
   "source": [
    "q, m = divmod(10,3)\n",
    "print(q, m)"
   ]
  },
  {
   "cell_type": "markdown",
   "metadata": {
    "slideshow": {
     "slide_type": "slide"
    }
   },
   "source": [
    "### Operators - Logical"
   ]
  },
  {
   "cell_type": "raw",
   "metadata": {},
   "source": [
    "and\n",
    "or\n",
    "not"
   ]
  },
  {
   "cell_type": "markdown",
   "metadata": {},
   "source": [
    "### Operators - Membership"
   ]
  },
  {
   "cell_type": "raw",
   "metadata": {},
   "source": [
    "in\n",
    "not in"
   ]
  },
  {
   "cell_type": "code",
   "execution_count": null,
   "metadata": {
    "collapsed": false
   },
   "outputs": [],
   "source": [
    "'i' in 'team'"
   ]
  },
  {
   "cell_type": "markdown",
   "metadata": {
    "slideshow": {
     "slide_type": "slide"
    }
   },
   "source": [
    "### Operators - Identity"
   ]
  },
  {
   "cell_type": "raw",
   "metadata": {},
   "source": [
    "is\n",
    "is not"
   ]
  },
  {
   "cell_type": "code",
   "execution_count": null,
   "metadata": {
    "collapsed": false
   },
   "outputs": [],
   "source": [
    "2 is 2.0"
   ]
  },
  {
   "cell_type": "markdown",
   "metadata": {},
   "source": [
    "### Operators - Comparison"
   ]
  },
  {
   "cell_type": "raw",
   "metadata": {},
   "source": [
    "==\n",
    "!=\n",
    "<\n",
    ">\n",
    "<=\n",
    ">="
   ]
  },
  {
   "cell_type": "markdown",
   "metadata": {
    "slideshow": {
     "slide_type": "slide"
    }
   },
   "source": [
    "### Operators - Bitwise/Binary\n",
    "\n",
    "|Symbol |Operation |\n",
    "|:--:|--|\n",
    "|`&` | AND |\n",
    "|&#124; | OR |\n",
    "|`^` | XOR |\n",
    "|`~` | ones complement |\n",
    "|`<<` | left shift |\n",
    "|`>>` | right shift |\n"
   ]
  },
  {
   "cell_type": "code",
   "execution_count": null,
   "metadata": {
    "collapsed": false
   },
   "outputs": [],
   "source": [
    "9 & 8"
   ]
  },
  {
   "cell_type": "code",
   "execution_count": null,
   "metadata": {
    "collapsed": false
   },
   "outputs": [],
   "source": [
    "print(bin(9))\n",
    "print(bin(8))"
   ]
  },
  {
   "cell_type": "markdown",
   "metadata": {
    "slideshow": {
     "slide_type": "slide"
    }
   },
   "source": [
    "### Datatypes - Constants"
   ]
  },
  {
   "cell_type": "raw",
   "metadata": {},
   "source": [
    "True\n",
    "False\n",
    "None"
   ]
  },
  {
   "cell_type": "markdown",
   "metadata": {},
   "source": [
    "### Datatypes - Numeric\n",
    "\n",
    "|Type| Assignment|Note|\n",
    "|:--:|:--:|--|\n",
    "|`int` | `a = 1` | |\n",
    "|`long` | `a = 1L` | Python2 only - all Python3 ints are long\n",
    "|`float` | `a = 1.` | |\n",
    "|`complex` | `a = 1j` | j can be either lower or upper case\n"
   ]
  },
  {
   "cell_type": "code",
   "execution_count": null,
   "metadata": {
    "collapsed": false
   },
   "outputs": [],
   "source": [
    "a = 1j\n",
    "print(a, type(a)) "
   ]
  },
  {
   "cell_type": "markdown",
   "metadata": {
    "slideshow": {
     "slide_type": "slide"
    }
   },
   "source": [
    "### Datatypes - String\n",
    "\n",
    "Denoted by either single or double quotes, just match consistently:"
   ]
  },
  {
   "cell_type": "code",
   "execution_count": null,
   "metadata": {
    "collapsed": false
   },
   "outputs": [],
   "source": [
    "print('these', \"are\", '\"some\"', \"'strings'\")"
   ]
  },
  {
   "cell_type": "markdown",
   "metadata": {
    "slideshow": {
     "slide_type": "slide"
    }
   },
   "source": [
    "### Datatypes - List\n",
    "\n",
    "General container, denoted by square brackets `[...]`, can contain ***anything***"
   ]
  },
  {
   "cell_type": "code",
   "execution_count": null,
   "metadata": {
    "collapsed": false
   },
   "outputs": [],
   "source": [
    "a = [1, 3.0, 4+5j, 'six' ]\n",
    "print(a)\n",
    "a[0]='blah'\n",
    "print(a)"
   ]
  },
  {
   "cell_type": "markdown",
   "metadata": {
    "slideshow": {
     "slide_type": "slide"
    }
   },
   "source": [
    "### Datatypes - Tuple\n",
    "\n",
    "An ***immutable*** list, that is state cannot be changed after creation. Denoted by round brackets `(...)`"
   ]
  },
  {
   "cell_type": "raw",
   "metadata": {
    "collapsed": false
   },
   "source": [
    "source = ('M56', 289.1479411, 30.1845005)\n",
    "source[0]='m31'"
   ]
  },
  {
   "cell_type": "markdown",
   "metadata": {
    "slideshow": {
     "slide_type": "slide"
    }
   },
   "source": [
    "### Datatypes - Sets\n",
    "\n",
    "There are 2 set types: `set` and `frozenset` (mutable/immutable). Sets are created with curly brackets `{...}` or the function `set()`:"
   ]
  },
  {
   "cell_type": "code",
   "execution_count": null,
   "metadata": {
    "collapsed": false
   },
   "outputs": [],
   "source": [
    "a = {1,2,3}\n",
    "type(a)"
   ]
  },
  {
   "cell_type": "markdown",
   "metadata": {},
   "source": [
    "All the classic set methods are available:\n",
    "\n",
    "a.add\n",
    "a.clear\n",
    "a.copy\n",
    "a.difference\n",
    "a.difference_update\n",
    "a.discard\n",
    "a.intersection\n",
    "a.intersection_update\n",
    "a.isdisjoint\n",
    "a.issubset\n",
    "a.issuperset\n",
    "a.pop\n",
    "a.remove\n",
    "a.symmetric_difference\n",
    "a.symmetric_difference_update\n",
    "a.union\n",
    "a.update"
   ]
  },
  {
   "cell_type": "markdown",
   "metadata": {
    "slideshow": {
     "slide_type": "subslide"
    }
   },
   "source": [
    "The common use of sets is to remove duplicates:"
   ]
  },
  {
   "cell_type": "code",
   "execution_count": null,
   "metadata": {
    "collapsed": false
   },
   "outputs": [],
   "source": [
    "a = [1,1,2,9,2,3,4,5,6,7,6,5,3,2,1]\n",
    "set(a)"
   ]
  },
  {
   "cell_type": "markdown",
   "metadata": {},
   "source": [
    "Note there is also a numpy routine to do the same: "
   ]
  },
  {
   "cell_type": "code",
   "execution_count": null,
   "metadata": {
    "collapsed": false
   },
   "outputs": [],
   "source": [
    "numpy.unique(a)"
   ]
  },
  {
   "cell_type": "markdown",
   "metadata": {
    "slideshow": {
     "slide_type": "slide"
    }
   },
   "source": [
    "### Datatypes - Dictionaries\n",
    "\n",
    "A dictionary contains values accessed by keys: "
   ]
  },
  {
   "cell_type": "code",
   "execution_count": null,
   "metadata": {
    "collapsed": false
   },
   "outputs": [],
   "source": [
    "d = {'key':'value'}"
   ]
  },
  {
   "cell_type": "markdown",
   "metadata": {},
   "source": [
    "They are used for mapping one quantity to something else:"
   ]
  },
  {
   "cell_type": "code",
   "execution_count": null,
   "metadata": {
    "collapsed": false
   },
   "outputs": [],
   "source": [
    "translate = {'red':'rouge',\n",
    "             'green':'vert',\n",
    "             'blue':'bleu',\n",
    "             'black':'noir',\n",
    "             'white':'blanc'}\n",
    "print(translate['red'])"
   ]
  },
  {
   "cell_type": "markdown",
   "metadata": {
    "slideshow": {
     "slide_type": "subslide"
    }
   },
   "source": [
    "Note:\n",
    "* order is not conserved! Use collections.ordereddict if important"
   ]
  },
  {
   "cell_type": "code",
   "execution_count": null,
   "metadata": {
    "collapsed": false
   },
   "outputs": [],
   "source": [
    "print(translate.keys())"
   ]
  },
  {
   "cell_type": "markdown",
   "metadata": {},
   "source": [
    "* Mapping is one way only"
   ]
  },
  {
   "cell_type": "code",
   "execution_count": null,
   "metadata": {
    "collapsed": false
   },
   "outputs": [],
   "source": [
    "print(translate['noir'])"
   ]
  },
  {
   "cell_type": "markdown",
   "metadata": {
    "slideshow": {
     "slide_type": "subslide"
    }
   },
   "source": [
    "Example of dict in action:"
   ]
  },
  {
   "cell_type": "code",
   "execution_count": null,
   "metadata": {
    "collapsed": false
   },
   "outputs": [],
   "source": [
    "hfi = { '100': [ '100-1a','100-1b','100-2a','100-2b',\n",
    "                 '100-3a','100-3b','100-4a','100-4b'  ],\n",
    "        '143': [ '143-1a','143-1b','143-2a','143-2b',\n",
    "                 '143-3a','143-3b','143-4a','143-4b',\n",
    "                 '143-5' ,'143-6' ,'143-7'            ],\n",
    "        '217': [ '217-1' ,'217-2' ,'217-3' ,'217-4' ,\n",
    "                 '217-5a','217-5b','217-6a','217-6b',\n",
    "                 '217-7a','217-7b','217-8a','217-8b'  ],\n",
    "        '353': [ '353-1' ,'353-2' ,'353-3a','353-3b',\n",
    "                 '353-4a','353-4b','353-5a','353-5b',\n",
    "                 '353-6a','353-6b','353-7' ,'353-8'   ],\n",
    "        '545': [ '545-1' ,'545-2' ,         '545-4'   ],\n",
    "        '857': [ '857-1' ,'857-2' ,'857-3' ,'857-4'   ] }\n",
    "\n",
    "print(         hfi.keys()  )\n",
    "print( sorted( hfi.keys() ))\n",
    "print( hfi['857'] )"
   ]
  },
  {
   "cell_type": "markdown",
   "metadata": {
    "slideshow": {
     "slide_type": "slide"
    }
   },
   "source": [
    "## Indexing\n",
    "\n",
    "* First element = 0\n",
    "* Initialize index list with: `range(start, stop, step)`\n",
    "* Index with [start: stop: step]\n",
    "* Negative indices count back from end"
   ]
  },
  {
   "cell_type": "code",
   "execution_count": null,
   "metadata": {
    "collapsed": false
   },
   "outputs": [],
   "source": [
    "a = range(10)\n",
    "print(*a)  # Python3 print(*a) to expand range"
   ]
  },
  {
   "cell_type": "code",
   "execution_count": null,
   "metadata": {
    "collapsed": false,
    "slideshow": {
     "slide_type": "-"
    }
   },
   "outputs": [],
   "source": [
    "a[0]"
   ]
  },
  {
   "cell_type": "code",
   "execution_count": null,
   "metadata": {
    "collapsed": false,
    "slideshow": {
     "slide_type": "subslide"
    }
   },
   "outputs": [],
   "source": [
    "print( *a[3:6] )\n",
    "print( *a[3:] )"
   ]
  },
  {
   "cell_type": "code",
   "execution_count": null,
   "metadata": {
    "collapsed": false
   },
   "outputs": [],
   "source": [
    "print( a[-1] )\n",
    "print( a[-2] )"
   ]
  },
  {
   "cell_type": "code",
   "execution_count": null,
   "metadata": {
    "collapsed": false
   },
   "outputs": [],
   "source": [
    "print( *a[::2]  )\n",
    "print( *a[1::2] )\n",
    "print( *a[::-1] )"
   ]
  },
  {
   "cell_type": "markdown",
   "metadata": {
    "slideshow": {
     "slide_type": "slide"
    }
   },
   "source": [
    "## Numpy (Arrays)\n",
    "\n",
    "Python has array module in standard library but just use numpy for numerical work. There are multiple [array creation routines](http://docs.scipy.org/doc/numpy/reference/routines.array-creation.html). The most important are:\n",
    "\n",
    "|Routine| Description |\n",
    "|--|--|\n",
    "|`numpy.array()` | Convert existing array |\n",
    "|`numpy.arange()` | Evenly-spaced values |\n",
    "|`numpy.zeros()` | Array filled with zeros |\n",
    "|`numpy.full()` | Array filled with specified value|\n",
    "\n",
    "Numpy can parse statements inside indexing brackets (fancy indexing):"
   ]
  },
  {
   "cell_type": "code",
   "execution_count": null,
   "metadata": {
    "collapsed": false
   },
   "outputs": [],
   "source": [
    "import numpy\n",
    "a = numpy.arange(10)\n",
    "print( a )\n",
    "print( a[a > 6] )\n"
   ]
  },
  {
   "cell_type": "markdown",
   "metadata": {
    "slideshow": {
     "slide_type": "subslide"
    }
   },
   "source": [
    "Use record arrays for structured data; can be indexed by field name:"
   ]
  },
  {
   "cell_type": "code",
   "execution_count": null,
   "metadata": {
    "collapsed": false
   },
   "outputs": [],
   "source": [
    "img = numpy.zeros((2,2),\n",
    "    {'names': ('r','g','b'),\n",
    "     'formats': (numpy.float32, numpy.float32, numpy.float32)})\n",
    "\n",
    "print( img['r'] )\n",
    "print() # Empty line\n",
    "img"
   ]
  },
  {
   "cell_type": "markdown",
   "metadata": {
    "slideshow": {
     "slide_type": "slide"
    }
   },
   "source": [
    "## Functions vs Methods\n",
    "\n",
    "Function is independent of explicitly passed data:"
   ]
  },
  {
   "cell_type": "raw",
   "metadata": {},
   "source": [
    "IDL> a='abcde'\n",
    "IDL> strupcase(a)\n",
    "        ABCDE\n",
    "IDL> strlen(a)\n",
    "        5"
   ]
  },
  {
   "cell_type": "code",
   "execution_count": null,
   "metadata": {
    "collapsed": false
   },
   "outputs": [],
   "source": [
    "a='abcde'\n",
    "len(a) # Function"
   ]
  },
  {
   "cell_type": "markdown",
   "metadata": {},
   "source": [
    "Method is associated with implicitly passed object:"
   ]
  },
  {
   "cell_type": "code",
   "execution_count": null,
   "metadata": {
    "collapsed": false
   },
   "outputs": [],
   "source": [
    "a.upper() # Method"
   ]
  },
  {
   "cell_type": "markdown",
   "metadata": {
    "slideshow": {
     "slide_type": "subslide"
    }
   },
   "source": [
    "<font color='red'>***Tab-completion will show you all methods associated with an object!***</font>"
   ]
  },
  {
   "cell_type": "code",
   "execution_count": null,
   "metadata": {
    "collapsed": false
   },
   "outputs": [],
   "source": [
    "a."
   ]
  },
  {
   "cell_type": "raw",
   "metadata": {},
   "source": [
    "a.capitalize    a.join\n",
    "a.casefold      a.ljust\n",
    "a.center        a.lower\n",
    "a.count         a.lstrip\n",
    "a.encode        a.maketrans\n",
    "a.endswith      a.partition\n",
    "a.expandtabs    a.replace\n",
    "a.find          a.rfind\n",
    "a.format        a.rindex\n",
    "a.format_map    a.rjust\n",
    "a.index         a.rpartition\n",
    "a.isalnum       a.rsplit\n",
    "a.isalpha       a.rstrip\n",
    "a.isdecimal     a.split\n",
    "a.isdigit       a.splitlines\n",
    "a.isidentifier  a.startswith\n",
    "a.islower       a.strip\n",
    "a.isnumeric     a.swapcase\n",
    "a.isprintable   a.title\n",
    "a.isspace       a.translate\n",
    "a.istitle       a.upper\n",
    "a.isupper       a.zfill"
   ]
  },
  {
   "cell_type": "markdown",
   "metadata": {
    "slideshow": {
     "slide_type": "subslide"
    }
   },
   "source": [
    "Methods change with object type!"
   ]
  },
  {
   "cell_type": "raw",
   "metadata": {},
   "source": [
    "a = [1,2,3]\n",
    "\n",
    "a.\n",
    "a.append   a.extend   a.remove\n",
    "a.clear    a.index    a.reverse\n",
    "a.copy     a.insert   a.sort\n",
    "a.count    a.pop"
   ]
  },
  {
   "cell_type": "markdown",
   "metadata": {
    "slideshow": {
     "slide_type": "subslide"
    }
   },
   "source": [
    "Everything in Python is an object!"
   ]
  },
  {
   "cell_type": "raw",
   "metadata": {},
   "source": [
    "In [1]: import math\n",
    "\n",
    "In [2]: math.\n",
    "math.acos       math.gcd\n",
    "math.acosh      math.hypot\n",
    "math.asin       math.inf\n",
    "math.asinh      math.isclose\n",
    "math.atan       math.isfinite\n",
    "math.atan2      math.isinf\n",
    "math.atanh      math.isnan\n",
    "math.ceil       math.ldexp\n",
    "math.copysign   math.lgamma\n",
    "math.cos        math.log\n",
    "math.cosh       math.log10\n",
    "math.degrees    math.log1p\n",
    "math.e          math.log2\n",
    "math.erf        math.modf\n",
    "math.erfc       math.nan\n",
    "math.exp        math.pi\n",
    "math.expm1      math.pow\n",
    "math.fabs       math.radians\n",
    "math.factorial  math.sin\n",
    "math.floor      math.sinh\n",
    "math.fmod       math.sqrt\n",
    "math.frexp      math.tan\n",
    "math.fsum       math.tanh\n",
    "math.gamma      math.trunc"
   ]
  },
  {
   "cell_type": "markdown",
   "metadata": {
    "slideshow": {
     "slide_type": "subslide"
    }
   },
   "source": [
    "Note methods can:\n",
    "* accept arguments\n",
    "* stack"
   ]
  },
  {
   "cell_type": "code",
   "execution_count": null,
   "metadata": {
    "collapsed": false
   },
   "outputs": [],
   "source": [
    "'eleven'.count('e')"
   ]
  },
  {
   "cell_type": "code",
   "execution_count": null,
   "metadata": {
    "collapsed": false
   },
   "outputs": [],
   "source": [
    "filename = 'HFI_SkyMap_353-1_2048_R2.00_year-1.fits'\n",
    "filename.strip('.fits').split('_')"
   ]
  },
  {
   "cell_type": "code",
   "execution_count": null,
   "metadata": {
    "collapsed": false
   },
   "outputs": [],
   "source": [
    "instrument, product, detector, nside, version, period = filename.strip('.fits').split('_')\n",
    "print( detector, period )"
   ]
  },
  {
   "cell_type": "markdown",
   "metadata": {
    "slideshow": {
     "slide_type": "subslide"
    }
   },
   "source": [
    "There are only 68 built in functions in 3.5!\n",
    "\n",
    "<img width=\"100%\" src=images/functions.png>"
   ]
  },
  {
   "cell_type": "markdown",
   "metadata": {
    "slideshow": {
     "slide_type": "slide"
    }
   },
   "source": [
    "# <a id='Namespaces'></a> <center>Namespaces</center>"
   ]
  },
  {
   "cell_type": "markdown",
   "metadata": {
    "slideshow": {
     "slide_type": "slide"
    }
   },
   "source": [
    "## Import Statements\n",
    "\n",
    "Most programs start with import statements of the form:"
   ]
  },
  {
   "cell_type": "raw",
   "metadata": {},
   "source": [
    "import module\n",
    "import module as mod\n",
    "from module import *\n",
    "from module import function1, function2\n",
    "from module import function1 as func1"
   ]
  },
  {
   "cell_type": "markdown",
   "metadata": {},
   "source": [
    "These set different mapping of names to objects. Will demonstrate with math module"
   ]
  },
  {
   "cell_type": "code",
   "execution_count": null,
   "metadata": {
    "collapsed": false
   },
   "outputs": [],
   "source": [
    "%reset -f\n",
    "%whos"
   ]
  },
  {
   "cell_type": "code",
   "execution_count": null,
   "metadata": {
    "collapsed": false,
    "slideshow": {
     "slide_type": "subslide"
    }
   },
   "outputs": [],
   "source": [
    "import math\n",
    "%whos\n",
    "print()\n",
    "print( math.pi )"
   ]
  },
  {
   "cell_type": "code",
   "execution_count": null,
   "metadata": {
    "collapsed": false,
    "slideshow": {
     "slide_type": "subslide"
    }
   },
   "outputs": [],
   "source": [
    "%reset -f\n",
    "import math as m\n",
    "%whos\n",
    "print()\n",
    "print( m.pi )"
   ]
  },
  {
   "cell_type": "code",
   "execution_count": null,
   "metadata": {
    "collapsed": false,
    "slideshow": {
     "slide_type": "subslide"
    }
   },
   "outputs": [],
   "source": [
    "%reset -f\n",
    "from math import *\n",
    "%whos\n",
    "print()\n",
    "print( pi )"
   ]
  },
  {
   "cell_type": "code",
   "execution_count": null,
   "metadata": {
    "collapsed": false,
    "slideshow": {
     "slide_type": "subslide"
    }
   },
   "outputs": [],
   "source": [
    "%reset -f\n",
    "from math import pi, e\n",
    "%whos\n",
    "print()\n",
    "print( pi )"
   ]
  },
  {
   "cell_type": "markdown",
   "metadata": {
    "slideshow": {
     "slide_type": "subslide"
    }
   },
   "source": [
    "Renaming useful for mixing/matching modules but beware of overwriting!"
   ]
  },
  {
   "cell_type": "raw",
   "metadata": {},
   "source": [
    "import pyfits\n",
    "\n",
    "replace with:\n",
    "\n",
    "import astropy.io.fits as pyfits "
   ]
  },
  {
   "cell_type": "markdown",
   "metadata": {
    "slideshow": {
     "slide_type": "slide"
    }
   },
   "source": [
    "## Reusing Your Own Code\n",
    "\n",
    "Put common code into a file and import into your namespace (needs to be in same directory or locatable via environment variable PYTHONPATH):"
   ]
  },
  {
   "cell_type": "code",
   "execution_count": null,
   "metadata": {
    "collapsed": false
   },
   "outputs": [],
   "source": [
    "%%bash\n",
    "cat my_lib.py"
   ]
  },
  {
   "cell_type": "code",
   "execution_count": null,
   "metadata": {
    "collapsed": false,
    "slideshow": {
     "slide_type": "subslide"
    }
   },
   "outputs": [],
   "source": [
    "%reset -f\n",
    "from my_lib import hfi\n",
    "%whos\n",
    "hfi"
   ]
  },
  {
   "cell_type": "markdown",
   "metadata": {
    "slideshow": {
     "slide_type": "slide"
    }
   },
   "source": [
    "# <a id='Compound Statements'></a> <center>Compound Statements</center>"
   ]
  },
  {
   "cell_type": "markdown",
   "metadata": {
    "slideshow": {
     "slide_type": "slide"
    }
   },
   "source": [
    "## Whitespace\n",
    "\n",
    "* Python does not enclose compound statements with:\n",
    "  * brackets\n",
    "  * begin/end/do/done\n",
    "* Blocks are started by colon '`:`' then relative indentation\n",
    "* Either tabs or spaces can be used (but not mixed)\n",
    "* PEP8 recommends 4 x space\n",
    "* Get comfortable with selecting & manipulating text blocks in your favorite editor (CTRL-V in VIM)!\n",
    "* Use %cpaste magic to copy/paste into IPython."
   ]
  },
  {
   "cell_type": "raw",
   "metadata": {
    "slideshow": {
     "slide_type": "subslide"
    }
   },
   "source": [
    "statement:\n",
    "    blah\n",
    "    blah\n",
    "    blah\n",
    "    statement:\n",
    "        blah\n",
    "        blah\n",
    "    blah\n",
    "    blah\n",
    "    statement: blah    # One liner\n",
    "    blah\n",
    "blah"
   ]
  },
  {
   "cell_type": "markdown",
   "metadata": {
    "slideshow": {
     "slide_type": "slide"
    }
   },
   "source": [
    "## Functions"
   ]
  },
  {
   "cell_type": "code",
   "execution_count": null,
   "metadata": {
    "collapsed": false
   },
   "outputs": [],
   "source": [
    "def do_nothing(input):\n",
    "    return input\n",
    "    \n",
    "do_nothing('a')"
   ]
  },
  {
   "cell_type": "code",
   "execution_count": null,
   "metadata": {
    "collapsed": false
   },
   "outputs": [],
   "source": [
    "def fizzbuzz(input):\n",
    "    for n in range(1,input+1):\n",
    "        print(\"Fizz\"*(n % 3 == 0) + \"Buzz\"*(n % 5 == 0) or n)\n",
    "    return\n",
    "\n",
    "fizzbuzz(15)"
   ]
  },
  {
   "cell_type": "markdown",
   "metadata": {
    "slideshow": {
     "slide_type": "slide"
    }
   },
   "source": [
    "## Control Flow\n",
    "\n",
    "* while\n",
    "* for\n",
    "* if\n",
    "\n",
    "but no case/switch. Can be modified by:\n",
    "\n",
    "* break\n",
    "* continue\n",
    "* pass"
   ]
  },
  {
   "cell_type": "markdown",
   "metadata": {
    "slideshow": {
     "slide_type": "slide"
    }
   },
   "source": [
    "### While..."
   ]
  },
  {
   "cell_type": "code",
   "execution_count": null,
   "metadata": {
    "collapsed": false
   },
   "outputs": [],
   "source": [
    "count = 0\n",
    "while count < 9:\n",
    "   print( 'The count is:', count )\n",
    "   count += 1\n",
    "\n",
    "print( \"Good bye!\" )"
   ]
  },
  {
   "cell_type": "markdown",
   "metadata": {
    "slideshow": {
     "slide_type": "slide"
    }
   },
   "source": [
    "### For...\n",
    "\n",
    "Collection-controlled, similar to IDL `FOREACH`. To count give range."
   ]
  },
  {
   "cell_type": "code",
   "execution_count": null,
   "metadata": {
    "collapsed": false
   },
   "outputs": [],
   "source": [
    "start = 0\n",
    "stop = 10\n",
    "step = 1\n",
    "\n",
    "for index in range(start, stop, step):\n",
    "    print( index )"
   ]
  },
  {
   "cell_type": "code",
   "execution_count": null,
   "metadata": {
    "collapsed": false,
    "slideshow": {
     "slide_type": "subslide"
    }
   },
   "outputs": [],
   "source": [
    "for filter in ['u', 'g', 'r', 'i', 'z']:\n",
    "    print( filter )"
   ]
  },
  {
   "cell_type": "code",
   "execution_count": null,
   "metadata": {
    "collapsed": false,
    "slideshow": {
     "slide_type": "subslide"
    }
   },
   "outputs": [],
   "source": [
    "filters = ['u', 'g', 'r', 'i', 'z']\n",
    "for filter in filters:\n",
    "    print( filter )"
   ]
  },
  {
   "cell_type": "code",
   "execution_count": null,
   "metadata": {
    "collapsed": false,
    "slideshow": {
     "slide_type": "subslide"
    }
   },
   "outputs": [],
   "source": [
    "for index, filter in enumerate(filters):\n",
    "    print( index, filter )"
   ]
  },
  {
   "cell_type": "markdown",
   "metadata": {
    "slideshow": {
     "slide_type": "slide"
    }
   },
   "source": [
    "### If..."
   ]
  },
  {
   "cell_type": "code",
   "execution_count": null,
   "metadata": {
    "collapsed": false
   },
   "outputs": [],
   "source": [
    "age = int(input('How old are you? '))\n",
    "\n",
    "if age <= 2:\n",
    "    print(' free')\n",
    "elif 2 < age < 13:\n",
    "    print(' child fare')\n",
    "else:\n",
    "    print(' adult fare')"
   ]
  },
  {
   "cell_type": "markdown",
   "metadata": {
    "slideshow": {
     "slide_type": "slide"
    }
   },
   "source": [
    "# <a id='File I/O'></a> <center>File I/O</center>"
   ]
  },
  {
   "cell_type": "markdown",
   "metadata": {
    "slideshow": {
     "slide_type": "slide"
    }
   },
   "source": [
    "## ASCII\n",
    "\n",
    "Python can natively open/read/write but there are more powerful tools in many modules."
   ]
  },
  {
   "cell_type": "code",
   "execution_count": null,
   "metadata": {
    "collapsed": false
   },
   "outputs": [],
   "source": [
    "! cat ascii.txt\n",
    "\n",
    "f = open('ascii.txt','r')\n",
    "data = f.readlines()\n",
    "f.close()\n",
    "\n",
    "print()\n",
    "print( data )"
   ]
  },
  {
   "cell_type": "code",
   "execution_count": null,
   "metadata": {
    "collapsed": false,
    "slideshow": {
     "slide_type": "subslide"
    }
   },
   "outputs": [],
   "source": [
    "f = open('ascii.txt','a') \n",
    "f.write('# Appending comment to file') \n",
    "f.close()\n",
    "\n",
    "! cat ascii.txt"
   ]
  },
  {
   "cell_type": "code",
   "execution_count": null,
   "metadata": {
    "collapsed": false,
    "slideshow": {
     "slide_type": "subslide"
    }
   },
   "outputs": [],
   "source": [
    "import numpy\n",
    "data = numpy.genfromtxt('ascii.txt', delimiter=',', dtype=None, names=True)\n",
    "data"
   ]
  },
  {
   "cell_type": "code",
   "execution_count": null,
   "metadata": {
    "collapsed": false
   },
   "outputs": [],
   "source": [
    "data['id']"
   ]
  },
  {
   "cell_type": "code",
   "execution_count": null,
   "metadata": {
    "collapsed": false
   },
   "outputs": [],
   "source": [
    "data['id' == 'M56']['ra']"
   ]
  },
  {
   "cell_type": "markdown",
   "metadata": {
    "slideshow": {
     "slide_type": "slide"
    }
   },
   "source": [
    "## FITS\n",
    "\n",
    "PyFITS has been incorporated into astropy.io.fits, but the API remains the same.\n",
    "\n",
    "The three most useful commands for reading in data are:\n",
    "* `pyfits.info(<filename>)`\n",
    "* `pyfits.getheader(<filename>,<extension>)`\n",
    "* `pyfits.getdata(<filename>,<extension>)` "
   ]
  },
  {
   "cell_type": "code",
   "execution_count": null,
   "metadata": {
    "collapsed": false
   },
   "outputs": [],
   "source": [
    "import astropy.io.fits as pyfits \n",
    "filename = 'm51a_2mass.fits'\n",
    "pyfits.info(filename)"
   ]
  },
  {
   "cell_type": "code",
   "execution_count": null,
   "metadata": {
    "collapsed": false,
    "slideshow": {
     "slide_type": "subslide"
    }
   },
   "outputs": [],
   "source": [
    "hdr = pyfits.getheader(filename,0)\n",
    "print( hdr['ORIGIN'] )\n",
    "hdr"
   ]
  },
  {
   "cell_type": "code",
   "execution_count": null,
   "metadata": {
    "collapsed": false,
    "slideshow": {
     "slide_type": "subslide"
    }
   },
   "outputs": [],
   "source": [
    "data = pyfits.getdata(filename,0)\n",
    "\n",
    "%matplotlib notebook\n",
    "from matplotlib.pyplot import *\n",
    "imshow(data)"
   ]
  },
  {
   "cell_type": "markdown",
   "metadata": {
    "slideshow": {
     "slide_type": "slide"
    }
   },
   "source": [
    "## Temporary files (pickling)"
   ]
  },
  {
   "cell_type": "code",
   "execution_count": null,
   "metadata": {
    "collapsed": false
   },
   "outputs": [],
   "source": [
    "# Python 2: import cPickle as pickle\n",
    "import pickle\n",
    "\n",
    "data = range(10)\n",
    "pickle.dump(data, open('test.pkl', 'wb'))\n",
    "\n",
    "del data\n",
    "\n",
    "pickle.load(open('test.pkl', 'rb'))"
   ]
  },
  {
   "cell_type": "markdown",
   "metadata": {
    "slideshow": {
     "slide_type": "slide"
    }
   },
   "source": [
    "## IDL savefiles"
   ]
  },
  {
   "cell_type": "raw",
   "metadata": {},
   "source": [
    "IDL> data = ['do','you','really','want','to','do','this','?']\n",
    "IDL> save, data, filename='idl.sav'"
   ]
  },
  {
   "cell_type": "code",
   "execution_count": null,
   "metadata": {
    "collapsed": false
   },
   "outputs": [],
   "source": [
    "import scipy.io\n",
    "scipy.io.idl.readsav('idl.sav') "
   ]
  },
  {
   "cell_type": "markdown",
   "metadata": {
    "slideshow": {
     "slide_type": "slide"
    }
   },
   "source": [
    "# <a id='Plotting'></a> <center>Plotting</center>"
   ]
  },
  {
   "cell_type": "markdown",
   "metadata": {},
   "source": [
    "## Initialization "
   ]
  },
  {
   "cell_type": "code",
   "execution_count": null,
   "metadata": {
    "collapsed": false
   },
   "outputs": [],
   "source": [
    "%matplotlib notebook\n",
    "from matplotlib.pyplot import *\n",
    "import numpy"
   ]
  },
  {
   "cell_type": "markdown",
   "metadata": {
    "slideshow": {
     "slide_type": "subslide"
    }
   },
   "source": [
    "## Simple Lines/Saving"
   ]
  },
  {
   "cell_type": "code",
   "execution_count": null,
   "metadata": {
    "collapsed": false
   },
   "outputs": [],
   "source": [
    "plot([1,2,3,4])\n",
    "#show() if in command line/ipython\n",
    "savefig('images/line_plot.png')\n",
    "#clf() if in command line/ipython"
   ]
  },
  {
   "cell_type": "markdown",
   "metadata": {
    "slideshow": {
     "slide_type": "subslide"
    }
   },
   "source": [
    "Saved image:\n",
    "\n",
    "<img src='images/line_plot.png'>"
   ]
  },
  {
   "cell_type": "markdown",
   "metadata": {
    "slideshow": {
     "slide_type": "subslide"
    }
   },
   "source": [
    "## Multiple Lines\n",
    "\n",
    "<img src=\"images/matplotlib_table.png\" width=\"80%\">"
   ]
  },
  {
   "cell_type": "code",
   "execution_count": null,
   "metadata": {
    "collapsed": false,
    "slideshow": {
     "slide_type": "subslide"
    }
   },
   "outputs": [],
   "source": [
    "# evenly sampled time at 200ms intervals\n",
    "t = numpy.arange(0., 5., 0.2)\n",
    "\n",
    "# red dashes, blue squares and green triangles\n",
    "plot(t, t, 'r--', t, t**2, 'bs', t, t**3, 'g<')"
   ]
  },
  {
   "cell_type": "markdown",
   "metadata": {
    "slideshow": {
     "slide_type": "subslide"
    }
   },
   "source": [
    "## Subplots"
   ]
  },
  {
   "cell_type": "code",
   "execution_count": null,
   "metadata": {
    "collapsed": false
   },
   "outputs": [],
   "source": [
    "def f(t):\n",
    "    return numpy.exp(-t) * numpy.cos(2*numpy.pi*t)\n",
    "\n",
    "t1 = numpy.arange(0.0, 5.0, 0.1)\n",
    "t2 = numpy.arange(0.0, 5.0, 0.02)\n",
    "\n",
    "figure(1)\n",
    "subplot(211)\n",
    "plot(t1, f(t1), 'bo', t2, f(t2), 'k')\n",
    "\n",
    "subplot(212)\n",
    "plot(t2, numpy.cos(2*np.pi*t2), 'r--')"
   ]
  },
  {
   "cell_type": "markdown",
   "metadata": {
    "slideshow": {
     "slide_type": "subslide"
    }
   },
   "source": [
    "## Histogram/Labels"
   ]
  },
  {
   "cell_type": "code",
   "execution_count": null,
   "metadata": {
    "collapsed": false,
    "slideshow": {
     "slide_type": "-"
    }
   },
   "outputs": [],
   "source": [
    "hist([0, 1, 2, 2, 3, 3, 3, 4, 4, 4, 10])\n",
    "xlabel('Value')\n",
    "ylabel('Count')\n",
    "title('This is a Histogram')"
   ]
  },
  {
   "cell_type": "markdown",
   "metadata": {
    "slideshow": {
     "slide_type": "subslide"
    }
   },
   "source": [
    "## Gallery"
   ]
  },
  {
   "cell_type": "code",
   "execution_count": null,
   "metadata": {
    "collapsed": false,
    "scrolled": true
   },
   "outputs": [],
   "source": [
    "from IPython.display import HTML\n",
    "HTML('<iframe src=http://matplotlib.org/gallery.html width=100% height=600></iframe>')"
   ]
  },
  {
   "cell_type": "markdown",
   "metadata": {
    "slideshow": {
     "slide_type": "slide"
    }
   },
   "source": [
    "# <a id='Tips, Tricks & Gotchas'></a> <center>Tips, Tricks & Gotchas</center>"
   ]
  },
  {
   "cell_type": "markdown",
   "metadata": {
    "slideshow": {
     "slide_type": "slide"
    }
   },
   "source": [
    "## Embedding (== IDL STOP)"
   ]
  },
  {
   "cell_type": "code",
   "execution_count": null,
   "metadata": {
    "collapsed": false
   },
   "outputs": [],
   "source": [
    "!cat ipython_stop.py"
   ]
  },
  {
   "cell_type": "raw",
   "metadata": {
    "slideshow": {
     "slide_type": "subslide"
    }
   },
   "source": [
    "$ python ipython_stop.py\n",
    "Entering script\n",
    "\n",
    "In [1]: %whos\n",
    "Variable   Type        Data/Info\n",
    "--------------------------------\n",
    "a          int         1\n",
    "b          int         1\n",
    "embed      function    <function embed at 0x102140cf8>"
   ]
  },
  {
   "cell_type": "raw",
   "metadata": {
    "slideshow": {
     "slide_type": "subslide"
    }
   },
   "source": [
    "In [2]: exit\n",
    "\n",
    "\n",
    "In [3]: %whos\n",
    "Variable   Type        Data/Info\n",
    "--------------------------------\n",
    "a          int         1\n",
    "b          int         2\n",
    "embed      function    <function embed at 0x102140cf8>"
   ]
  },
  {
   "cell_type": "raw",
   "metadata": {
    "slideshow": {
     "slide_type": "subslide"
    }
   },
   "source": [
    "In [4]: a='one'\n",
    "In [5]: exit\n",
    "\n",
    "\n",
    "In [6]: %whos\n",
    "Variable   Type        Data/Info\n",
    "--------------------------------\n",
    "a          str         one\n",
    "b          int         3\n",
    "embed      function    <function embed at 0x102140cf8>\n",
    "\n",
    "In [7]: exit\n",
    "\n",
    "Exiting - goodbye!"
   ]
  },
  {
   "cell_type": "markdown",
   "metadata": {
    "slideshow": {
     "slide_type": "slide"
    }
   },
   "source": [
    "## Copying Variables"
   ]
  },
  {
   "cell_type": "code",
   "execution_count": null,
   "metadata": {
    "collapsed": false
   },
   "outputs": [],
   "source": [
    "a = 1\n",
    "b = a\n",
    "\n",
    "print( 'a = %s : %s\\nb = %s : %s' %(a, id(a), b, id(b)) )"
   ]
  },
  {
   "cell_type": "markdown",
   "metadata": {},
   "source": [
    "<img src=\"images/copy.png\" width=\"400\">"
   ]
  },
  {
   "cell_type": "code",
   "execution_count": null,
   "metadata": {
    "collapsed": false,
    "slideshow": {
     "slide_type": "subslide"
    }
   },
   "outputs": [],
   "source": [
    "b = 2    # Reassign\n",
    "\n",
    "print( 'a = %s : %s\\nb = %s : %s' %(a, id(a), b, id(b)) )"
   ]
  },
  {
   "cell_type": "code",
   "execution_count": null,
   "metadata": {
    "collapsed": false,
    "slideshow": {
     "slide_type": "subslide"
    }
   },
   "outputs": [],
   "source": [
    "a = [1,2]\n",
    "b = a\n",
    "\n",
    "print( 'a = %s : %s\\nb = %s : %s' %(a, id(a), b, id(b)) )"
   ]
  },
  {
   "cell_type": "code",
   "execution_count": null,
   "metadata": {
    "collapsed": false
   },
   "outputs": [],
   "source": [
    "b[0] = 3    # Update\n",
    "\n",
    "print( 'a = %s : %s\\nb = %s : %s' %(a, id(a), b, id(b)) )"
   ]
  },
  {
   "cell_type": "code",
   "execution_count": null,
   "metadata": {
    "collapsed": false,
    "slideshow": {
     "slide_type": "subslide"
    }
   },
   "outputs": [],
   "source": [
    "import copy\n",
    "b = copy.copy(a)\n",
    "\n",
    "print( 'a = %s : %s\\nb = %s : %s' %(a, id(a), b, id(b)) )"
   ]
  },
  {
   "cell_type": "code",
   "execution_count": null,
   "metadata": {
    "collapsed": false
   },
   "outputs": [],
   "source": [
    "b[0] = 4\n",
    "\n",
    "print( 'a = %s : %s\\nb = %s : %s' %(a, id(a), b, id(b)) )"
   ]
  },
  {
   "cell_type": "markdown",
   "metadata": {
    "slideshow": {
     "slide_type": "slide"
    }
   },
   "source": [
    "## List != (Numpy) Array\n",
    "\n",
    "* Lists can contain anything\n",
    "* Arrays contain a single type\n",
    "* Arrays are continuous in memory\n",
    "* Array operations are far more efficient"
   ]
  },
  {
   "cell_type": "code",
   "execution_count": null,
   "metadata": {
    "collapsed": false,
    "slideshow": {
     "slide_type": "subslide"
    }
   },
   "outputs": [],
   "source": [
    "a = [1,2,3]\n",
    "b = [4,5,6]\n",
    "\n",
    "a + b    # Appends"
   ]
  },
  {
   "cell_type": "code",
   "execution_count": null,
   "metadata": {
    "collapsed": false,
    "slideshow": {
     "slide_type": "-"
    }
   },
   "outputs": [],
   "source": [
    "import numpy as np\n",
    "\n",
    "c = np.array([7,8,9])\n",
    "d = np.array([10,11,12])\n",
    "\n",
    "c + d    # Elementwise"
   ]
  },
  {
   "cell_type": "code",
   "execution_count": null,
   "metadata": {
    "collapsed": false,
    "slideshow": {
     "slide_type": "subslide"
    }
   },
   "outputs": [],
   "source": [
    "a + c    # Elementwise !!!"
   ]
  },
  {
   "cell_type": "code",
   "execution_count": null,
   "metadata": {
    "collapsed": false
   },
   "outputs": [],
   "source": [
    "[1,2,'three'] + c    # Cannot convert"
   ]
  },
  {
   "cell_type": "markdown",
   "metadata": {
    "slideshow": {
     "slide_type": "slide"
    }
   },
   "source": [
    "# <a id='To Conclude'></a> <center>To Conclude</center>"
   ]
  },
  {
   "cell_type": "markdown",
   "metadata": {},
   "source": [
    "* I hope that this has been a useful glimpse into Python\n",
    "* Both the language itself ...\n",
    "* ... and the scientific/technical ecosystem around it\n",
    "* There is (of course) much, much more:\n",
    "    - handling errors\n",
    "    - OOP & classes\n",
    "    - generators\n",
    "    - ...\n",
    "* Plus it is still very much evolving!"
   ]
  },
  {
   "cell_type": "markdown",
   "metadata": {
    "slideshow": {
     "slide_type": "slide"
    }
   },
   "source": [
    "**April 28, 2016, 1:00-3:00 pm<br>\n",
    "III. Astronomical data reduction and analysis in Python (David Shupe)**\n",
    "- Astropy: vision, history and plans\n",
    "- Accessing astronomical archives within Python \n",
    "- Reading and manipulating tables and images\n",
    "- Exploratory data analysis (visualization and statistics) \n",
    "- World Coordinate Systems and coordinate handling\n",
    "- Photutils for photometry\n",
    "\n",
    "**May 5, 2016, 1:00-3:00 pm<br>\n",
    "IV. Advanced visualization, model fitting, and data apps (David Shupe)**\n",
    "- Interactive plots: zooming and panning, linking and brushing \n",
    "- Visualizing millions of points\n",
    "- Simple linear regression \n",
    "- Introduction to scikit-learn for machine learning \n",
    "- Building lightweight specialized data apps"
   ]
  }
 ],
 "metadata": {
  "celltoolbar": "Slideshow",
  "kernelspec": {
   "display_name": "Python 3",
   "language": "python",
   "name": "python3"
  },
  "language_info": {
   "codemirror_mode": {
    "name": "ipython",
    "version": 3
   },
   "file_extension": ".py",
   "mimetype": "text/x-python",
   "name": "python",
   "nbconvert_exporter": "python",
   "pygments_lexer": "ipython3",
   "version": "3.5.1"
  }
 },
 "nbformat": 4,
 "nbformat_minor": 0
}
